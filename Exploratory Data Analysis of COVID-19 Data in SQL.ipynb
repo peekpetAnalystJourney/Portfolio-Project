{
    "metadata": {
        "kernelspec": {
            "name": "SQL",
            "display_name": "SQL",
            "language": "sql"
        },
        "language_info": {
            "name": "sql",
            "version": ""
        }
    },
    "nbformat_minor": 2,
    "nbformat": 4,
    "cells": [
        {
            "cell_type": "markdown",
            "source": [
                "I will be SQL to review the global COVID 19 data (Source: [https://ourworldindata.org/covid-deaths](https://ourworldindata.org/covid-deaths)) and providing some insights.\n",
                "\n",
                "Key skills: Window Function, Aggregate Function, CTE, Data Type Conversion \n",
                "\n",
                "Jupyter Notebook\n",
                "\n",
                "I am only displaying top 5 row for easier viewing in this notebook\n",
                "\n",
                "1\\. First Let's look at the Total Cases, Total Death and Total Vaccination data for Canada\n",
                "\n",
                "<span style=\"color:#008000;\">-- We have null total vaccination values in the most recent 5 days. vaccination data reporting appears to be lagging cases and death by 5 days</span>"
            ],
            "metadata": {
                "azdata_cell_guid": "02667298-408e-4ae9-87d6-17b2a5925060"
            },
            "attachments": {}
        },
        {
            "cell_type": "code",
            "source": [
                "select top (5) date,[location], total_cases, total_deaths, total_vaccinations\n",
                "FROM dbo.covid \n",
                "where location = 'Canada'\n",
                "order by 4 desc\n",
                ""
            ],
            "metadata": {
                "azdata_cell_guid": "54e7a5f4-7a4a-41b0-bf49-60743cfce8bf",
                "language": "sql",
                "tags": []
            },
            "outputs": [
                {
                    "output_type": "display_data",
                    "data": {
                        "text/html": "(5 rows affected)"
                    },
                    "metadata": {}
                },
                {
                    "output_type": "display_data",
                    "data": {
                        "text/html": "Total execution time: 00:00:00.115"
                    },
                    "metadata": {}
                },
                {
                    "output_type": "execute_result",
                    "metadata": {},
                    "execution_count": 19,
                    "data": {
                        "application/vnd.dataresource+json": {
                            "schema": {
                                "fields": [
                                    {
                                        "name": "date"
                                    },
                                    {
                                        "name": "location"
                                    },
                                    {
                                        "name": "total_cases"
                                    },
                                    {
                                        "name": "total_deaths"
                                    },
                                    {
                                        "name": "total_vaccinations"
                                    }
                                ]
                            },
                            "data": [
                                {
                                    "0": "02-08-2022",
                                    "1": "Canada",
                                    "2": "4099374",
                                    "3": "42969",
                                    "4": "NULL"
                                },
                                {
                                    "0": "31-07-2022",
                                    "1": "Canada",
                                    "2": "4092722",
                                    "3": "42951",
                                    "4": "NULL"
                                },
                                {
                                    "0": "01-08-2022",
                                    "1": "Canada",
                                    "2": "4093713",
                                    "3": "42951",
                                    "4": "NULL"
                                },
                                {
                                    "0": "30-07-2022",
                                    "1": "Canada",
                                    "2": "4091778",
                                    "3": "42949",
                                    "4": "NULL"
                                },
                                {
                                    "0": "29-07-2022",
                                    "1": "Canada",
                                    "2": "4090442",
                                    "3": "42937",
                                    "4": "NULL"
                                }
                            ]
                        },
                        "text/html": [
                            "<table>",
                            "<tr><th>date</th><th>location</th><th>total_cases</th><th>total_deaths</th><th>total_vaccinations</th></tr>",
                            "<tr><td>02-08-2022</td><td>Canada</td><td>4099374</td><td>42969</td><td>NULL</td></tr>",
                            "<tr><td>31-07-2022</td><td>Canada</td><td>4092722</td><td>42951</td><td>NULL</td></tr>",
                            "<tr><td>01-08-2022</td><td>Canada</td><td>4093713</td><td>42951</td><td>NULL</td></tr>",
                            "<tr><td>30-07-2022</td><td>Canada</td><td>4091778</td><td>42949</td><td>NULL</td></tr>",
                            "<tr><td>29-07-2022</td><td>Canada</td><td>4090442</td><td>42937</td><td>NULL</td></tr>",
                            "</table>"
                        ]
                    }
                }
            ],
            "execution_count": 19
        },
        {
            "cell_type": "markdown",
            "source": [
                "2\\. Let's look at aggregate summation of cases at each location to see the location with the higest cases. \n",
                "\n",
                "I have intentionally decided to recreate the total\\_cases from new\\_cases.\n",
                "\n",
                "US has the highest total cases while Canada is ranked 32 in terms of total cases.\n",
                "\n",
                "Some countries do not have any reported covid cases."
            ],
            "metadata": {
                "language": "sql",
                "azdata_cell_guid": "4158c332-6a48-44e6-a8b3-a8de53e093be"
            },
            "attachments": {}
        },
        {
            "cell_type": "code",
            "source": [
                "\n",
                "select top(5) [location],SUM(new_cases) As TotalCases,SUM(new_deaths) As TotalDeath,SUM(new_vaccinations) As Totalvaccination\n",
                "FROM dbo.covid\n",
                "-- continent data included as part of location\n",
                "where continent is not null\n",
                "group by location\n",
                "order by 3 DESC"
            ],
            "metadata": {
                "azdata_cell_guid": "3728960e-c603-4793-8a17-2d3423b72ac1",
                "language": "sql",
                "tags": []
            },
            "outputs": [
                {
                    "output_type": "display_data",
                    "data": {
                        "text/html": "(5 rows affected)"
                    },
                    "metadata": {}
                },
                {
                    "output_type": "display_data",
                    "data": {
                        "text/html": "Total execution time: 00:00:00.094"
                    },
                    "metadata": {}
                },
                {
                    "output_type": "execute_result",
                    "metadata": {},
                    "execution_count": 20,
                    "data": {
                        "application/vnd.dataresource+json": {
                            "schema": {
                                "fields": [
                                    {
                                        "name": "location"
                                    },
                                    {
                                        "name": "TotalCases"
                                    },
                                    {
                                        "name": "TotalDeath"
                                    },
                                    {
                                        "name": "Totalvaccination"
                                    }
                                ]
                            },
                            "data": [
                                {
                                    "0": "United States",
                                    "1": "91585520",
                                    "2": "1031240",
                                    "3": "603657696"
                                },
                                {
                                    "0": "Brazil",
                                    "1": "33785346",
                                    "2": "679093",
                                    "3": "446216563"
                                },
                                {
                                    "0": "India",
                                    "1": "44067144",
                                    "2": "519105",
                                    "3": "1959202084"
                                },
                                {
                                    "0": "Russia",
                                    "1": "18350864",
                                    "2": "374765",
                                    "3": "148805839"
                                },
                                {
                                    "0": "Mexico",
                                    "1": "6783380",
                                    "2": "320838",
                                    "3": "150702693"
                                }
                            ]
                        },
                        "text/html": [
                            "<table>",
                            "<tr><th>location</th><th>TotalCases</th><th>TotalDeath</th><th>Totalvaccination</th></tr>",
                            "<tr><td>United States</td><td>91585520</td><td>1031240</td><td>603657696</td></tr>",
                            "<tr><td>Brazil</td><td>33785346</td><td>679093</td><td>446216563</td></tr>",
                            "<tr><td>India</td><td>44067144</td><td>519105</td><td>1959202084</td></tr>",
                            "<tr><td>Russia</td><td>18350864</td><td>374765</td><td>148805839</td></tr>",
                            "<tr><td>Mexico</td><td>6783380</td><td>320838</td><td>150702693</td></tr>",
                            "</table>"
                        ]
                    }
                }
            ],
            "execution_count": 20
        },
        {
            "cell_type": "markdown",
            "source": [
                "3\\. Let's look at the list of countries without any reported COVID cases.\n",
                "\n",
                "There are 15 countries with NULL reported COVID total cases\n",
                "\n",
                "We need to investigate further to ensure the total\\_cases column is error\\_free"
            ],
            "metadata": {
                "azdata_cell_guid": "94e645b7-7060-46b0-b38e-36929e21f36a"
            },
            "attachments": {}
        },
        {
            "cell_type": "code",
            "source": [
                "--first lets create a temporary table from previous example\n",
                "Drop TABLE if exists TempCovid\n",
                "CREATE Table TempCovid(Country NVARCHAR(255),TotalCases numeric)\n",
                "insert into TempCovid\n",
                "SELECT location, SUM(new_cases) As TotalCases\n",
                "FROM dbo.covid\n",
                "where continent is not null\n",
                "GROUP by location\n",
                "\n",
                "-- lets filter out country with NULL total cases\n",
                "Select top (5) *\n",
                "FROM TempCovid\n",
                "where TotalCases is NULL"
            ],
            "metadata": {
                "azdata_cell_guid": "f34b05e7-1cca-4907-9835-2439dacd9fc8",
                "language": "sql"
            },
            "outputs": [
                {
                    "output_type": "display_data",
                    "data": {
                        "text/html": "(231 rows affected)"
                    },
                    "metadata": {}
                },
                {
                    "output_type": "display_data",
                    "data": {
                        "text/html": "(0 rows affected)"
                    },
                    "metadata": {}
                },
                {
                    "output_type": "display_data",
                    "data": {
                        "text/html": "Total execution time: 00:00:00.204"
                    },
                    "metadata": {}
                },
                {
                    "output_type": "execute_result",
                    "metadata": {},
                    "execution_count": 21,
                    "data": {
                        "application/vnd.dataresource+json": {
                            "schema": {
                                "fields": [
                                    {
                                        "name": "Country"
                                    },
                                    {
                                        "name": "TotalCases"
                                    }
                                ]
                            },
                            "data": []
                        },
                        "text/html": [
                            "<table>",
                            "<tr><th>Country</th><th>TotalCases</th></tr>",
                            "</table>"
                        ]
                    }
                }
            ],
            "execution_count": 21
        },
        {
            "cell_type": "markdown",
            "source": [
                "4\\. Lets see the trend of ratio of covid cases and death per population in Canada\n",
                "\n",
                "There are null data in the existing total\\_death column for Jan 23, 2020 to March 08, 2020."
            ],
            "metadata": {
                "azdata_cell_guid": "463237fd-69ef-4781-a83a-b515f750584a"
            },
            "attachments": {}
        },
        {
            "cell_type": "code",
            "source": [
                "SELECT top (5) date, location,population,total_cases,total_deaths,(cast(total_cases as float)/population)*100 As PercentCases, (total_deaths/population)*100 As percentdeath\n",
                "from dbo.covid\n",
                "where location in ('Canada')\n",
                "order by 5 desc\n",
                ""
            ],
            "metadata": {
                "azdata_cell_guid": "a5fe3553-4f67-4252-a54f-23b6ce5401a5",
                "language": "sql",
                "tags": []
            },
            "outputs": [
                {
                    "output_type": "display_data",
                    "data": {
                        "text/html": "(5 rows affected)"
                    },
                    "metadata": {}
                },
                {
                    "output_type": "display_data",
                    "data": {
                        "text/html": "Total execution time: 00:00:00.061"
                    },
                    "metadata": {}
                },
                {
                    "output_type": "execute_result",
                    "metadata": {},
                    "execution_count": 22,
                    "data": {
                        "application/vnd.dataresource+json": {
                            "schema": {
                                "fields": [
                                    {
                                        "name": "date"
                                    },
                                    {
                                        "name": "location"
                                    },
                                    {
                                        "name": "population"
                                    },
                                    {
                                        "name": "total_cases"
                                    },
                                    {
                                        "name": "total_deaths"
                                    },
                                    {
                                        "name": "PercentCases"
                                    },
                                    {
                                        "name": "percentdeath"
                                    }
                                ]
                            },
                            "data": [
                                {
                                    "0": "02-08-2022",
                                    "1": "Canada",
                                    "2": "38155012",
                                    "3": "4099374",
                                    "4": "42969",
                                    "5": "10.743998717652087",
                                    "6": "0.11261692172970618"
                                },
                                {
                                    "0": "31-07-2022",
                                    "1": "Canada",
                                    "2": "38155012",
                                    "3": "4092722",
                                    "4": "42951",
                                    "5": "10.726564572958331",
                                    "6": "0.11256974575188183"
                                },
                                {
                                    "0": "01-08-2022",
                                    "1": "Canada",
                                    "2": "38155012",
                                    "3": "4093713",
                                    "4": "42951",
                                    "5": "10.729161872626328",
                                    "6": "0.11256974575188183"
                                },
                                {
                                    "0": "30-07-2022",
                                    "1": "Canada",
                                    "2": "38155012",
                                    "3": "4091778",
                                    "4": "42949",
                                    "5": "10.72409045501021",
                                    "6": "0.112564503976568"
                                },
                                {
                                    "0": "29-07-2022",
                                    "1": "Canada",
                                    "2": "38155012",
                                    "3": "4090442",
                                    "4": "42937",
                                    "5": "10.720588949100579",
                                    "6": "0.1125330533246851"
                                }
                            ]
                        },
                        "text/html": [
                            "<table>",
                            "<tr><th>date</th><th>location</th><th>population</th><th>total_cases</th><th>total_deaths</th><th>PercentCases</th><th>percentdeath</th></tr>",
                            "<tr><td>02-08-2022</td><td>Canada</td><td>38155012</td><td>4099374</td><td>42969</td><td>10.743998717652087</td><td>0.11261692172970618</td></tr>",
                            "<tr><td>31-07-2022</td><td>Canada</td><td>38155012</td><td>4092722</td><td>42951</td><td>10.726564572958331</td><td>0.11256974575188183</td></tr>",
                            "<tr><td>01-08-2022</td><td>Canada</td><td>38155012</td><td>4093713</td><td>42951</td><td>10.729161872626328</td><td>0.11256974575188183</td></tr>",
                            "<tr><td>30-07-2022</td><td>Canada</td><td>38155012</td><td>4091778</td><td>42949</td><td>10.72409045501021</td><td>0.112564503976568</td></tr>",
                            "<tr><td>29-07-2022</td><td>Canada</td><td>38155012</td><td>4090442</td><td>42937</td><td>10.720588949100579</td><td>0.1125330533246851</td></tr>",
                            "</table>"
                        ]
                    }
                }
            ],
            "execution_count": 22
        },
        {
            "cell_type": "markdown",
            "source": [
                "5\\. Lets try to correct the null values in new\\_deaths and new cases in the canadian data"
            ],
            "metadata": {
                "language": "sql",
                "azdata_cell_guid": "b247f5d9-305b-44cd-986e-0f28d1a6c7c4"
            },
            "attachments": {}
        },
        {
            "cell_type": "code",
            "source": [
                "-- lets filter out the new_deaths and new_cases with null data in Canada\n",
                "select top (5) date, new_cases, new_deaths\n",
                "from covid\n",
                "where new_deaths is null or new_cases is null"
            ],
            "metadata": {
                "language": "sql",
                "azdata_cell_guid": "03cbce43-ab24-4fcf-a7da-195357fb93cb"
            },
            "outputs": [
                {
                    "output_type": "display_data",
                    "data": {
                        "text/html": "(0 rows affected)"
                    },
                    "metadata": {}
                },
                {
                    "output_type": "display_data",
                    "data": {
                        "text/html": "Total execution time: 00:00:00.084"
                    },
                    "metadata": {}
                },
                {
                    "output_type": "execute_result",
                    "metadata": {},
                    "execution_count": 23,
                    "data": {
                        "application/vnd.dataresource+json": {
                            "schema": {
                                "fields": [
                                    {
                                        "name": "date"
                                    },
                                    {
                                        "name": "new_cases"
                                    },
                                    {
                                        "name": "new_deaths"
                                    }
                                ]
                            },
                            "data": []
                        },
                        "text/html": [
                            "<table>",
                            "<tr><th>date</th><th>new_cases</th><th>new_deaths</th></tr>",
                            "</table>"
                        ]
                    }
                }
            ],
            "execution_count": 23
        },
        {
            "cell_type": "code",
            "source": [
                "\n",
                "\n",
                "\n",
                "-- lets start by creating a new table from the original table\n",
                "Drop TABLE if exists TempCovid1\n",
                "CREATE Table TempCovid1(location NVARCHAR(255),pop numeric, new_cases numeric,new_deaths numeric)\n",
                "insert into TempCovid1\n",
                "SELECT location, population, new_cases, new_deaths\n",
                "FROM dbo.covid\n",
                "where location = 'Canada'\n",
                "\n",
                "-- let's change all the null values in new_deaths to zero so that it doesn't affect our aggregate\n",
                "UPDATE TempCovid1\n",
                "SET new_deaths = 0\n",
                "WHERE new_deaths is NULL\n",
                "\n",
                "-- let's change all the null values in new_deaths to zero so that it doesn't affect our aggregate\n",
                "UPDATE TempCovid1\n",
                "SET new_cases = 0\n",
                "WHERE new_cases is NULL\n",
                "\n",
                "-- let's recalculate the summation of cases and death\n",
                "select avg(pop), sum(new_cases) as TotalCases, sum(new_deaths) as TotalDeaths, (SUM(new_cases)/max(pop))*100 As PercentCases, (sum(new_deaths)/max(pop))*100 As percentdeath\n",
                "FROM TempCovid1\n",
                "\n",
                "-- data cleaning is neccesary for this dataset\n",
                ""
            ],
            "metadata": {
                "language": "sql",
                "azdata_cell_guid": "121ef02e-96fd-4770-a199-4a7d1bb403fa",
                "tags": []
            },
            "outputs": [
                {
                    "output_type": "display_data",
                    "data": {
                        "text/html": "(923 rows affected)"
                    },
                    "metadata": {}
                },
                {
                    "output_type": "display_data",
                    "data": {
                        "text/html": "(0 rows affected)"
                    },
                    "metadata": {}
                },
                {
                    "output_type": "display_data",
                    "data": {
                        "text/html": "(0 rows affected)"
                    },
                    "metadata": {}
                },
                {
                    "output_type": "display_data",
                    "data": {
                        "text/html": "(1 row affected)"
                    },
                    "metadata": {}
                },
                {
                    "output_type": "display_data",
                    "data": {
                        "text/html": "Total execution time: 00:00:00.233"
                    },
                    "metadata": {}
                },
                {
                    "output_type": "execute_result",
                    "metadata": {},
                    "execution_count": 24,
                    "data": {
                        "application/vnd.dataresource+json": {
                            "schema": {
                                "fields": [
                                    {
                                        "name": "(No column name)"
                                    },
                                    {
                                        "name": "TotalCases"
                                    },
                                    {
                                        "name": "TotalDeaths"
                                    },
                                    {
                                        "name": "PercentCases"
                                    },
                                    {
                                        "name": "percentdeath"
                                    }
                                ]
                            },
                            "data": [
                                {
                                    "0": "38155012.000000",
                                    "1": "4107420",
                                    "2": "43329",
                                    "3": "10.765000",
                                    "4": "0.113500"
                                }
                            ]
                        },
                        "text/html": [
                            "<table>",
                            "<tr><th>(No column name)</th><th>TotalCases</th><th>TotalDeaths</th><th>PercentCases</th><th>percentdeath</th></tr>",
                            "<tr><td>38155012.000000</td><td>4107420</td><td>43329</td><td>10.765000</td><td>0.113500</td></tr>",
                            "</table>"
                        ]
                    }
                }
            ],
            "execution_count": 24
        },
        {
            "cell_type": "markdown",
            "source": [
                "6\\. let's compare total vaccinated with total of death and cases across all locations"
            ],
            "metadata": {
                "azdata_cell_guid": "7d645851-13df-4120-a571-e1a8fd25f183"
            },
            "attachments": {}
        },
        {
            "cell_type": "code",
            "source": [
                "--lets update the original covid table to correct the impact of the null values on aggregation\n",
                "update covid\n",
                "set new_cases = 0\n",
                "where new_cases is null\n",
                "\n",
                "update covid\n",
                "set new_deaths = 0\n",
                "where new_deaths is null\n",
                "\n",
                "update covid\n",
                "set new_vaccinations = 0\n",
                "where new_vaccinations is null\n",
                "\n",
                "\n",
                "select top (5) date, location, population,new_cases, new_deaths, SUM(new_vaccinations) OVER (Partition by Location Order by location, date) as TotalVaccinated, SUM(new_cases) OVER (Partition by Location Order by location, date) as TotalCases1, SUM(new_deaths) OVER (Partition by Location Order by location, date) as TotalDeaths1\n",
                "from covid\n",
                "where [continent] is not NULL\n",
                "order by 2\n",
                ""
            ],
            "metadata": {
                "azdata_cell_guid": "c879fd05-f84a-4489-86df-eadd24c8c429",
                "language": "sql",
                "tags": []
            },
            "outputs": [
                {
                    "output_type": "display_data",
                    "data": {
                        "text/html": "(0 rows affected)"
                    },
                    "metadata": {}
                },
                {
                    "output_type": "display_data",
                    "data": {
                        "text/html": "(0 rows affected)"
                    },
                    "metadata": {}
                },
                {
                    "output_type": "display_data",
                    "data": {
                        "text/html": "(0 rows affected)"
                    },
                    "metadata": {}
                },
                {
                    "output_type": "display_data",
                    "data": {
                        "text/html": "(5 rows affected)"
                    },
                    "metadata": {}
                },
                {
                    "output_type": "display_data",
                    "data": {
                        "text/html": "Total execution time: 00:00:00.465"
                    },
                    "metadata": {}
                },
                {
                    "output_type": "execute_result",
                    "metadata": {},
                    "execution_count": 25,
                    "data": {
                        "application/vnd.dataresource+json": {
                            "schema": {
                                "fields": [
                                    {
                                        "name": "date"
                                    },
                                    {
                                        "name": "location"
                                    },
                                    {
                                        "name": "population"
                                    },
                                    {
                                        "name": "new_cases"
                                    },
                                    {
                                        "name": "new_deaths"
                                    },
                                    {
                                        "name": "TotalVaccinated"
                                    },
                                    {
                                        "name": "TotalCases1"
                                    },
                                    {
                                        "name": "TotalDeaths1"
                                    }
                                ]
                            },
                            "data": [
                                {
                                    "0": "01-01-2021",
                                    "1": "Afghanistan",
                                    "2": "40099462",
                                    "3": "183",
                                    "4": "12",
                                    "5": "0",
                                    "6": "183",
                                    "7": "12"
                                },
                                {
                                    "0": "01-01-2022",
                                    "1": "Afghanistan",
                                    "2": "40099462",
                                    "3": "23",
                                    "4": "0",
                                    "5": "0",
                                    "6": "206",
                                    "7": "12"
                                },
                                {
                                    "0": "01-02-2021",
                                    "1": "Afghanistan",
                                    "2": "40099462",
                                    "3": "36",
                                    "4": "4",
                                    "5": "0",
                                    "6": "242",
                                    "7": "16"
                                },
                                {
                                    "0": "01-02-2022",
                                    "1": "Afghanistan",
                                    "2": "40099462",
                                    "3": "629",
                                    "4": "3",
                                    "5": "0",
                                    "6": "871",
                                    "7": "19"
                                },
                                {
                                    "0": "01-03-2020",
                                    "1": "Afghanistan",
                                    "2": "40099462",
                                    "3": "0",
                                    "4": "0",
                                    "5": "0",
                                    "6": "871",
                                    "7": "19"
                                }
                            ]
                        },
                        "text/html": [
                            "<table>",
                            "<tr><th>date</th><th>location</th><th>population</th><th>new_cases</th><th>new_deaths</th><th>TotalVaccinated</th><th>TotalCases1</th><th>TotalDeaths1</th></tr>",
                            "<tr><td>01-01-2021</td><td>Afghanistan</td><td>40099462</td><td>183</td><td>12</td><td>0</td><td>183</td><td>12</td></tr>",
                            "<tr><td>01-01-2022</td><td>Afghanistan</td><td>40099462</td><td>23</td><td>0</td><td>0</td><td>206</td><td>12</td></tr>",
                            "<tr><td>01-02-2021</td><td>Afghanistan</td><td>40099462</td><td>36</td><td>4</td><td>0</td><td>242</td><td>16</td></tr>",
                            "<tr><td>01-02-2022</td><td>Afghanistan</td><td>40099462</td><td>629</td><td>3</td><td>0</td><td>871</td><td>19</td></tr>",
                            "<tr><td>01-03-2020</td><td>Afghanistan</td><td>40099462</td><td>0</td><td>0</td><td>0</td><td>871</td><td>19</td></tr>",
                            "</table>"
                        ]
                    }
                }
            ],
            "execution_count": 25
        },
        {
            "cell_type": "markdown",
            "source": [
                "7\\. Let's use CTE to look at percentage of cases, deaths and vaccinations across all location"
            ],
            "metadata": {
                "azdata_cell_guid": "a4d65b0b-59e9-49f6-82f0-2aedf295a68d"
            },
            "attachments": {}
        },
        {
            "cell_type": "code",
            "source": [
                "with New_Covid_Table(date,location,population,new_cases, new_deaths, TotalVaccinated, TotalCases1, TotalDeaths1)\n",
                "as (select date, location, population,new_cases, new_deaths, SUM(new_vaccinations) OVER (Partition by Location Order by location, date) as TotalVaccinated, SUM(new_cases) OVER (Partition by Location Order by location, date) as TotalCases1, SUM(new_deaths) OVER (Partition by Location Order by location, date) as TotalDeaths1\n",
                "from covid\n",
                "where [continent] is not NULL\n",
                ")\n",
                "\n",
                "select top(5) *, (TotalVaccinated/population)*100 as PercentVaccinated\n",
                ", (TotalCases1/population)*100 as PercentCases\n",
                ", (TotalDeaths1/population)*100 as PercentDeaths\n",
                "FROM New_Covid_Table\n",
                "ORDER by 2"
            ],
            "metadata": {
                "azdata_cell_guid": "2be1feac-4541-4893-9e93-be13b63d4101",
                "language": "sql"
            },
            "outputs": [
                {
                    "output_type": "display_data",
                    "data": {
                        "text/html": "(5 rows affected)"
                    },
                    "metadata": {}
                },
                {
                    "output_type": "display_data",
                    "data": {
                        "text/html": "Total execution time: 00:00:00.202"
                    },
                    "metadata": {}
                },
                {
                    "output_type": "execute_result",
                    "metadata": {},
                    "execution_count": 26,
                    "data": {
                        "application/vnd.dataresource+json": {
                            "schema": {
                                "fields": [
                                    {
                                        "name": "date"
                                    },
                                    {
                                        "name": "location"
                                    },
                                    {
                                        "name": "population"
                                    },
                                    {
                                        "name": "new_cases"
                                    },
                                    {
                                        "name": "new_deaths"
                                    },
                                    {
                                        "name": "TotalVaccinated"
                                    },
                                    {
                                        "name": "TotalCases1"
                                    },
                                    {
                                        "name": "TotalDeaths1"
                                    },
                                    {
                                        "name": "PercentVaccinated"
                                    },
                                    {
                                        "name": "PercentCases"
                                    },
                                    {
                                        "name": "PercentDeaths"
                                    }
                                ]
                            },
                            "data": [
                                {
                                    "0": "01-01-2021",
                                    "1": "Afghanistan",
                                    "2": "40099462",
                                    "3": "183",
                                    "4": "12",
                                    "5": "0",
                                    "6": "183",
                                    "7": "12",
                                    "8": "0",
                                    "9": "0.00045636522504965277",
                                    "10": "2.9925588527846085E-05"
                                },
                                {
                                    "0": "01-01-2022",
                                    "1": "Afghanistan",
                                    "2": "40099462",
                                    "3": "23",
                                    "4": "0",
                                    "5": "0",
                                    "6": "206",
                                    "7": "12",
                                    "8": "0",
                                    "9": "0.0005137226030613578",
                                    "10": "2.9925588527846085E-05"
                                },
                                {
                                    "0": "01-02-2021",
                                    "1": "Afghanistan",
                                    "2": "40099462",
                                    "3": "36",
                                    "4": "4",
                                    "5": "0",
                                    "6": "242",
                                    "7": "16",
                                    "8": "0",
                                    "9": "0.000603499368644896",
                                    "10": "3.990078470379478E-05"
                                },
                                {
                                    "0": "01-02-2022",
                                    "1": "Afghanistan",
                                    "2": "40099462",
                                    "3": "629",
                                    "4": "3",
                                    "5": "0",
                                    "6": "871",
                                    "7": "19",
                                    "8": "0",
                                    "9": "0.0021720989673128283",
                                    "10": "4.73821818357563E-05"
                                },
                                {
                                    "0": "01-03-2020",
                                    "1": "Afghanistan",
                                    "2": "40099462",
                                    "3": "0",
                                    "4": "0",
                                    "5": "0",
                                    "6": "871",
                                    "7": "19",
                                    "8": "0",
                                    "9": "0.0021720989673128283",
                                    "10": "4.73821818357563E-05"
                                }
                            ]
                        },
                        "text/html": [
                            "<table>",
                            "<tr><th>date</th><th>location</th><th>population</th><th>new_cases</th><th>new_deaths</th><th>TotalVaccinated</th><th>TotalCases1</th><th>TotalDeaths1</th><th>PercentVaccinated</th><th>PercentCases</th><th>PercentDeaths</th></tr>",
                            "<tr><td>01-01-2021</td><td>Afghanistan</td><td>40099462</td><td>183</td><td>12</td><td>0</td><td>183</td><td>12</td><td>0</td><td>0.00045636522504965277</td><td>2.9925588527846085E-05</td></tr>",
                            "<tr><td>01-01-2022</td><td>Afghanistan</td><td>40099462</td><td>23</td><td>0</td><td>0</td><td>206</td><td>12</td><td>0</td><td>0.0005137226030613578</td><td>2.9925588527846085E-05</td></tr>",
                            "<tr><td>01-02-2021</td><td>Afghanistan</td><td>40099462</td><td>36</td><td>4</td><td>0</td><td>242</td><td>16</td><td>0</td><td>0.000603499368644896</td><td>3.990078470379478E-05</td></tr>",
                            "<tr><td>01-02-2022</td><td>Afghanistan</td><td>40099462</td><td>629</td><td>3</td><td>0</td><td>871</td><td>19</td><td>0</td><td>0.0021720989673128283</td><td>4.73821818357563E-05</td></tr>",
                            "<tr><td>01-03-2020</td><td>Afghanistan</td><td>40099462</td><td>0</td><td>0</td><td>0</td><td>871</td><td>19</td><td>0</td><td>0.0021720989673128283</td><td>4.73821818357563E-05</td></tr>",
                            "</table>"
                        ]
                    }
                }
            ],
            "execution_count": 26
        },
        {
            "cell_type": "markdown",
            "source": [
                "8\\. Let's create a view for the data for use in visualization tool"
            ],
            "metadata": {
                "azdata_cell_guid": "e0a6e1d3-6d26-4a16-8b4a-68d4df103231"
            },
            "attachments": {}
        },
        {
            "cell_type": "code",
            "source": [
                "Create VIEW Covid_Data\n",
                "AS\n",
                "select date, location, population,new_cases, new_deaths, \n",
                "SUM(new_vaccinations) OVER (Partition by Location Order by location, date) as TotalVaccinated, \n",
                "SUM(new_cases) OVER (Partition by Location Order by location, date) as TotalCases1, \n",
                "SUM(new_deaths) OVER (Partition by Location Order by location, date) as TotalDeaths1\n",
                "from covid\n",
                "where [continent] is not NULL\n",
                "\n",
                ""
            ],
            "metadata": {
                "azdata_cell_guid": "5207e564-6d39-43cd-80af-deab827255e1",
                "language": "sql"
            },
            "outputs": [
                {
                    "output_type": "error",
                    "evalue": "Msg 2714, Level 16, State 3, Procedure Covid_Data, Line 1\nThere is already an object named 'Covid_Data' in the database.",
                    "ename": "",
                    "traceback": []
                },
                {
                    "output_type": "display_data",
                    "data": {
                        "text/html": "Total execution time: 00:00:00.015"
                    },
                    "metadata": {}
                }
            ],
            "execution_count": 27
        },
        {
            "cell_type": "markdown",
            "source": [
                "9\\. Summary of Percent Cases and Percent Death per continent"
            ],
            "metadata": {
                "azdata_cell_guid": "6cc59132-d9a5-4f30-a04c-5f1ab72d3868"
            },
            "attachments": {}
        },
        {
            "cell_type": "code",
            "source": [
                "--lets update the original covid table to correct the impact of the null values on aggregation\n",
                "update covid\n",
                "set new_cases = 0\n",
                "where new_cases is null\n",
                "\n",
                "update covid\n",
                "set new_deaths = 0\n",
                "where new_deaths is null\n",
                "\n",
                "update covid\n",
                "set new_vaccinations = 0\n",
                "where new_vaccinations is null\n",
                "\n",
                "select location, max((convert(float,total_cases)/population)*100) as PercentCases,max((convert(float,total_deaths)/population)*100) as PercentDeaths\n",
                "from covid\n",
                "where continent is null and location in ('Africa','Asia','Europe','Oceania','North America','South America')\n",
                "group by [location]"
            ],
            "metadata": {
                "azdata_cell_guid": "eaa0a979-c47f-4d2a-ac42-c86afc7b4701",
                "language": "sql",
                "tags": []
            },
            "outputs": [
                {
                    "output_type": "display_data",
                    "data": {
                        "text/html": "(0 rows affected)"
                    },
                    "metadata": {}
                },
                {
                    "output_type": "display_data",
                    "data": {
                        "text/html": "(0 rows affected)"
                    },
                    "metadata": {}
                },
                {
                    "output_type": "display_data",
                    "data": {
                        "text/html": "(0 rows affected)"
                    },
                    "metadata": {}
                },
                {
                    "output_type": "display_data",
                    "data": {
                        "text/html": "Warning: Null value is eliminated by an aggregate or other SET operation."
                    },
                    "metadata": {}
                },
                {
                    "output_type": "display_data",
                    "data": {
                        "text/html": "(6 rows affected)"
                    },
                    "metadata": {}
                },
                {
                    "output_type": "display_data",
                    "data": {
                        "text/html": "Total execution time: 00:00:00.607"
                    },
                    "metadata": {}
                },
                {
                    "output_type": "execute_result",
                    "execution_count": 1,
                    "data": {
                        "application/vnd.dataresource+json": {
                            "schema": {
                                "fields": [
                                    {
                                        "name": "location"
                                    },
                                    {
                                        "name": "PercentCases"
                                    },
                                    {
                                        "name": "PercentDeaths"
                                    }
                                ]
                            },
                            "data": [
                                {
                                    "0": "North America",
                                    "1": "18.229948259131362",
                                    "2": "0.24790091363566946"
                                },
                                {
                                    "0": "Asia",
                                    "1": "3.5469752930916982",
                                    "2": "0.030979673068838108"
                                },
                                {
                                    "0": "Africa",
                                    "1": "0.8807645200484564",
                                    "2": "0.01838947483829227"
                                },
                                {
                                    "0": "Oceania",
                                    "1": "25.83492066802824",
                                    "2": "0.03676859622493795"
                                },
                                {
                                    "0": "South America",
                                    "1": "14.349771141897646",
                                    "2": "0.3032980228187298"
                                },
                                {
                                    "0": "Europe",
                                    "1": "29.151152877620817",
                                    "2": "0.2517367069827728"
                                }
                            ]
                        },
                        "text/html": "<table><tr><th>location</th><th>PercentCases</th><th>PercentDeaths</th></tr><tr><td>North America</td><td>18.229948259131362</td><td>0.24790091363566946</td></tr><tr><td>Asia</td><td>3.5469752930916982</td><td>0.030979673068838108</td></tr><tr><td>Africa</td><td>0.8807645200484564</td><td>0.01838947483829227</td></tr><tr><td>Oceania</td><td>25.83492066802824</td><td>0.03676859622493795</td></tr><tr><td>South America</td><td>14.349771141897646</td><td>0.3032980228187298</td></tr><tr><td>Europe</td><td>29.151152877620817</td><td>0.2517367069827728</td></tr></table>"
                    },
                    "metadata": {}
                }
            ],
            "execution_count": 1
        }
    ]
}