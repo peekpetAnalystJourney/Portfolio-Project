{
    "metadata": {
        "kernelspec": {
            "name": "SQL",
            "display_name": "SQL",
            "language": "sql"
        },
        "language_info": {
            "name": "sql",
            "version": ""
        }
    },
    "nbformat_minor": 2,
    "nbformat": 4,
    "cells": [
        {
            "cell_type": "markdown",
            "source": [
                "This presents the eploration of the superstore sales data in SQL. We will attempt check if there is any data cleaning neccessary\n",
                "\n",
                "Source of data is kaggle: [https://www.kaggle.com/blurredmachine/superstore-time-series-dataset](https://www.kaggle.com/blurredmachine/superstore-time-series-dataset)\n",
                "\n",
                "Jupyter Notebook\n",
                "\n",
                "I am only displaying top 5 rows in each table for easier viewing in this notebook  \n",
                "\n",
                "Key tasks inspired by projectpro.io\n",
                "\n",
                "- Use the LEAD window function to create a new column sales\\_next that displays the sales of the next row in the dataset. This function will help you quickly compare a given row’s values and values in the next row.\n",
                "    \n",
                "- Create a new column sales\\_previous to display the values of the row above a given row.\n",
                "    \n",
                "- Rank the data based on sales in descending order using the RANK function.\n",
                "    \n",
                "- Use common SQL commands and aggregate functions to show the monthly and daily sales, discount, and quantity averages.\n",
                "    \n",
                "- Evaluate moving averages using the window functions"
            ],
            "metadata": {
                "azdata_cell_guid": "358b2c18-868e-46c5-99fc-153f19d12f2d"
            },
            "attachments": {}
        },
        {
            "cell_type": "markdown",
            "source": [
                "1\\. let's just explore the data by looking at all the variables"
            ],
            "metadata": {
                "azdata_cell_guid": "5fb92fba-a5c0-4259-a39b-97e4eca384fd"
            },
            "attachments": {}
        },
        {
            "cell_type": "code",
            "source": [
                "select top (5) *\n",
                "from superstore"
            ],
            "metadata": {
                "azdata_cell_guid": "24695be4-e0fa-4678-b3b9-0b69fdd88e00",
                "language": "sql"
            },
            "outputs": [
                {
                    "output_type": "display_data",
                    "data": {
                        "text/html": "(5 rows affected)"
                    },
                    "metadata": {}
                },
                {
                    "output_type": "display_data",
                    "data": {
                        "text/html": "Total execution time: 00:00:00.189"
                    },
                    "metadata": {}
                },
                {
                    "output_type": "execute_result",
                    "metadata": {},
                    "execution_count": 3,
                    "data": {
                        "application/vnd.dataresource+json": {
                            "schema": {
                                "fields": [
                                    {
                                        "name": "Row_ID"
                                    },
                                    {
                                        "name": "Order_ID"
                                    },
                                    {
                                        "name": "Order_Date"
                                    },
                                    {
                                        "name": "Ship_Date"
                                    },
                                    {
                                        "name": "Ship_Mode"
                                    },
                                    {
                                        "name": "Customer_ID"
                                    },
                                    {
                                        "name": "Customer_Name"
                                    },
                                    {
                                        "name": "Segment"
                                    },
                                    {
                                        "name": "Country"
                                    },
                                    {
                                        "name": "City"
                                    },
                                    {
                                        "name": "State"
                                    },
                                    {
                                        "name": "Postal_Code"
                                    },
                                    {
                                        "name": "Region"
                                    },
                                    {
                                        "name": "Product_ID"
                                    },
                                    {
                                        "name": "Category"
                                    },
                                    {
                                        "name": "Sub_Category"
                                    },
                                    {
                                        "name": "Product_Name"
                                    },
                                    {
                                        "name": "Sales"
                                    },
                                    {
                                        "name": "Quantity"
                                    },
                                    {
                                        "name": "Discount"
                                    }
                                ]
                            },
                            "data": [
                                {
                                    "0": "8002",
                                    "1": "CA-2015-110870",
                                    "2": "2015-12-12",
                                    "3": "2015-12-15",
                                    "4": "First Class",
                                    "5": "KD-16270",
                                    "6": "Karen Daniels",
                                    "7": "Consumer",
                                    "8": "United States",
                                    "9": "Los Angeles",
                                    "10": "California",
                                    "11": "90032",
                                    "12": "West",
                                    "13": "TEC-AC-10002926",
                                    "14": "Technology",
                                    "15": "Accessories",
                                    "16": "Logitech Wireless Marathon Mouse M705",
                                    "17": "299.94",
                                    "18": "6",
                                    "19": "0"
                                },
                                {
                                    "0": "8003",
                                    "1": "CA-2015-110870",
                                    "2": "2015-12-12",
                                    "3": "2015-12-15",
                                    "4": "First Class",
                                    "5": "KD-16270",
                                    "6": "Karen Daniels",
                                    "7": "Consumer",
                                    "8": "United States",
                                    "9": "Los Angeles",
                                    "10": "California",
                                    "11": "90032",
                                    "12": "West",
                                    "13": "OFF-SU-10001225",
                                    "14": "Office Supplies",
                                    "15": "Supplies",
                                    "16": "Staple remover",
                                    "17": "25.76",
                                    "18": "7",
                                    "19": "0"
                                },
                                {
                                    "0": "8004",
                                    "1": "CA-2014-143210",
                                    "2": "2014-12-01",
                                    "3": "2014-12-03",
                                    "4": "First Class",
                                    "5": "AA-10645",
                                    "6": "Anna Andreadi",
                                    "7": "Consumer",
                                    "8": "United States",
                                    "9": "Lowell",
                                    "10": "Massachusetts",
                                    "11": "1852",
                                    "12": "East",
                                    "13": "TEC-PH-10004434",
                                    "14": "Technology",
                                    "15": "Phones",
                                    "16": "Cisco IP Phone 7961G VoIP phone - Dark gray",
                                    "17": "271.9",
                                    "18": "2",
                                    "19": "0"
                                },
                                {
                                    "0": "8005",
                                    "1": "CA-2014-143210",
                                    "2": "2014-12-01",
                                    "3": "2014-12-03",
                                    "4": "First Class",
                                    "5": "AA-10645",
                                    "6": "Anna Andreadi",
                                    "7": "Consumer",
                                    "8": "United States",
                                    "9": "Lowell",
                                    "10": "Massachusetts",
                                    "11": "1852",
                                    "12": "East",
                                    "13": "FUR-FU-10003878",
                                    "14": "Furniture",
                                    "15": "Furnishings",
                                    "16": "Linden 10\" Round Wall Clock, Black",
                                    "17": "45.839999999999996",
                                    "18": "3",
                                    "19": "0"
                                },
                                {
                                    "0": "8006",
                                    "1": "CA-2014-143210",
                                    "2": "2014-12-01",
                                    "3": "2014-12-03",
                                    "4": "First Class",
                                    "5": "AA-10645",
                                    "6": "Anna Andreadi",
                                    "7": "Consumer",
                                    "8": "United States",
                                    "9": "Lowell",
                                    "10": "Massachusetts",
                                    "11": "1852",
                                    "12": "East",
                                    "13": "FUR-FU-10002268",
                                    "14": "Furniture",
                                    "15": "Furnishings",
                                    "16": "Ultra Door Push Plate",
                                    "17": "9.82",
                                    "18": "2",
                                    "19": "0"
                                }
                            ]
                        },
                        "text/html": [
                            "<table>",
                            "<tr><th>Row_ID</th><th>Order_ID</th><th>Order_Date</th><th>Ship_Date</th><th>Ship_Mode</th><th>Customer_ID</th><th>Customer_Name</th><th>Segment</th><th>Country</th><th>City</th><th>State</th><th>Postal_Code</th><th>Region</th><th>Product_ID</th><th>Category</th><th>Sub_Category</th><th>Product_Name</th><th>Sales</th><th>Quantity</th><th>Discount</th></tr>",
                            "<tr><td>8002</td><td>CA-2015-110870</td><td>2015-12-12</td><td>2015-12-15</td><td>First Class</td><td>KD-16270</td><td>Karen Daniels</td><td>Consumer</td><td>United States</td><td>Los Angeles</td><td>California</td><td>90032</td><td>West</td><td>TEC-AC-10002926</td><td>Technology</td><td>Accessories</td><td>Logitech Wireless Marathon Mouse M705</td><td>299.94</td><td>6</td><td>0</td></tr>",
                            "<tr><td>8003</td><td>CA-2015-110870</td><td>2015-12-12</td><td>2015-12-15</td><td>First Class</td><td>KD-16270</td><td>Karen Daniels</td><td>Consumer</td><td>United States</td><td>Los Angeles</td><td>California</td><td>90032</td><td>West</td><td>OFF-SU-10001225</td><td>Office Supplies</td><td>Supplies</td><td>Staple remover</td><td>25.76</td><td>7</td><td>0</td></tr>",
                            "<tr><td>8004</td><td>CA-2014-143210</td><td>2014-12-01</td><td>2014-12-03</td><td>First Class</td><td>AA-10645</td><td>Anna Andreadi</td><td>Consumer</td><td>United States</td><td>Lowell</td><td>Massachusetts</td><td>1852</td><td>East</td><td>TEC-PH-10004434</td><td>Technology</td><td>Phones</td><td>Cisco IP Phone 7961G VoIP phone - Dark gray</td><td>271.9</td><td>2</td><td>0</td></tr>",
                            "<tr><td>8005</td><td>CA-2014-143210</td><td>2014-12-01</td><td>2014-12-03</td><td>First Class</td><td>AA-10645</td><td>Anna Andreadi</td><td>Consumer</td><td>United States</td><td>Lowell</td><td>Massachusetts</td><td>1852</td><td>East</td><td>FUR-FU-10003878</td><td>Furniture</td><td>Furnishings</td><td>Linden 10&quot; Round Wall Clock, Black</td><td>45.839999999999996</td><td>3</td><td>0</td></tr>",
                            "<tr><td>8006</td><td>CA-2014-143210</td><td>2014-12-01</td><td>2014-12-03</td><td>First Class</td><td>AA-10645</td><td>Anna Andreadi</td><td>Consumer</td><td>United States</td><td>Lowell</td><td>Massachusetts</td><td>1852</td><td>East</td><td>FUR-FU-10002268</td><td>Furniture</td><td>Furnishings</td><td>Ultra Door Push Plate</td><td>9.82</td><td>2</td><td>0</td></tr>",
                            "</table>"
                        ]
                    }
                }
            ],
            "execution_count": 3
        },
        {
            "cell_type": "markdown",
            "source": [
                "2\\. Let's check to ensure there is no null data in sales, discount and quantity that we plan to aggregate.\n",
                "\n",
                "There is no null data"
            ],
            "metadata": {
                "azdata_cell_guid": "d9947de7-6b1a-46e3-b31a-9ba07c040483"
            },
            "attachments": {}
        },
        {
            "cell_type": "code",
            "source": [
                "select top (5) sales,discount,quantity\n",
                "from superstore\n",
                "where sales is null or discount is null or quantity is null"
            ],
            "metadata": {
                "azdata_cell_guid": "8d373b83-a5b0-4aa9-97e8-9acd123ad5af",
                "language": "sql"
            },
            "outputs": [
                {
                    "output_type": "display_data",
                    "data": {
                        "text/html": "(0 rows affected)"
                    },
                    "metadata": {}
                },
                {
                    "output_type": "display_data",
                    "data": {
                        "text/html": "Total execution time: 00:00:00.037"
                    },
                    "metadata": {}
                },
                {
                    "output_type": "execute_result",
                    "metadata": {},
                    "execution_count": 4,
                    "data": {
                        "application/vnd.dataresource+json": {
                            "schema": {
                                "fields": [
                                    {
                                        "name": "sales"
                                    },
                                    {
                                        "name": "discount"
                                    },
                                    {
                                        "name": "quantity"
                                    }
                                ]
                            },
                            "data": []
                        },
                        "text/html": [
                            "<table>",
                            "<tr><th>sales</th><th>discount</th><th>quantity</th></tr>",
                            "</table>"
                        ]
                    }
                }
            ],
            "execution_count": 4
        },
        {
            "cell_type": "markdown",
            "source": [
                "3. Do you we have any supsicion data in sales, quantity and discount? Let's create statistical description"
            ],
            "metadata": {
                "azdata_cell_guid": "056f10fd-469f-41b2-b844-583dc54dc64e"
            },
            "attachments": {}
        },
        {
            "cell_type": "code",
            "source": [
                "select top (5) avg(sales) as AvgSales,avg(discount) as AvgDisc,avg(quantity) as AvgQty,\n",
                "max(sales) as MaxSales,max(discount) as MaxDisc,avg(quantity) as MaxQty,\n",
                "Min(sales) as MinSales,Min(discount) as MinDisc,Min(quantity) as MinQty\n",
                "from superstore\n",
                "\n",
                ""
            ],
            "metadata": {
                "azdata_cell_guid": "9450f729-78d3-4397-a25a-a92df7f60063",
                "language": "sql"
            },
            "outputs": [
                {
                    "output_type": "display_data",
                    "data": {
                        "text/html": "(1 row affected)"
                    },
                    "metadata": {}
                },
                {
                    "output_type": "display_data",
                    "data": {
                        "text/html": "Total execution time: 00:00:00.098"
                    },
                    "metadata": {}
                },
                {
                    "output_type": "execute_result",
                    "metadata": {},
                    "execution_count": 5,
                    "data": {
                        "application/vnd.dataresource+json": {
                            "schema": {
                                "fields": [
                                    {
                                        "name": "AvgSales"
                                    },
                                    {
                                        "name": "AvgDisc"
                                    },
                                    {
                                        "name": "AvgQty"
                                    },
                                    {
                                        "name": "MaxSales"
                                    },
                                    {
                                        "name": "MaxDisc"
                                    },
                                    {
                                        "name": "MaxQty"
                                    },
                                    {
                                        "name": "MinSales"
                                    },
                                    {
                                        "name": "MinDisc"
                                    },
                                    {
                                        "name": "MinQty"
                                    }
                                ]
                            },
                            "data": [
                                {
                                    "0": "229.97954234821879",
                                    "1": "0.16968389362769473",
                                    "2": "3",
                                    "3": "13999.96",
                                    "4": "0.8",
                                    "5": "3",
                                    "6": "0.5559999999999998",
                                    "7": "0",
                                    "8": "1"
                                }
                            ]
                        },
                        "text/html": [
                            "<table>",
                            "<tr><th>AvgSales</th><th>AvgDisc</th><th>AvgQty</th><th>MaxSales</th><th>MaxDisc</th><th>MaxQty</th><th>MinSales</th><th>MinDisc</th><th>MinQty</th></tr>",
                            "<tr><td>229.97954234821879</td><td>0.16968389362769473</td><td>3</td><td>13999.96</td><td>0.8</td><td>3</td><td>0.5559999999999998</td><td>0</td><td>1</td></tr>",
                            "</table>"
                        ]
                    }
                }
            ],
            "execution_count": 5
        },
        {
            "cell_type": "markdown",
            "source": [
                "Nothing suspicious"
            ],
            "metadata": {
                "azdata_cell_guid": "422444d0-032b-4292-aeb2-0b136465fac9"
            },
            "attachments": {}
        },
        {
            "cell_type": "markdown",
            "source": [
                "4\\. Use the LEAD window function to create a new column sales\\_next that displays the sales of the next row in the dataset. \n",
                "\n",
                "I decided to partition by product so that I can compare current and next sales of the same product. Clearly, you can see there are many product with limited sales data"
            ],
            "metadata": {
                "azdata_cell_guid": "b246ce22-eef7-48f0-9cd8-302e449d10c8"
            },
            "attachments": {}
        },
        {
            "cell_type": "code",
            "source": [
                "select top (5) product_name, sales, LEAD(sales,1) over(partition by product_name order by product_name) as sales_next\n",
                "from superstore\n",
                "order by product_name asc"
            ],
            "metadata": {
                "azdata_cell_guid": "eb051c00-30ae-49f7-8772-3d1a29a60a66",
                "language": "sql"
            },
            "outputs": [
                {
                    "output_type": "display_data",
                    "data": {
                        "text/html": "(5 rows affected)"
                    },
                    "metadata": {}
                },
                {
                    "output_type": "display_data",
                    "data": {
                        "text/html": "Total execution time: 00:00:00.125"
                    },
                    "metadata": {}
                },
                {
                    "output_type": "execute_result",
                    "metadata": {},
                    "execution_count": 6,
                    "data": {
                        "application/vnd.dataresource+json": {
                            "schema": {
                                "fields": [
                                    {
                                        "name": "product_name"
                                    },
                                    {
                                        "name": "sales"
                                    },
                                    {
                                        "name": "sales_next"
                                    }
                                ]
                            },
                            "data": [
                                {
                                    "0": "#6 3/4 Gummed Flap White Envelopes",
                                    "1": "15.840000000000002",
                                    "2": "NULL"
                                },
                                {
                                    "0": "1/4 Fold Party Design Invitations & White Envelopes, 24 8-1/2\" X 11\" Cards, 25 Env./Pack",
                                    "1": "5.88",
                                    "2": "44.099999999999994"
                                },
                                {
                                    "0": "#10- 4 1/8\" x 9 1/2\" Security-Tint Envelopes",
                                    "1": "22.919999999999998",
                                    "2": "NULL"
                                },
                                {
                                    "0": "#10 White Business Envelopes,4 1/8 x 9 1/2",
                                    "1": "109.69",
                                    "2": "125.36"
                                },
                                {
                                    "0": "#10 White Business Envelopes,4 1/8 x 9 1/2",
                                    "1": "125.36",
                                    "2": "NULL"
                                }
                            ]
                        },
                        "text/html": [
                            "<table>",
                            "<tr><th>product_name</th><th>sales</th><th>sales_next</th></tr>",
                            "<tr><td>#6 3/4 Gummed Flap White Envelopes</td><td>15.840000000000002</td><td>NULL</td></tr>",
                            "<tr><td>1/4 Fold Party Design Invitations &amp; White Envelopes, 24 8-1/2&quot; X 11&quot; Cards, 25 Env./Pack</td><td>5.88</td><td>44.099999999999994</td></tr>",
                            "<tr><td>#10- 4 1/8&quot; x 9 1/2&quot; Security-Tint Envelopes</td><td>22.919999999999998</td><td>NULL</td></tr>",
                            "<tr><td>#10 White Business Envelopes,4 1/8 x 9 1/2</td><td>109.69</td><td>125.36</td></tr>",
                            "<tr><td>#10 White Business Envelopes,4 1/8 x 9 1/2</td><td>125.36</td><td>NULL</td></tr>",
                            "</table>"
                        ]
                    }
                }
            ],
            "execution_count": 6
        },
        {
            "cell_type": "markdown",
            "source": [
                "5. Create a new column sales\\_previous to display the values of the row above a given row using lag window funtion."
            ],
            "metadata": {
                "azdata_cell_guid": "63c55d00-3761-435c-8463-8ce837f09ae5"
            },
            "attachments": {}
        },
        {
            "cell_type": "code",
            "source": [
                "select top (5) product_name, sales, LAG(sales,1) over(partition by product_name order by product_name) as sales_next\n",
                "from superstore\n",
                "order by product_name asc"
            ],
            "metadata": {
                "azdata_cell_guid": "a568879c-f5f1-4638-8d6b-fb05b30eb451",
                "language": "sql"
            },
            "outputs": [
                {
                    "output_type": "display_data",
                    "data": {
                        "text/html": "(5 rows affected)"
                    },
                    "metadata": {}
                },
                {
                    "output_type": "display_data",
                    "data": {
                        "text/html": "Total execution time: 00:00:00.066"
                    },
                    "metadata": {}
                },
                {
                    "output_type": "execute_result",
                    "metadata": {},
                    "execution_count": 7,
                    "data": {
                        "application/vnd.dataresource+json": {
                            "schema": {
                                "fields": [
                                    {
                                        "name": "product_name"
                                    },
                                    {
                                        "name": "sales"
                                    },
                                    {
                                        "name": "sales_next"
                                    }
                                ]
                            },
                            "data": [
                                {
                                    "0": "#10- 4 1/8\" x 9 1/2\" Security-Tint Envelopes",
                                    "1": "22.919999999999998",
                                    "2": "NULL"
                                },
                                {
                                    "0": "#10 White Business Envelopes,4 1/8 x 9 1/2",
                                    "1": "109.69",
                                    "2": "NULL"
                                },
                                {
                                    "0": "#10 White Business Envelopes,4 1/8 x 9 1/2",
                                    "1": "125.36",
                                    "2": "109.69"
                                },
                                {
                                    "0": "#6 3/4 Gummed Flap White Envelopes",
                                    "1": "15.840000000000002",
                                    "2": "NULL"
                                },
                                {
                                    "0": "1/4 Fold Party Design Invitations & White Envelopes, 24 8-1/2\" X 11\" Cards, 25 Env./Pack",
                                    "1": "5.88",
                                    "2": "NULL"
                                }
                            ]
                        },
                        "text/html": [
                            "<table>",
                            "<tr><th>product_name</th><th>sales</th><th>sales_next</th></tr>",
                            "<tr><td>#10- 4 1/8&quot; x 9 1/2&quot; Security-Tint Envelopes</td><td>22.919999999999998</td><td>NULL</td></tr>",
                            "<tr><td>#10 White Business Envelopes,4 1/8 x 9 1/2</td><td>109.69</td><td>NULL</td></tr>",
                            "<tr><td>#10 White Business Envelopes,4 1/8 x 9 1/2</td><td>125.36</td><td>109.69</td></tr>",
                            "<tr><td>#6 3/4 Gummed Flap White Envelopes</td><td>15.840000000000002</td><td>NULL</td></tr>",
                            "<tr><td>1/4 Fold Party Design Invitations &amp; White Envelopes, 24 8-1/2&quot; X 11&quot; Cards, 25 Env./Pack</td><td>5.88</td><td>NULL</td></tr>",
                            "</table>"
                        ]
                    }
                }
            ],
            "execution_count": 7
        },
        {
            "cell_type": "markdown",
            "source": [
                "6. Rank the data based on sales in descending order using the RANK functiion. In this example, I have decided to rank by category."
            ],
            "metadata": {
                "azdata_cell_guid": "326fb0d0-a69a-47d1-a882-df14d6f6ecb1"
            },
            "attachments": {}
        },
        {
            "cell_type": "code",
            "source": [
                "select top (5) category, product_name, sales, RANK() OVER (PARTITION BY category ORDER BY sales DESC) AS SalesRankCat\n",
                "from superstore\n",
                "order by category desc"
            ],
            "metadata": {
                "azdata_cell_guid": "860fbf15-c01b-452f-a0b2-d3361b997bff",
                "language": "sql",
                "tags": []
            },
            "outputs": [
                {
                    "output_type": "display_data",
                    "data": {
                        "text/html": "(5 rows affected)"
                    },
                    "metadata": {}
                },
                {
                    "output_type": "display_data",
                    "data": {
                        "text/html": "Total execution time: 00:00:00.059"
                    },
                    "metadata": {}
                },
                {
                    "output_type": "execute_result",
                    "metadata": {},
                    "execution_count": 8,
                    "data": {
                        "application/vnd.dataresource+json": {
                            "schema": {
                                "fields": [
                                    {
                                        "name": "category"
                                    },
                                    {
                                        "name": "product_name"
                                    },
                                    {
                                        "name": "sales"
                                    },
                                    {
                                        "name": "SalesRankCat"
                                    }
                                ]
                            },
                            "data": [
                                {
                                    "0": "Technology",
                                    "1": "Canon imageCLASS 2200 Advanced Copier",
                                    "2": "13999.96",
                                    "3": "1"
                                },
                                {
                                    "0": "Technology",
                                    "1": "HP Designjet T520 Inkjet Large Format Printer - 24\" Color",
                                    "2": "8749.95",
                                    "3": "2"
                                },
                                {
                                    "0": "Technology",
                                    "1": "Canon PC1060 Personal Laser Copier",
                                    "2": "4899.93",
                                    "3": "3"
                                },
                                {
                                    "0": "Technology",
                                    "1": "Zebra ZM400 Thermal Label Printer",
                                    "2": "4643.8",
                                    "3": "4"
                                },
                                {
                                    "0": "Technology",
                                    "1": "Okidata MB760 Printer",
                                    "2": "4476.8",
                                    "3": "5"
                                }
                            ]
                        },
                        "text/html": [
                            "<table>",
                            "<tr><th>category</th><th>product_name</th><th>sales</th><th>SalesRankCat</th></tr>",
                            "<tr><td>Technology</td><td>Canon imageCLASS 2200 Advanced Copier</td><td>13999.96</td><td>1</td></tr>",
                            "<tr><td>Technology</td><td>HP Designjet T520 Inkjet Large Format Printer - 24&quot; Color</td><td>8749.95</td><td>2</td></tr>",
                            "<tr><td>Technology</td><td>Canon PC1060 Personal Laser Copier</td><td>4899.93</td><td>3</td></tr>",
                            "<tr><td>Technology</td><td>Zebra ZM400 Thermal Label Printer</td><td>4643.8</td><td>4</td></tr>",
                            "<tr><td>Technology</td><td>Okidata MB760 Printer</td><td>4476.8</td><td>5</td></tr>",
                            "</table>"
                        ]
                    }
                }
            ],
            "execution_count": 8
        },
        {
            "cell_type": "markdown",
            "source": [
                "7\\. Rank the data based on sales in descending order using the RANK functiion. In this example, we will rank all the product in a single list"
            ],
            "metadata": {
                "azdata_cell_guid": "fbe17ba5-3930-49e2-a795-74f85c612ebb"
            },
            "attachments": {}
        },
        {
            "cell_type": "code",
            "source": [
                "select top (5) product_name, sales, RANK() OVER (ORDER BY sales DESC) AS SalesRank\n",
                "from superstore\n",
                "order by sales desc"
            ],
            "metadata": {
                "azdata_cell_guid": "de43bbbb-3917-48d0-8299-8117f55c4727",
                "language": "sql"
            },
            "outputs": [
                {
                    "output_type": "display_data",
                    "data": {
                        "text/html": "(5 rows affected)"
                    },
                    "metadata": {}
                },
                {
                    "output_type": "display_data",
                    "data": {
                        "text/html": "Total execution time: 00:00:00.073"
                    },
                    "metadata": {}
                },
                {
                    "output_type": "execute_result",
                    "metadata": {},
                    "execution_count": 9,
                    "data": {
                        "application/vnd.dataresource+json": {
                            "schema": {
                                "fields": [
                                    {
                                        "name": "product_name"
                                    },
                                    {
                                        "name": "sales"
                                    },
                                    {
                                        "name": "SalesRank"
                                    }
                                ]
                            },
                            "data": [
                                {
                                    "0": "Canon imageCLASS 2200 Advanced Copier",
                                    "1": "13999.96",
                                    "2": "1"
                                },
                                {
                                    "0": "GBC Ibimaster 500 Manual ProClick Binding System",
                                    "1": "9892.74",
                                    "2": "2"
                                },
                                {
                                    "0": "HP Designjet T520 Inkjet Large Format Printer - 24\" Color",
                                    "1": "8749.95",
                                    "2": "3"
                                },
                                {
                                    "0": "Fellowes PB500 Electric Punch Plastic Comb Binding Machine with Manual Bind",
                                    "1": "5083.96",
                                    "2": "4"
                                },
                                {
                                    "0": "Canon PC1060 Personal Laser Copier",
                                    "1": "4899.93",
                                    "2": "5"
                                }
                            ]
                        },
                        "text/html": [
                            "<table>",
                            "<tr><th>product_name</th><th>sales</th><th>SalesRank</th></tr>",
                            "<tr><td>Canon imageCLASS 2200 Advanced Copier</td><td>13999.96</td><td>1</td></tr>",
                            "<tr><td>GBC Ibimaster 500 Manual ProClick Binding System</td><td>9892.74</td><td>2</td></tr>",
                            "<tr><td>HP Designjet T520 Inkjet Large Format Printer - 24&quot; Color</td><td>8749.95</td><td>3</td></tr>",
                            "<tr><td>Fellowes PB500 Electric Punch Plastic Comb Binding Machine with Manual Bind</td><td>5083.96</td><td>4</td></tr>",
                            "<tr><td>Canon PC1060 Personal Laser Copier</td><td>4899.93</td><td>5</td></tr>",
                            "</table>"
                        ]
                    }
                }
            ],
            "execution_count": 9
        },
        {
            "cell_type": "markdown",
            "source": [
                "8\\. Use common SQL commands and aggregate functions to show the daily sales averages."
            ],
            "metadata": {
                "azdata_cell_guid": "402cfb80-3084-4aa6-92f4-106c5469d759"
            },
            "attachments": {}
        },
        {
            "cell_type": "code",
            "source": [
                "select top (5) order_date,avg(sales) as DailyAvgSales, avg(discount) as DailyAvgDiscount, avg(quantity) as DailyAvgQty\n",
                "from superstore\n",
                "group by order_date\n",
                "order by order_date asc"
            ],
            "metadata": {
                "azdata_cell_guid": "0854a13a-642f-4cfd-b763-189161cf0b29",
                "language": "sql"
            },
            "outputs": [
                {
                    "output_type": "display_data",
                    "data": {
                        "text/html": "(5 rows affected)"
                    },
                    "metadata": {}
                },
                {
                    "output_type": "display_data",
                    "data": {
                        "text/html": "Total execution time: 00:00:00.037"
                    },
                    "metadata": {}
                },
                {
                    "output_type": "execute_result",
                    "metadata": {},
                    "execution_count": 10,
                    "data": {
                        "application/vnd.dataresource+json": {
                            "schema": {
                                "fields": [
                                    {
                                        "name": "order_date"
                                    },
                                    {
                                        "name": "DailyAvgSales"
                                    },
                                    {
                                        "name": "DailyAvgDiscount"
                                    },
                                    {
                                        "name": "DailyAvgQty"
                                    }
                                ]
                            },
                            "data": [
                                {
                                    "0": "2014-01-13",
                                    "1": "20.423000000000002",
                                    "2": "0.44999999999999996",
                                    "3": "4"
                                },
                                {
                                    "0": "2014-01-21",
                                    "1": "25.248",
                                    "2": "0.2",
                                    "3": "3"
                                },
                                {
                                    "0": "2014-01-23",
                                    "1": "23.009999999999998",
                                    "2": "0",
                                    "3": "4"
                                },
                                {
                                    "0": "2014-01-26",
                                    "1": "76.32000000000001",
                                    "2": "0",
                                    "3": "2"
                                },
                                {
                                    "0": "2014-02-02",
                                    "1": "99.64800000000001",
                                    "2": "0.44999999999999996",
                                    "3": "3"
                                }
                            ]
                        },
                        "text/html": [
                            "<table>",
                            "<tr><th>order_date</th><th>DailyAvgSales</th><th>DailyAvgDiscount</th><th>DailyAvgQty</th></tr>",
                            "<tr><td>2014-01-13</td><td>20.423000000000002</td><td>0.44999999999999996</td><td>4</td></tr>",
                            "<tr><td>2014-01-21</td><td>25.248</td><td>0.2</td><td>3</td></tr>",
                            "<tr><td>2014-01-23</td><td>23.009999999999998</td><td>0</td><td>4</td></tr>",
                            "<tr><td>2014-01-26</td><td>76.32000000000001</td><td>0</td><td>2</td></tr>",
                            "<tr><td>2014-02-02</td><td>99.64800000000001</td><td>0.44999999999999996</td><td>3</td></tr>",
                            "</table>"
                        ]
                    }
                }
            ],
            "execution_count": 10
        },
        {
            "cell_type": "markdown",
            "source": [
                "9\\. Use common SQL commands and aggregate functions to show the monthly sales averages."
            ],
            "metadata": {
                "language": "sql",
                "azdata_cell_guid": "ddd1483a-1a73-4022-a929-a756e464d0d1"
            },
            "attachments": {}
        },
        {
            "cell_type": "code",
            "source": [
                "-- create a temporary table\n",
                "drop table if exists TempSales3\n",
                "create table TempSales3(order_date date, monthly varchar(255), sales numeric, quantity numeric, discount numeric)\n",
                "insert into TempSales3\n",
                "--covert order date to MMMYYYY\n",
                "Select order_date, replace(right(CONVERT(Varchar(255),order_date,106), 8), ' ', '-') as Monthly,sales, quantity, discount\n",
                "from superstore\n",
                "order by order_date asc\n",
                "\n",
                "select top (5) convert(date,concat('01-',monthly),106) as Order_Date1,\n",
                "avg(sales) as MonthlySales\n",
                ", avg(quantity) as MonthlyQty\n",
                ", avg(discount) as MonthlyDiscount \n",
                "from TempSales3\n",
                "group by monthly \n",
                "order by Order_Date1\n",
                ""
            ],
            "metadata": {
                "language": "sql",
                "azdata_cell_guid": "3b3ce214-a70c-4ea4-a5fe-ee08095e2b91",
                "tags": []
            },
            "outputs": [
                {
                    "output_type": "display_data",
                    "data": {
                        "text/html": "(1993 rows affected)"
                    },
                    "metadata": {}
                },
                {
                    "output_type": "display_data",
                    "data": {
                        "text/html": "(5 rows affected)"
                    },
                    "metadata": {}
                },
                {
                    "output_type": "display_data",
                    "data": {
                        "text/html": "Total execution time: 00:00:00.186"
                    },
                    "metadata": {}
                },
                {
                    "output_type": "execute_result",
                    "metadata": {},
                    "execution_count": 11,
                    "data": {
                        "application/vnd.dataresource+json": {
                            "schema": {
                                "fields": [
                                    {
                                        "name": "Order_Date1"
                                    },
                                    {
                                        "name": "MonthlySales"
                                    },
                                    {
                                        "name": "MonthlyQty"
                                    },
                                    {
                                        "name": "MonthlyDiscount"
                                    }
                                ]
                            },
                            "data": [
                                {
                                    "0": "2014-01-01",
                                    "1": "37.714285",
                                    "2": "3.571428",
                                    "3": "0.142857"
                                },
                                {
                                    "0": "2014-02-01",
                                    "1": "79.000000",
                                    "2": "3.157894",
                                    "3": "0.105263"
                                },
                                {
                                    "0": "2014-03-01",
                                    "1": "176.111111",
                                    "2": "3.444444",
                                    "3": "0.027777"
                                },
                                {
                                    "0": "2014-04-01",
                                    "1": "231.346153",
                                    "2": "3.846153",
                                    "3": "0.000000"
                                },
                                {
                                    "0": "2014-05-01",
                                    "1": "258.875000",
                                    "2": "3.500000",
                                    "3": "0.125000"
                                }
                            ]
                        },
                        "text/html": [
                            "<table>",
                            "<tr><th>Order_Date1</th><th>MonthlySales</th><th>MonthlyQty</th><th>MonthlyDiscount</th></tr>",
                            "<tr><td>2014-01-01</td><td>37.714285</td><td>3.571428</td><td>0.142857</td></tr>",
                            "<tr><td>2014-02-01</td><td>79.000000</td><td>3.157894</td><td>0.105263</td></tr>",
                            "<tr><td>2014-03-01</td><td>176.111111</td><td>3.444444</td><td>0.027777</td></tr>",
                            "<tr><td>2014-04-01</td><td>231.346153</td><td>3.846153</td><td>0.000000</td></tr>",
                            "<tr><td>2014-05-01</td><td>258.875000</td><td>3.500000</td><td>0.125000</td></tr>",
                            "</table>"
                        ]
                    }
                }
            ],
            "execution_count": 11
        },
        {
            "cell_type": "markdown",
            "source": [
                "10. Rolling average and total of sales, discount and quantity"
            ],
            "metadata": {
                "azdata_cell_guid": "55a0522a-92f7-4334-a47e-43bc34cc7920"
            },
            "attachments": {}
        },
        {
            "cell_type": "code",
            "source": [
                "select top (5) order_date,\n",
                "--average\n",
                "avg(sales) over(order by order_date) as RollingAvgSales,\n",
                "avg(quantity) over(order by order_date) as RollingAvgQty,\n",
                "avg(discount) over(order by order_date) as RollingAvgDiscount,\n",
                "--total\n",
                "sum(sales) over(order by order_date) as RollingTotalSales,\n",
                "sum(quantity) over(order by order_date) as RollingTotalQty\n",
                "--sum(discount) over(order by order_date) as RollingTotalDiscount\n",
                "from superstore\n",
                "order by order_date asc"
            ],
            "metadata": {
                "azdata_cell_guid": "299e53ba-48b2-4a43-80eb-9621564e2bd8",
                "language": "sql"
            },
            "outputs": [
                {
                    "output_type": "display_data",
                    "data": {
                        "text/html": "(5 rows affected)"
                    },
                    "metadata": {}
                },
                {
                    "output_type": "display_data",
                    "data": {
                        "text/html": "Total execution time: 00:00:00.040"
                    },
                    "metadata": {}
                },
                {
                    "output_type": "execute_result",
                    "metadata": {},
                    "execution_count": 12,
                    "data": {
                        "application/vnd.dataresource+json": {
                            "schema": {
                                "fields": [
                                    {
                                        "name": "order_date"
                                    },
                                    {
                                        "name": "RollingAvgSales"
                                    },
                                    {
                                        "name": "RollingAvgQty"
                                    },
                                    {
                                        "name": "RollingAvgDiscount"
                                    },
                                    {
                                        "name": "RollingTotalSales"
                                    },
                                    {
                                        "name": "RollingTotalQty"
                                    }
                                ]
                            },
                            "data": [
                                {
                                    "0": "2014-01-13",
                                    "1": "20.423000000000002",
                                    "2": "4",
                                    "3": "0.44999999999999996",
                                    "4": "40.846000000000004",
                                    "5": "9"
                                },
                                {
                                    "0": "2014-01-13",
                                    "1": "20.423000000000002",
                                    "2": "4",
                                    "3": "0.44999999999999996",
                                    "4": "40.846000000000004",
                                    "5": "9"
                                },
                                {
                                    "0": "2014-01-21",
                                    "1": "22.031333333333336",
                                    "2": "4",
                                    "3": "0.36666666666666664",
                                    "4": "66.09400000000001",
                                    "5": "12"
                                },
                                {
                                    "0": "2014-01-23",
                                    "1": "22.422800000000002",
                                    "2": "4",
                                    "3": "0.21999999999999997",
                                    "4": "112.114",
                                    "5": "21"
                                },
                                {
                                    "0": "2014-01-23",
                                    "1": "22.422800000000002",
                                    "2": "4",
                                    "3": "0.21999999999999997",
                                    "4": "112.114",
                                    "5": "21"
                                }
                            ]
                        },
                        "text/html": [
                            "<table>",
                            "<tr><th>order_date</th><th>RollingAvgSales</th><th>RollingAvgQty</th><th>RollingAvgDiscount</th><th>RollingTotalSales</th><th>RollingTotalQty</th></tr>",
                            "<tr><td>2014-01-13</td><td>20.423000000000002</td><td>4</td><td>0.44999999999999996</td><td>40.846000000000004</td><td>9</td></tr>",
                            "<tr><td>2014-01-13</td><td>20.423000000000002</td><td>4</td><td>0.44999999999999996</td><td>40.846000000000004</td><td>9</td></tr>",
                            "<tr><td>2014-01-21</td><td>22.031333333333336</td><td>4</td><td>0.36666666666666664</td><td>66.09400000000001</td><td>12</td></tr>",
                            "<tr><td>2014-01-23</td><td>22.422800000000002</td><td>4</td><td>0.21999999999999997</td><td>112.114</td><td>21</td></tr>",
                            "<tr><td>2014-01-23</td><td>22.422800000000002</td><td>4</td><td>0.21999999999999997</td><td>112.114</td><td>21</td></tr>",
                            "</table>"
                        ]
                    }
                }
            ],
            "execution_count": 12
        }
    ]
}