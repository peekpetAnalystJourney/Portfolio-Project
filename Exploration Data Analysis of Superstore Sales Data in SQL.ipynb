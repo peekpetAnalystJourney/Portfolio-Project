{
    "metadata": {
        "kernelspec": {
            "name": "SQL",
            "display_name": "SQL",
            "language": "sql"
        },
        "language_info": {
            "name": "sql",
            "version": ""
        }
    },
    "nbformat_minor": 2,
    "nbformat": 4,
    "cells": [
        {
            "cell_type": "markdown",
            "source": [
                "This presents the exploration of the superstore sales data in SQL. I will attempt to check if there is any data cleaning necessary\n",
                "The source of data is Kaggle: [https://www.kaggle.com/blurredmachine/superstore-time-series-dataset](https://www.kaggle.com/blurredmachine/superstore-time-series-dataset)\n",
                "I am only displaying the top 5 rows in each table for easier viewing in this notebook\n",
                "Key tasks inspired by projectpro.io\n",
                "- Use the LEAD window function to create a new column sales\\_next that displays the sales of the next row in the dataset. This function will help you quickly compare a given row’s values and values in the next row.\n",
                "    \n",
                "- Create a new column sales\\_previous to display the values of the row above a given row.\n",
                "    \n",
                "- Rank the data based on sales in descending order using the RANK function.\n",
                "    \n",
                "- Use common SQL commands and aggregate functions to show the monthly and daily sales, discount, and quantity averages.\n",
                "    \n",
                "- Evaluate moving averages using the window functions"
            ],
            "metadata": {
                "azdata_cell_guid": "358b2c18-868e-46c5-99fc-153f19d12f2d"
            },
            "attachments": {}
        },
        {
            "cell_type": "code",
            "source": [
                "select top (5) *\n",
                "from dbo.superstore"
            ],
            "metadata": {
                "azdata_cell_guid": "24695be4-e0fa-4678-b3b9-0b69fdd88e00",
                "language": "sql"
            },
            "outputs": [
                {
                    "output_type": "display_data",
                    "data": {
                        "text/html": "(5 rows affected)"
                    },
                    "metadata": {}
                },
                {
                    "output_type": "display_data",
                    "data": {
                        "text/html": "Total execution time: 00:00:04.548"
                    },
                    "metadata": {}
                },
                {
                    "output_type": "execute_result",
                    "execution_count": 1,
                    "data": {
                        "application/vnd.dataresource+json": {
                            "schema": {
                                "fields": [
                                    {
                                        "name": "Row_ID"
                                    },
                                    {
                                        "name": "Order_ID"
                                    },
                                    {
                                        "name": "Order_Date"
                                    },
                                    {
                                        "name": "Ship_Date"
                                    },
                                    {
                                        "name": "Ship_Mode"
                                    },
                                    {
                                        "name": "Customer_ID"
                                    },
                                    {
                                        "name": "Customer_Name"
                                    },
                                    {
                                        "name": "Segment"
                                    },
                                    {
                                        "name": "City"
                                    },
                                    {
                                        "name": "State"
                                    },
                                    {
                                        "name": "Country"
                                    },
                                    {
                                        "name": "Market"
                                    },
                                    {
                                        "name": "Region"
                                    },
                                    {
                                        "name": "Product_ID"
                                    },
                                    {
                                        "name": "Category"
                                    },
                                    {
                                        "name": "Sub_Category"
                                    },
                                    {
                                        "name": "Product_Name"
                                    },
                                    {
                                        "name": "Sales"
                                    },
                                    {
                                        "name": "Quantity"
                                    },
                                    {
                                        "name": "Discount"
                                    },
                                    {
                                        "name": "Profit"
                                    },
                                    {
                                        "name": "Shipping_Cost"
                                    },
                                    {
                                        "name": "Order_Priority"
                                    }
                                ]
                            },
                            "data": [
                                {
                                    "Row_ID": "42433",
                                    "Order_ID": "AG-2011-2040",
                                    "Order_Date": "2011-01-01",
                                    "Ship_Date": "2011-01-06",
                                    "Ship_Mode": "Standard Class",
                                    "Customer_ID": "TB-11280",
                                    "Customer_Name": "Toby Braunhardt",
                                    "Segment": "Consumer",
                                    "City": "Constantine",
                                    "State": "Constantine",
                                    "Country": "Algeria",
                                    "Market": "Africa",
                                    "Region": "Africa",
                                    "Product_ID": "OFF-TEN-10000025",
                                    "Category": "Office Supplies",
                                    "Sub_Category": "Storage",
                                    "Product_Name": "Tenex Lockers, Blue",
                                    "Sales": "408.3",
                                    "Quantity": "2",
                                    "Discount": "0",
                                    "Profit": "106.14",
                                    "Shipping_Cost": "35.46",
                                    "Order_Priority": "Medium"
                                },
                                {
                                    "Row_ID": "22253",
                                    "Order_ID": "IN-2011-47883",
                                    "Order_Date": "2011-01-01",
                                    "Ship_Date": "2011-01-08",
                                    "Ship_Mode": "Standard Class",
                                    "Customer_ID": "JH-15985",
                                    "Customer_Name": "Joseph Holt",
                                    "Segment": "Consumer",
                                    "City": "Wagga Wagga",
                                    "State": "New South Wales",
                                    "Country": "Australia",
                                    "Market": "APAC",
                                    "Region": "Oceania",
                                    "Product_ID": "OFF-SU-10000618",
                                    "Category": "Office Supplies",
                                    "Sub_Category": "Supplies",
                                    "Product_Name": "Acme Trimmer, High Speed",
                                    "Sales": "120.366",
                                    "Quantity": "3",
                                    "Discount": "0.1",
                                    "Profit": "36.036",
                                    "Shipping_Cost": "9.72",
                                    "Order_Priority": "Medium"
                                },
                                {
                                    "Row_ID": "48883",
                                    "Order_ID": "HU-2011-1220",
                                    "Order_Date": "2011-01-01",
                                    "Ship_Date": "2011-01-05",
                                    "Ship_Mode": "Second Class",
                                    "Customer_ID": "AT-735",
                                    "Customer_Name": "Annie Thurman",
                                    "Segment": "Consumer",
                                    "City": "Budapest",
                                    "State": "Budapest",
                                    "Country": "Hungary",
                                    "Market": "EMEA",
                                    "Region": "EMEA",
                                    "Product_ID": "OFF-TEN-10001585",
                                    "Category": "Office Supplies",
                                    "Sub_Category": "Storage",
                                    "Product_Name": "Tenex Box, Single Width",
                                    "Sales": "66.12",
                                    "Quantity": "4",
                                    "Discount": "0",
                                    "Profit": "29.64",
                                    "Shipping_Cost": "8.17",
                                    "Order_Priority": "High"
                                },
                                {
                                    "Row_ID": "11731",
                                    "Order_ID": "IT-2011-3647632",
                                    "Order_Date": "2011-01-01",
                                    "Ship_Date": "2011-01-05",
                                    "Ship_Mode": "Second Class",
                                    "Customer_ID": "EM-14140",
                                    "Customer_Name": "Eugene Moren",
                                    "Segment": "Home Office",
                                    "City": "Stockholm",
                                    "State": "Stockholm",
                                    "Country": "Sweden",
                                    "Market": "EU",
                                    "Region": "North",
                                    "Product_ID": "OFF-PA-10001492",
                                    "Category": "Office Supplies",
                                    "Sub_Category": "Paper",
                                    "Product_Name": "Enermax Note Cards, Premium",
                                    "Sales": "44.865",
                                    "Quantity": "3",
                                    "Discount": "0.5",
                                    "Profit": "-26.055",
                                    "Shipping_Cost": "4.82",
                                    "Order_Priority": "High"
                                },
                                {
                                    "Row_ID": "22255",
                                    "Order_ID": "IN-2011-47883",
                                    "Order_Date": "2011-01-01",
                                    "Ship_Date": "2011-01-08",
                                    "Ship_Mode": "Standard Class",
                                    "Customer_ID": "JH-15985",
                                    "Customer_Name": "Joseph Holt",
                                    "Segment": "Consumer",
                                    "City": "Wagga Wagga",
                                    "State": "New South Wales",
                                    "Country": "Australia",
                                    "Market": "APAC",
                                    "Region": "Oceania",
                                    "Product_ID": "FUR-FU-10003447",
                                    "Category": "Furniture",
                                    "Sub_Category": "Furnishings",
                                    "Product_Name": "Eldon Light Bulb, Duo Pack",
                                    "Sales": "113.67",
                                    "Quantity": "5",
                                    "Discount": "0.1",
                                    "Profit": "37.77",
                                    "Shipping_Cost": "4.7",
                                    "Order_Priority": "Medium"
                                }
                            ]
                        },
                        "text/html": "<table><tr><th>Row_ID</th><th>Order_ID</th><th>Order_Date</th><th>Ship_Date</th><th>Ship_Mode</th><th>Customer_ID</th><th>Customer_Name</th><th>Segment</th><th>City</th><th>State</th><th>Country</th><th>Market</th><th>Region</th><th>Product_ID</th><th>Category</th><th>Sub_Category</th><th>Product_Name</th><th>Sales</th><th>Quantity</th><th>Discount</th><th>Profit</th><th>Shipping_Cost</th><th>Order_Priority</th></tr><tr><td>42433</td><td>AG-2011-2040</td><td>2011-01-01</td><td>2011-01-06</td><td>Standard Class</td><td>TB-11280</td><td>Toby Braunhardt</td><td>Consumer</td><td>Constantine</td><td>Constantine</td><td>Algeria</td><td>Africa</td><td>Africa</td><td>OFF-TEN-10000025</td><td>Office Supplies</td><td>Storage</td><td>Tenex Lockers, Blue</td><td>408.3</td><td>2</td><td>0</td><td>106.14</td><td>35.46</td><td>Medium</td></tr><tr><td>22253</td><td>IN-2011-47883</td><td>2011-01-01</td><td>2011-01-08</td><td>Standard Class</td><td>JH-15985</td><td>Joseph Holt</td><td>Consumer</td><td>Wagga Wagga</td><td>New South Wales</td><td>Australia</td><td>APAC</td><td>Oceania</td><td>OFF-SU-10000618</td><td>Office Supplies</td><td>Supplies</td><td>Acme Trimmer, High Speed</td><td>120.366</td><td>3</td><td>0.1</td><td>36.036</td><td>9.72</td><td>Medium</td></tr><tr><td>48883</td><td>HU-2011-1220</td><td>2011-01-01</td><td>2011-01-05</td><td>Second Class</td><td>AT-735</td><td>Annie Thurman</td><td>Consumer</td><td>Budapest</td><td>Budapest</td><td>Hungary</td><td>EMEA</td><td>EMEA</td><td>OFF-TEN-10001585</td><td>Office Supplies</td><td>Storage</td><td>Tenex Box, Single Width</td><td>66.12</td><td>4</td><td>0</td><td>29.64</td><td>8.17</td><td>High</td></tr><tr><td>11731</td><td>IT-2011-3647632</td><td>2011-01-01</td><td>2011-01-05</td><td>Second Class</td><td>EM-14140</td><td>Eugene Moren</td><td>Home Office</td><td>Stockholm</td><td>Stockholm</td><td>Sweden</td><td>EU</td><td>North</td><td>OFF-PA-10001492</td><td>Office Supplies</td><td>Paper</td><td>Enermax Note Cards, Premium</td><td>44.865</td><td>3</td><td>0.5</td><td>-26.055</td><td>4.82</td><td>High</td></tr><tr><td>22255</td><td>IN-2011-47883</td><td>2011-01-01</td><td>2011-01-08</td><td>Standard Class</td><td>JH-15985</td><td>Joseph Holt</td><td>Consumer</td><td>Wagga Wagga</td><td>New South Wales</td><td>Australia</td><td>APAC</td><td>Oceania</td><td>FUR-FU-10003447</td><td>Furniture</td><td>Furnishings</td><td>Eldon Light Bulb, Duo Pack</td><td>113.67</td><td>5</td><td>0.1</td><td>37.77</td><td>4.7</td><td>Medium</td></tr></table>"
                    },
                    "metadata": {}
                }
            ],
            "execution_count": 1
        },
        {
            "cell_type": "markdown",
            "source": [
                "2\\. I want to check that there is no null data in sales, discount, and quantity that we plan to aggregate.\n",
                "\n",
                "There is no null data"
            ],
            "metadata": {
                "azdata_cell_guid": "d9947de7-6b1a-46e3-b31a-9ba07c040483"
            },
            "attachments": {}
        },
        {
            "cell_type": "code",
            "source": [
                "select top (5) sales,discount,quantity\n",
                "from superstore\n",
                "where sales is null or discount is null or quantity is null"
            ],
            "metadata": {
                "azdata_cell_guid": "8d373b83-a5b0-4aa9-97e8-9acd123ad5af",
                "language": "sql"
            },
            "outputs": [
                {
                    "output_type": "display_data",
                    "data": {
                        "text/html": "(0 rows affected)"
                    },
                    "metadata": {}
                },
                {
                    "output_type": "display_data",
                    "data": {
                        "text/html": "Total execution time: 00:00:00.016"
                    },
                    "metadata": {}
                },
                {
                    "output_type": "execute_result",
                    "execution_count": 5,
                    "data": {
                        "application/vnd.dataresource+json": {
                            "schema": {
                                "fields": [
                                    {
                                        "name": "sales"
                                    },
                                    {
                                        "name": "discount"
                                    },
                                    {
                                        "name": "quantity"
                                    }
                                ]
                            },
                            "data": []
                        },
                        "text/html": "<table><tr><th>sales</th><th>discount</th><th>quantity</th></tr></table>"
                    },
                    "metadata": {}
                }
            ],
            "execution_count": 5
        },
        {
            "cell_type": "markdown",
            "source": [
                "3. I am using statistical description to check for any suspicious data in sales, quantity, and discount."
            ],
            "metadata": {
                "azdata_cell_guid": "056f10fd-469f-41b2-b844-583dc54dc64e"
            },
            "attachments": {}
        },
        {
            "cell_type": "code",
            "source": [
                "select top (5) avg(sales) as AvgSales,avg(discount) as AvgDisc,avg(quantity) as AvgQty,\n",
                "max(sales) as MaxSales,max(discount) as MaxDisc,avg(quantity) as MaxQty,\n",
                "Min(sales) as MinSales,Min(discount) as MinDisc,Min(quantity) as MinQty\n",
                "from superstore\n",
                "\n"
            ],
            "metadata": {
                "azdata_cell_guid": "9450f729-78d3-4397-a25a-a92df7f60063",
                "language": "sql"
            },
            "outputs": [
                {
                    "output_type": "display_data",
                    "data": {
                        "text/html": "(1 row affected)"
                    },
                    "metadata": {}
                },
                {
                    "output_type": "display_data",
                    "data": {
                        "text/html": "Total execution time: 08:18:38.966"
                    },
                    "metadata": {}
                },
                {
                    "output_type": "execute_result",
                    "execution_count": 6,
                    "data": {
                        "application/vnd.dataresource+json": {
                            "schema": {
                                "fields": [
                                    {
                                        "name": "AvgSales"
                                    },
                                    {
                                        "name": "AvgDisc"
                                    },
                                    {
                                        "name": "AvgQty"
                                    },
                                    {
                                        "name": "MaxSales"
                                    },
                                    {
                                        "name": "MaxDisc"
                                    },
                                    {
                                        "name": "MaxQty"
                                    },
                                    {
                                        "name": "MinSales"
                                    },
                                    {
                                        "name": "MinDisc"
                                    },
                                    {
                                        "name": "MinQty"
                                    }
                                ]
                            },
                            "data": [
                                {
                                    "AvgSales": "246.17664597849006",
                                    "AvgDisc": "0.14281162737469605",
                                    "AvgQty": "3",
                                    "MaxSales": "22638.48",
                                    "MaxDisc": "0.85",
                                    "MaxQty": "3",
                                    "MinSales": "0.444",
                                    "MinDisc": "0",
                                    "MinQty": "1"
                                }
                            ]
                        },
                        "text/html": "<table><tr><th>AvgSales</th><th>AvgDisc</th><th>AvgQty</th><th>MaxSales</th><th>MaxDisc</th><th>MaxQty</th><th>MinSales</th><th>MinDisc</th><th>MinQty</th></tr><tr><td>246.17664597849006</td><td>0.14281162737469605</td><td>3</td><td>22638.48</td><td>0.85</td><td>3</td><td>0.444</td><td>0</td><td>1</td></tr></table>"
                    },
                    "metadata": {}
                }
            ],
            "execution_count": 6
        },
        {
            "cell_type": "markdown",
            "source": [
                "Nothing suspicious"
            ],
            "metadata": {
                "azdata_cell_guid": "422444d0-032b-4292-aeb2-0b136465fac9"
            },
            "attachments": {}
        },
        {
            "cell_type": "markdown",
            "source": [
                "4\\. Use the LEAD window function to create a new column sales\\_next that displays the sales of the next row in the dataset. \n",
                "\n",
                "I decided to partition by product name so that I can compare current and next sales of the same product. It helps to identify changes in sales i.e. product with a single sale entry"
            ],
            "metadata": {
                "azdata_cell_guid": "b246ce22-eef7-48f0-9cd8-302e449d10c8"
            },
            "attachments": {}
        },
        {
            "cell_type": "code",
            "source": [
                "select top (5) product_name, sales, LEAD(sales,1) over(partition by product_name order by product_name) as sales_next\n",
                "from superstore\n",
                "order by product_name asc"
            ],
            "metadata": {
                "azdata_cell_guid": "eb051c00-30ae-49f7-8772-3d1a29a60a66",
                "language": "sql"
            },
            "outputs": [
                {
                    "output_type": "display_data",
                    "data": {
                        "text/html": "(5 rows affected)"
                    },
                    "metadata": {}
                },
                {
                    "output_type": "display_data",
                    "data": {
                        "text/html": "Total execution time: 00:00:00.125"
                    },
                    "metadata": {}
                },
                {
                    "output_type": "execute_result",
                    "execution_count": 6,
                    "data": {
                        "application/vnd.dataresource+json": {
                            "data": [
                                {
                                    "0": "#6 3/4 Gummed Flap White Envelopes",
                                    "1": "15.840000000000002",
                                    "2": "NULL"
                                },
                                {
                                    "0": "1/4 Fold Party Design Invitations & White Envelopes, 24 8-1/2\" X 11\" Cards, 25 Env./Pack",
                                    "1": "5.88",
                                    "2": "44.099999999999994"
                                },
                                {
                                    "0": "#10- 4 1/8\" x 9 1/2\" Security-Tint Envelopes",
                                    "1": "22.919999999999998",
                                    "2": "NULL"
                                },
                                {
                                    "0": "#10 White Business Envelopes,4 1/8 x 9 1/2",
                                    "1": "109.69",
                                    "2": "125.36"
                                },
                                {
                                    "0": "#10 White Business Envelopes,4 1/8 x 9 1/2",
                                    "1": "125.36",
                                    "2": "NULL"
                                }
                            ],
                            "schema": {
                                "fields": [
                                    {
                                        "name": "product_name"
                                    },
                                    {
                                        "name": "sales"
                                    },
                                    {
                                        "name": "sales_next"
                                    }
                                ]
                            }
                        },
                        "text/html": "<table><tr><th>product_name</th><th>sales</th><th>sales_next</th></tr><tr><td>#6 3/4 Gummed Flap White Envelopes</td><td>15.840000000000002</td><td>NULL</td></tr><tr><td>1/4 Fold Party Design Invitations &amp; White Envelopes, 24 8-1/2&quot; X 11&quot; Cards, 25 Env./Pack</td><td>5.88</td><td>44.099999999999994</td></tr><tr><td>#10- 4 1/8&quot; x 9 1/2&quot; Security-Tint Envelopes</td><td>22.919999999999998</td><td>NULL</td></tr><tr><td>#10 White Business Envelopes,4 1/8 x 9 1/2</td><td>109.69</td><td>125.36</td></tr><tr><td>#10 White Business Envelopes,4 1/8 x 9 1/2</td><td>125.36</td><td>NULL</td></tr></table>"
                    },
                    "metadata": {}
                }
            ],
            "execution_count": 6
        },
        {
            "cell_type": "markdown",
            "source": [
                "5. Create a new column sales\\_previous to display the values of the row above a given row using lag window funtion."
            ],
            "metadata": {
                "azdata_cell_guid": "63c55d00-3761-435c-8463-8ce837f09ae5"
            },
            "attachments": {}
        },
        {
            "cell_type": "code",
            "source": [
                "select top (5) product_name, sales, LAG(sales,1) over(partition by product_name order by product_name) as sales_previos\n",
                "from dbo.superstore\n",
                "order by product_name asc"
            ],
            "metadata": {
                "azdata_cell_guid": "a568879c-f5f1-4638-8d6b-fb05b30eb451",
                "language": "sql"
            },
            "outputs": [
                {
                    "output_type": "display_data",
                    "data": {
                        "text/html": "(5 rows affected)"
                    },
                    "metadata": {}
                },
                {
                    "output_type": "display_data",
                    "data": {
                        "text/html": "Total execution time: 00:02:38.685"
                    },
                    "metadata": {}
                },
                {
                    "output_type": "execute_result",
                    "execution_count": 2,
                    "data": {
                        "application/vnd.dataresource+json": {
                            "schema": {
                                "fields": [
                                    {
                                        "name": "product_name"
                                    },
                                    {
                                        "name": "sales"
                                    },
                                    {
                                        "name": "sales_previos"
                                    }
                                ]
                            },
                            "data": [
                                {
                                    "product_name": "\"While you Were Out\" Message Book, One Form per Page",
                                    "sales": "8.904",
                                    "sales_previos": "NULL"
                                },
                                {
                                    "product_name": "\"While you Were Out\" Message Book, One Form per Page",
                                    "sales": "8.904",
                                    "sales_previos": "8.904"
                                },
                                {
                                    "product_name": "\"While you Were Out\" Message Book, One Form per Page",
                                    "sales": "7.42",
                                    "sales_previos": "8.904"
                                },
                                {
                                    "product_name": "#10- 4 1/8\" x 9 1/2\" Recycled Envelopes",
                                    "sales": "13.984",
                                    "sales_previos": "NULL"
                                },
                                {
                                    "product_name": "#10- 4 1/8\" x 9 1/2\" Recycled Envelopes",
                                    "sales": "48.944",
                                    "sales_previos": "13.984"
                                }
                            ]
                        },
                        "text/html": "<table><tr><th>product_name</th><th>sales</th><th>sales_previos</th></tr><tr><td>&quot;While you Were Out&quot; Message Book, One Form per Page</td><td>8.904</td><td>NULL</td></tr><tr><td>&quot;While you Were Out&quot; Message Book, One Form per Page</td><td>8.904</td><td>8.904</td></tr><tr><td>&quot;While you Were Out&quot; Message Book, One Form per Page</td><td>7.42</td><td>8.904</td></tr><tr><td>#10- 4 1/8&quot; x 9 1/2&quot; Recycled Envelopes</td><td>13.984</td><td>NULL</td></tr><tr><td>#10- 4 1/8&quot; x 9 1/2&quot; Recycled Envelopes</td><td>48.944</td><td>13.984</td></tr></table>"
                    },
                    "metadata": {}
                }
            ],
            "execution_count": 2
        },
        {
            "cell_type": "markdown",
            "source": [
                "6. Rank the data based on sales in descending order using the RANK function. In this example, I have decided to partition by category so I can see the product in a categry with the most sales."
            ],
            "metadata": {
                "azdata_cell_guid": "326fb0d0-a69a-47d1-a882-df14d6f6ecb1"
            },
            "attachments": {}
        },
        {
            "cell_type": "code",
            "source": [
                "select top (5) category, product_name, sales, RANK() OVER (PARTITION BY category ORDER BY sales DESC) AS SalesRankCat\n",
                "from superstore\n",
                "order by category desc"
            ],
            "metadata": {
                "azdata_cell_guid": "860fbf15-c01b-452f-a0b2-d3361b997bff",
                "language": "sql",
                "tags": []
            },
            "outputs": [
                {
                    "output_type": "display_data",
                    "data": {
                        "text/html": "(5 rows affected)"
                    },
                    "metadata": {}
                },
                {
                    "output_type": "display_data",
                    "data": {
                        "text/html": "Total execution time: 00:00:11.153"
                    },
                    "metadata": {}
                },
                {
                    "output_type": "execute_result",
                    "execution_count": 3,
                    "data": {
                        "application/vnd.dataresource+json": {
                            "schema": {
                                "fields": [
                                    {
                                        "name": "category"
                                    },
                                    {
                                        "name": "product_name"
                                    },
                                    {
                                        "name": "sales"
                                    },
                                    {
                                        "name": "SalesRankCat"
                                    }
                                ]
                            },
                            "data": [
                                {
                                    "category": "Technology",
                                    "product_name": "Cisco TelePresence System EX90 Videoconferencing Unit",
                                    "sales": "22638.48",
                                    "SalesRankCat": "1"
                                },
                                {
                                    "category": "Technology",
                                    "product_name": "Canon imageCLASS 2200 Advanced Copier",
                                    "sales": "17499.95",
                                    "SalesRankCat": "2"
                                },
                                {
                                    "category": "Technology",
                                    "product_name": "Canon imageCLASS 2200 Advanced Copier",
                                    "sales": "17499.95",
                                    "SalesRankCat": "2"
                                },
                                {
                                    "category": "Technology",
                                    "product_name": "Canon imageCLASS 2200 Advanced Copier",
                                    "sales": "13999.96",
                                    "SalesRankCat": "4"
                                },
                                {
                                    "category": "Technology",
                                    "product_name": "Canon imageCLASS 2200 Advanced Copier",
                                    "sales": "11199.968",
                                    "SalesRankCat": "5"
                                }
                            ]
                        },
                        "text/html": "<table><tr><th>category</th><th>product_name</th><th>sales</th><th>SalesRankCat</th></tr><tr><td>Technology</td><td>Cisco TelePresence System EX90 Videoconferencing Unit</td><td>22638.48</td><td>1</td></tr><tr><td>Technology</td><td>Canon imageCLASS 2200 Advanced Copier</td><td>17499.95</td><td>2</td></tr><tr><td>Technology</td><td>Canon imageCLASS 2200 Advanced Copier</td><td>17499.95</td><td>2</td></tr><tr><td>Technology</td><td>Canon imageCLASS 2200 Advanced Copier</td><td>13999.96</td><td>4</td></tr><tr><td>Technology</td><td>Canon imageCLASS 2200 Advanced Copier</td><td>11199.968</td><td>5</td></tr></table>"
                    },
                    "metadata": {}
                }
            ],
            "execution_count": 3
        },
        {
            "cell_type": "markdown",
            "source": [
                "7\\. Rank the data based on sales in descending order using the RANK function. In this example, I will rank all the product's sales in a single list"
            ],
            "metadata": {
                "azdata_cell_guid": "fbe17ba5-3930-49e2-a795-74f85c612ebb"
            },
            "attachments": {}
        },
        {
            "cell_type": "code",
            "source": [
                "select top (5) product_name, sales, RANK() OVER (ORDER BY sales DESC) AS SalesRank\n",
                "from superstore\n",
                "order by sales desc"
            ],
            "metadata": {
                "azdata_cell_guid": "de43bbbb-3917-48d0-8299-8117f55c4727",
                "language": "sql"
            },
            "outputs": [
                {
                    "output_type": "display_data",
                    "data": {
                        "text/html": "(5 rows affected)"
                    },
                    "metadata": {}
                },
                {
                    "output_type": "display_data",
                    "data": {
                        "text/html": "Total execution time: 00:00:00.073"
                    },
                    "metadata": {}
                },
                {
                    "output_type": "execute_result",
                    "execution_count": 9,
                    "data": {
                        "application/vnd.dataresource+json": {
                            "data": [
                                {
                                    "0": "Canon imageCLASS 2200 Advanced Copier",
                                    "1": "13999.96",
                                    "2": "1"
                                },
                                {
                                    "0": "GBC Ibimaster 500 Manual ProClick Binding System",
                                    "1": "9892.74",
                                    "2": "2"
                                },
                                {
                                    "0": "HP Designjet T520 Inkjet Large Format Printer - 24\" Color",
                                    "1": "8749.95",
                                    "2": "3"
                                },
                                {
                                    "0": "Fellowes PB500 Electric Punch Plastic Comb Binding Machine with Manual Bind",
                                    "1": "5083.96",
                                    "2": "4"
                                },
                                {
                                    "0": "Canon PC1060 Personal Laser Copier",
                                    "1": "4899.93",
                                    "2": "5"
                                }
                            ],
                            "schema": {
                                "fields": [
                                    {
                                        "name": "product_name"
                                    },
                                    {
                                        "name": "sales"
                                    },
                                    {
                                        "name": "SalesRank"
                                    }
                                ]
                            }
                        },
                        "text/html": "<table><tr><th>product_name</th><th>sales</th><th>SalesRank</th></tr><tr><td>Canon imageCLASS 2200 Advanced Copier</td><td>13999.96</td><td>1</td></tr><tr><td>GBC Ibimaster 500 Manual ProClick Binding System</td><td>9892.74</td><td>2</td></tr><tr><td>HP Designjet T520 Inkjet Large Format Printer - 24&quot; Color</td><td>8749.95</td><td>3</td></tr><tr><td>Fellowes PB500 Electric Punch Plastic Comb Binding Machine with Manual Bind</td><td>5083.96</td><td>4</td></tr><tr><td>Canon PC1060 Personal Laser Copier</td><td>4899.93</td><td>5</td></tr></table>"
                    },
                    "metadata": {}
                }
            ],
            "execution_count": 9
        },
        {
            "cell_type": "markdown",
            "source": [
                "8\\. Use common SQL commands and aggregate functions to show the daily sales averages."
            ],
            "metadata": {
                "azdata_cell_guid": "402cfb80-3084-4aa6-92f4-106c5469d759"
            },
            "attachments": {}
        },
        {
            "cell_type": "code",
            "source": [
                "select top (5) order_date,avg(sales) as DailyAvgSales, avg(discount) as DailyAvgDiscount, avg(quantity) as DailyAvgQty\n",
                "from superstore\n",
                "group by order_date\n",
                "order by order_date asc"
            ],
            "metadata": {
                "azdata_cell_guid": "0854a13a-642f-4cfd-b763-189161cf0b29",
                "language": "sql"
            },
            "outputs": [
                {
                    "output_type": "display_data",
                    "data": {
                        "text/html": "(5 rows affected)"
                    },
                    "metadata": {}
                },
                {
                    "output_type": "display_data",
                    "data": {
                        "text/html": "Total execution time: 00:00:00.037"
                    },
                    "metadata": {}
                },
                {
                    "output_type": "execute_result",
                    "execution_count": 10,
                    "data": {
                        "application/vnd.dataresource+json": {
                            "data": [
                                {
                                    "0": "2014-01-13",
                                    "1": "20.423000000000002",
                                    "2": "0.44999999999999996",
                                    "3": "4"
                                },
                                {
                                    "0": "2014-01-21",
                                    "1": "25.248",
                                    "2": "0.2",
                                    "3": "3"
                                },
                                {
                                    "0": "2014-01-23",
                                    "1": "23.009999999999998",
                                    "2": "0",
                                    "3": "4"
                                },
                                {
                                    "0": "2014-01-26",
                                    "1": "76.32000000000001",
                                    "2": "0",
                                    "3": "2"
                                },
                                {
                                    "0": "2014-02-02",
                                    "1": "99.64800000000001",
                                    "2": "0.44999999999999996",
                                    "3": "3"
                                }
                            ],
                            "schema": {
                                "fields": [
                                    {
                                        "name": "order_date"
                                    },
                                    {
                                        "name": "DailyAvgSales"
                                    },
                                    {
                                        "name": "DailyAvgDiscount"
                                    },
                                    {
                                        "name": "DailyAvgQty"
                                    }
                                ]
                            }
                        },
                        "text/html": "<table><tr><th>order_date</th><th>DailyAvgSales</th><th>DailyAvgDiscount</th><th>DailyAvgQty</th></tr><tr><td>2014-01-13</td><td>20.423000000000002</td><td>0.44999999999999996</td><td>4</td></tr><tr><td>2014-01-21</td><td>25.248</td><td>0.2</td><td>3</td></tr><tr><td>2014-01-23</td><td>23.009999999999998</td><td>0</td><td>4</td></tr><tr><td>2014-01-26</td><td>76.32000000000001</td><td>0</td><td>2</td></tr><tr><td>2014-02-02</td><td>99.64800000000001</td><td>0.44999999999999996</td><td>3</td></tr></table>"
                    },
                    "metadata": {}
                }
            ],
            "execution_count": 10
        },
        {
            "cell_type": "markdown",
            "source": [
                "9\\. Use common SQL commands and aggregate functions to show the monthly average sales, quantity, and discount."
            ],
            "metadata": {
                "azdata_cell_guid": "ddd1483a-1a73-4022-a929-a756e464d0d1",
                "language": "sql"
            },
            "attachments": {}
        },
        {
            "cell_type": "code",
            "source": [
                "-- create a temporary table\n",
                "drop table if exists TempSales3\n",
                "create table TempSales3(order_date date, monthly varchar(255), sales numeric, quantity numeric, discount numeric)\n",
                "insert into TempSales3\n",
                "--covert order date to MMMYYYY\n",
                "Select order_date, replace(right(CONVERT(Varchar(255),order_date,106), 8), ' ', '-') as Monthly,sales, quantity, discount\n",
                "from superstore\n",
                "order by order_date asc\n",
                "\n",
                "select top (5) convert(date,concat('01-',monthly),106) as Order_Date1,\n",
                "avg(sales) as MonthlySales\n",
                ", avg(quantity) as MonthlyQty\n",
                ", avg(discount) as MonthlyDiscount \n",
                "from TempSales3\n",
                "group by monthly \n",
                "order by Order_Date1\n"
            ],
            "metadata": {
                "azdata_cell_guid": "3b3ce214-a70c-4ea4-a5fe-ee08095e2b91",
                "language": "sql",
                "tags": []
            },
            "outputs": [
                {
                    "output_type": "display_data",
                    "data": {
                        "text/html": "(1993 rows affected)"
                    },
                    "metadata": {}
                },
                {
                    "output_type": "display_data",
                    "data": {
                        "text/html": "(5 rows affected)"
                    },
                    "metadata": {}
                },
                {
                    "output_type": "display_data",
                    "data": {
                        "text/html": "Total execution time: 00:00:00.186"
                    },
                    "metadata": {}
                },
                {
                    "output_type": "execute_result",
                    "execution_count": 11,
                    "data": {
                        "application/vnd.dataresource+json": {
                            "data": [
                                {
                                    "0": "2014-01-01",
                                    "1": "37.714285",
                                    "2": "3.571428",
                                    "3": "0.142857"
                                },
                                {
                                    "0": "2014-02-01",
                                    "1": "79.000000",
                                    "2": "3.157894",
                                    "3": "0.105263"
                                },
                                {
                                    "0": "2014-03-01",
                                    "1": "176.111111",
                                    "2": "3.444444",
                                    "3": "0.027777"
                                },
                                {
                                    "0": "2014-04-01",
                                    "1": "231.346153",
                                    "2": "3.846153",
                                    "3": "0.000000"
                                },
                                {
                                    "0": "2014-05-01",
                                    "1": "258.875000",
                                    "2": "3.500000",
                                    "3": "0.125000"
                                }
                            ],
                            "schema": {
                                "fields": [
                                    {
                                        "name": "Order_Date1"
                                    },
                                    {
                                        "name": "MonthlySales"
                                    },
                                    {
                                        "name": "MonthlyQty"
                                    },
                                    {
                                        "name": "MonthlyDiscount"
                                    }
                                ]
                            }
                        },
                        "text/html": "<table><tr><th>Order_Date1</th><th>MonthlySales</th><th>MonthlyQty</th><th>MonthlyDiscount</th></tr><tr><td>2014-01-01</td><td>37.714285</td><td>3.571428</td><td>0.142857</td></tr><tr><td>2014-02-01</td><td>79.000000</td><td>3.157894</td><td>0.105263</td></tr><tr><td>2014-03-01</td><td>176.111111</td><td>3.444444</td><td>0.027777</td></tr><tr><td>2014-04-01</td><td>231.346153</td><td>3.846153</td><td>0.000000</td></tr><tr><td>2014-05-01</td><td>258.875000</td><td>3.500000</td><td>0.125000</td></tr></table>"
                    },
                    "metadata": {}
                }
            ],
            "execution_count": 11
        },
        {
            "cell_type": "markdown",
            "source": [
                "10\\. I am going to use the same aggregate function to create yearly average sales, quantity, and discount"
            ],
            "metadata": {
                "azdata_cell_guid": "4f953d5d-4fd8-4d25-befd-2cd17721af64"
            },
            "attachments": {}
        },
        {
            "cell_type": "code",
            "source": [
                "-- create a temporary table\r\n",
                "drop table if exists TempSales4\r\n",
                "create table TempSales4(order_date date, yearly varchar(255), sales numeric, quantity numeric, discount numeric)\r\n",
                "insert into TempSales4\r\n",
                "--covert order date to MMMYYYY\r\n",
                "Select order_date, right(CONVERT(Varchar(255),order_date,106), 4) as yearly,sales, quantity, discount\r\n",
                "from superstore\r\n",
                "order by order_date asc\r\n",
                "\r\n",
                "select yearly, \r\n",
                "avg(sales) as YearlySales\r\n",
                ", avg(quantity) as YearlyQty\r\n",
                ", avg(discount) as YearlyDiscount \r\n",
                "from TempSales4\r\n",
                "group by yearly \r\n",
                "order by yearly"
            ],
            "metadata": {
                "azdata_cell_guid": "b4de65c2-3e6a-4370-99c9-9c8d2866d4d4",
                "language": "sql"
            },
            "outputs": [
                {
                    "output_type": "display_data",
                    "data": {
                        "text/html": "(65535 rows affected)"
                    },
                    "metadata": {}
                },
                {
                    "output_type": "display_data",
                    "data": {
                        "text/html": "(4 rows affected)"
                    },
                    "metadata": {}
                },
                {
                    "output_type": "display_data",
                    "data": {
                        "text/html": "Total execution time: 00:00:28.859"
                    },
                    "metadata": {}
                },
                {
                    "output_type": "execute_result",
                    "execution_count": 6,
                    "data": {
                        "application/vnd.dataresource+json": {
                            "schema": {
                                "fields": [
                                    {
                                        "name": "yearly"
                                    },
                                    {
                                        "name": "YearlySales"
                                    },
                                    {
                                        "name": "YearlyMonthlyQty"
                                    },
                                    {
                                        "name": "YearlyDiscount"
                                    }
                                ]
                            },
                            "data": [
                                {
                                    "yearly": "2011",
                                    "YearlySales": "251.491432",
                                    "YearlyMonthlyQty": "3.501713",
                                    "YearlyDiscount": "0.118354"
                                },
                                {
                                    "yearly": "2012",
                                    "YearlySales": "242.236257",
                                    "YearlyMonthlyQty": "3.467582",
                                    "YearlyDiscount": "0.112901"
                                },
                                {
                                    "yearly": "2013",
                                    "YearlySales": "247.120458",
                                    "YearlyMonthlyQty": "3.489068",
                                    "YearlyDiscount": "0.108172"
                                },
                                {
                                    "yearly": "2014",
                                    "YearlySales": "244.864081",
                                    "YearlyMonthlyQty": "3.460258",
                                    "YearlyDiscount": "0.112385"
                                }
                            ]
                        },
                        "text/html": "<table><tr><th>yearly</th><th>YearlySales</th><th>YearlyMonthlyQty</th><th>YearlyDiscount</th></tr><tr><td>2011</td><td>251.491432</td><td>3.501713</td><td>0.118354</td></tr><tr><td>2012</td><td>242.236257</td><td>3.467582</td><td>0.112901</td></tr><tr><td>2013</td><td>247.120458</td><td>3.489068</td><td>0.108172</td></tr><tr><td>2014</td><td>244.864081</td><td>3.460258</td><td>0.112385</td></tr></table>"
                    },
                    "metadata": {}
                }
            ],
            "execution_count": 6
        },
        {
            "cell_type": "markdown",
            "source": [
                "10. Rolling average and rolling total of sales, and quantity"
            ],
            "metadata": {
                "azdata_cell_guid": "55a0522a-92f7-4334-a47e-43bc34cc7920"
            },
            "attachments": {}
        },
        {
            "cell_type": "code",
            "source": [
                "\n",
                "select top (5) row_ID,\n",
                "avg(sales) over(order by row_ID) as RollingAvgSales,\n",
                "avg(quantity) over(order by row_ID) as RollingAvgQty,\n",
                "--avg(discount) over(order by order_date) as RollingAvgDiscount,\n",
                "--total\n",
                "sum(sales) over(order by row_ID) as RollingTotalSales,\n",
                "sum(quantity) over(order by row_ID) as RollingTotalQty\n",
                "--sum(discount) over(order by order_date) as RollingTotalDiscount\n",
                "from superstore\n",
                "order by row_ID\n",
                ""
            ],
            "metadata": {
                "azdata_cell_guid": "299e53ba-48b2-4a43-80eb-9621564e2bd8",
                "language": "sql"
            },
            "outputs": [
                {
                    "output_type": "display_data",
                    "data": {
                        "text/html": "(5 rows affected)"
                    },
                    "metadata": {}
                },
                {
                    "output_type": "display_data",
                    "data": {
                        "text/html": "Total execution time: 00:02:07.669"
                    },
                    "metadata": {}
                },
                {
                    "output_type": "execute_result",
                    "metadata": {},
                    "execution_count": 2,
                    "data": {
                        "application/vnd.dataresource+json": {
                            "schema": {
                                "fields": [
                                    {
                                        "name": "row_ID"
                                    },
                                    {
                                        "name": "RollingAvgSales"
                                    },
                                    {
                                        "name": "RollingAvgQty"
                                    },
                                    {
                                        "name": "RollingTotalSales"
                                    },
                                    {
                                        "name": "RollingTotalQty"
                                    }
                                ]
                            },
                            "data": [
                                {
                                    "row_ID": "1",
                                    "RollingAvgSales": "13.08",
                                    "RollingAvgQty": "3",
                                    "RollingTotalSales": "26.16",
                                    "RollingTotalQty": "6"
                                },
                                {
                                    "row_ID": "1",
                                    "RollingAvgSales": "13.08",
                                    "RollingAvgQty": "3",
                                    "RollingTotalSales": "26.16",
                                    "RollingTotalQty": "6"
                                },
                                {
                                    "row_ID": "2",
                                    "RollingAvgSales": "92.77333333333333",
                                    "RollingAvgQty": "4",
                                    "RollingTotalSales": "278.32",
                                    "RollingTotalQty": "14"
                                },
                                {
                                    "row_ID": "3",
                                    "RollingAvgSales": "117.9",
                                    "RollingAvgQty": "4",
                                    "RollingTotalSales": "471.6",
                                    "RollingTotalQty": "16"
                                },
                                {
                                    "row_ID": "4",
                                    "RollingAvgSales": "101.408",
                                    "RollingAvgQty": "4",
                                    "RollingTotalSales": "507.04",
                                    "RollingTotalQty": "20"
                                }
                            ]
                        },
                        "text/html": [
                            "<table>",
                            "<tr><th>row_ID</th><th>RollingAvgSales</th><th>RollingAvgQty</th><th>RollingTotalSales</th><th>RollingTotalQty</th></tr>",
                            "<tr><td>1</td><td>13.08</td><td>3</td><td>26.16</td><td>6</td></tr>",
                            "<tr><td>1</td><td>13.08</td><td>3</td><td>26.16</td><td>6</td></tr>",
                            "<tr><td>2</td><td>92.77333333333333</td><td>4</td><td>278.32</td><td>14</td></tr>",
                            "<tr><td>3</td><td>117.9</td><td>4</td><td>471.6</td><td>16</td></tr>",
                            "<tr><td>4</td><td>101.408</td><td>4</td><td>507.04</td><td>20</td></tr>",
                            "</table>"
                        ]
                    }
                }
            ],
            "execution_count": 2
        }
    ]
}