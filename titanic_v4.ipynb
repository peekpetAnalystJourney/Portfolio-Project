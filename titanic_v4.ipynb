{
 "cells": [
  {
   "cell_type": "markdown",
   "id": "907a32c8-baf0-4d4e-8fb8-be15ce2ce118",
   "metadata": {},
   "source": [
    "# Titanic dataset - kaggle competition"
   ]
  },
  {
   "cell_type": "markdown",
   "id": "a2235874",
   "metadata": {},
   "source": [
    "This is my first Kaggle competition to develop my knowledge of machine learning. We will start by importing the libraries and datasets. In this example, I have used a combination of machine learnings and a Keras deep learning models"
   ]
  },
  {
   "cell_type": "code",
   "execution_count": 1,
   "id": "d9e5129f",
   "metadata": {},
   "outputs": [
    {
     "name": "stderr",
     "output_type": "stream",
     "text": [
      "2023-01-01 15:27:28.730598: I tensorflow/core/platform/cpu_feature_guard.cc:193] This TensorFlow binary is optimized with oneAPI Deep Neural Network Library (oneDNN) to use the following CPU instructions in performance-critical operations:  SSE4.1 SSE4.2\n",
      "To enable them in other operations, rebuild TensorFlow with the appropriate compiler flags.\n"
     ]
    }
   ],
   "source": [
    "# Pandas is a software library written for the Python programming language for data manipulation and analysis.\n",
    "import pandas as pd\n",
    "# NumPy is a library for the Python programming language, adding support for large, multi-dimensional arrays and matrices, along with a large collection of high-level mathematical functions to operate on these arrays\n",
    "import numpy as np\n",
    "# Matplotlib is a plotting library for python and pyplot gives us a MatLab like plotting framework. We will use this in our plotter function to plot data.\n",
    "import matplotlib.pyplot as plt\n",
    "#Seaborn is a Python data visualization library based on matplotlib. It provides a high-level interface for drawing attractive and informative statistical graphics\n",
    "import seaborn as sns\n",
    "# Preprocessing allows us to standarsize our data\n",
    "from sklearn import preprocessing\n",
    "# Allows us to split our data into training and testing data\n",
    "from sklearn.model_selection import train_test_split\n",
    "# Allows us to test parameters of classification algorithms and find the best one\n",
    "from sklearn.model_selection import GridSearchCV\n",
    "# Logistic Regression classification algorithm\n",
    "from sklearn.linear_model import LogisticRegression\n",
    "# Support Vector Machine classification algorithm\n",
    "from sklearn.svm import SVC\n",
    "# Decision Tree classification algorithm\n",
    "from sklearn.tree import DecisionTreeClassifier\n",
    "# K Nearest Neighbors classification algorithm\n",
    "from sklearn.neighbors import KNeighborsClassifier\n",
    "import keras\n",
    "from keras.models import Sequential\n",
    "from keras.layers import Dense\n",
    "from keras.utils import to_categorical\n",
    "from sklearn.metrics import accuracy_score\n",
    "from sklearn.model_selection import train_test_split"
   ]
  },
  {
   "cell_type": "markdown",
   "id": "16a1c05d-d83d-4708-b4f1-8038b2cb7653",
   "metadata": {},
   "source": [
    "Let's create a function for creating the confusion matrix for assessing the model"
   ]
  },
  {
   "cell_type": "code",
   "execution_count": 2,
   "id": "86d5de6a",
   "metadata": {},
   "outputs": [],
   "source": [
    "def plot_confusion_matrix(y,y_predict):\n",
    "    \"this function plots the confusion matrix\"\n",
    "    from sklearn.metrics import confusion_matrix\n",
    "\n",
    "    cm = confusion_matrix(y, y_predict)\n",
    "    ax= plt.subplot()\n",
    "    sns.heatmap(cm, annot=True, ax = ax); #annot=True to annotate cells\n",
    "    ax.set_xlabel('Predicted labels')\n",
    "    ax.set_ylabel('True labels')\n",
    "    ax.set_title('Confusion Matrix'); \n",
    "    ax.xaxis.set_ticklabels(['did not Survived', 'Survived']); ax.yaxis.set_ticklabels(['did not Survived', 'Survived'])"
   ]
  },
  {
   "cell_type": "markdown",
   "id": "9bbd1f1a-1140-4982-8dc5-5ce0810cdff2",
   "metadata": {},
   "source": [
    "Import the datasets required"
   ]
  },
  {
   "cell_type": "code",
   "execution_count": 3,
   "id": "fc1aec97",
   "metadata": {},
   "outputs": [],
   "source": [
    "train = pd.read_csv('train.csv')\n",
    "test = pd.read_csv('test.csv')\n",
    "gender_submission = pd.read_csv('gender_submission.csv')"
   ]
  },
  {
   "cell_type": "markdown",
   "id": "85f77d98-5c00-4e05-92d6-cbd45c507d93",
   "metadata": {},
   "source": [
    "view sample of the files"
   ]
  },
  {
   "cell_type": "code",
   "execution_count": 4,
   "id": "e462e3a6",
   "metadata": {},
   "outputs": [
    {
     "data": {
      "text/html": [
       "<div>\n",
       "<style scoped>\n",
       "    .dataframe tbody tr th:only-of-type {\n",
       "        vertical-align: middle;\n",
       "    }\n",
       "\n",
       "    .dataframe tbody tr th {\n",
       "        vertical-align: top;\n",
       "    }\n",
       "\n",
       "    .dataframe thead th {\n",
       "        text-align: right;\n",
       "    }\n",
       "</style>\n",
       "<table border=\"1\" class=\"dataframe\">\n",
       "  <thead>\n",
       "    <tr style=\"text-align: right;\">\n",
       "      <th></th>\n",
       "      <th>PassengerId</th>\n",
       "      <th>Survived</th>\n",
       "      <th>Pclass</th>\n",
       "      <th>Name</th>\n",
       "      <th>Sex</th>\n",
       "      <th>Age</th>\n",
       "      <th>SibSp</th>\n",
       "      <th>Parch</th>\n",
       "      <th>Ticket</th>\n",
       "      <th>Fare</th>\n",
       "      <th>Cabin</th>\n",
       "      <th>Embarked</th>\n",
       "    </tr>\n",
       "  </thead>\n",
       "  <tbody>\n",
       "    <tr>\n",
       "      <th>0</th>\n",
       "      <td>1</td>\n",
       "      <td>0</td>\n",
       "      <td>3</td>\n",
       "      <td>Braund, Mr. Owen Harris</td>\n",
       "      <td>male</td>\n",
       "      <td>22.0</td>\n",
       "      <td>1</td>\n",
       "      <td>0</td>\n",
       "      <td>A/5 21171</td>\n",
       "      <td>7.2500</td>\n",
       "      <td>NaN</td>\n",
       "      <td>S</td>\n",
       "    </tr>\n",
       "    <tr>\n",
       "      <th>1</th>\n",
       "      <td>2</td>\n",
       "      <td>1</td>\n",
       "      <td>1</td>\n",
       "      <td>Cumings, Mrs. John Bradley (Florence Briggs Th...</td>\n",
       "      <td>female</td>\n",
       "      <td>38.0</td>\n",
       "      <td>1</td>\n",
       "      <td>0</td>\n",
       "      <td>PC 17599</td>\n",
       "      <td>71.2833</td>\n",
       "      <td>C85</td>\n",
       "      <td>C</td>\n",
       "    </tr>\n",
       "    <tr>\n",
       "      <th>2</th>\n",
       "      <td>3</td>\n",
       "      <td>1</td>\n",
       "      <td>3</td>\n",
       "      <td>Heikkinen, Miss. Laina</td>\n",
       "      <td>female</td>\n",
       "      <td>26.0</td>\n",
       "      <td>0</td>\n",
       "      <td>0</td>\n",
       "      <td>STON/O2. 3101282</td>\n",
       "      <td>7.9250</td>\n",
       "      <td>NaN</td>\n",
       "      <td>S</td>\n",
       "    </tr>\n",
       "    <tr>\n",
       "      <th>3</th>\n",
       "      <td>4</td>\n",
       "      <td>1</td>\n",
       "      <td>1</td>\n",
       "      <td>Futrelle, Mrs. Jacques Heath (Lily May Peel)</td>\n",
       "      <td>female</td>\n",
       "      <td>35.0</td>\n",
       "      <td>1</td>\n",
       "      <td>0</td>\n",
       "      <td>113803</td>\n",
       "      <td>53.1000</td>\n",
       "      <td>C123</td>\n",
       "      <td>S</td>\n",
       "    </tr>\n",
       "    <tr>\n",
       "      <th>4</th>\n",
       "      <td>5</td>\n",
       "      <td>0</td>\n",
       "      <td>3</td>\n",
       "      <td>Allen, Mr. William Henry</td>\n",
       "      <td>male</td>\n",
       "      <td>35.0</td>\n",
       "      <td>0</td>\n",
       "      <td>0</td>\n",
       "      <td>373450</td>\n",
       "      <td>8.0500</td>\n",
       "      <td>NaN</td>\n",
       "      <td>S</td>\n",
       "    </tr>\n",
       "  </tbody>\n",
       "</table>\n",
       "</div>"
      ],
      "text/plain": [
       "   PassengerId  Survived  Pclass  \\\n",
       "0            1         0       3   \n",
       "1            2         1       1   \n",
       "2            3         1       3   \n",
       "3            4         1       1   \n",
       "4            5         0       3   \n",
       "\n",
       "                                                Name     Sex   Age  SibSp  \\\n",
       "0                            Braund, Mr. Owen Harris    male  22.0      1   \n",
       "1  Cumings, Mrs. John Bradley (Florence Briggs Th...  female  38.0      1   \n",
       "2                             Heikkinen, Miss. Laina  female  26.0      0   \n",
       "3       Futrelle, Mrs. Jacques Heath (Lily May Peel)  female  35.0      1   \n",
       "4                           Allen, Mr. William Henry    male  35.0      0   \n",
       "\n",
       "   Parch            Ticket     Fare Cabin Embarked  \n",
       "0      0         A/5 21171   7.2500   NaN        S  \n",
       "1      0          PC 17599  71.2833   C85        C  \n",
       "2      0  STON/O2. 3101282   7.9250   NaN        S  \n",
       "3      0            113803  53.1000  C123        S  \n",
       "4      0            373450   8.0500   NaN        S  "
      ]
     },
     "execution_count": 4,
     "metadata": {},
     "output_type": "execute_result"
    }
   ],
   "source": [
    "train.head()"
   ]
  },
  {
   "cell_type": "code",
   "execution_count": 5,
   "id": "9095d36e-a322-49e2-ba12-be19ec5e50e6",
   "metadata": {},
   "outputs": [
    {
     "data": {
      "text/html": [
       "<div>\n",
       "<style scoped>\n",
       "    .dataframe tbody tr th:only-of-type {\n",
       "        vertical-align: middle;\n",
       "    }\n",
       "\n",
       "    .dataframe tbody tr th {\n",
       "        vertical-align: top;\n",
       "    }\n",
       "\n",
       "    .dataframe thead th {\n",
       "        text-align: right;\n",
       "    }\n",
       "</style>\n",
       "<table border=\"1\" class=\"dataframe\">\n",
       "  <thead>\n",
       "    <tr style=\"text-align: right;\">\n",
       "      <th></th>\n",
       "      <th>PassengerId</th>\n",
       "      <th>Pclass</th>\n",
       "      <th>Name</th>\n",
       "      <th>Sex</th>\n",
       "      <th>Age</th>\n",
       "      <th>SibSp</th>\n",
       "      <th>Parch</th>\n",
       "      <th>Ticket</th>\n",
       "      <th>Fare</th>\n",
       "      <th>Cabin</th>\n",
       "      <th>Embarked</th>\n",
       "    </tr>\n",
       "  </thead>\n",
       "  <tbody>\n",
       "    <tr>\n",
       "      <th>0</th>\n",
       "      <td>892</td>\n",
       "      <td>3</td>\n",
       "      <td>Kelly, Mr. James</td>\n",
       "      <td>male</td>\n",
       "      <td>34.5</td>\n",
       "      <td>0</td>\n",
       "      <td>0</td>\n",
       "      <td>330911</td>\n",
       "      <td>7.8292</td>\n",
       "      <td>NaN</td>\n",
       "      <td>Q</td>\n",
       "    </tr>\n",
       "    <tr>\n",
       "      <th>1</th>\n",
       "      <td>893</td>\n",
       "      <td>3</td>\n",
       "      <td>Wilkes, Mrs. James (Ellen Needs)</td>\n",
       "      <td>female</td>\n",
       "      <td>47.0</td>\n",
       "      <td>1</td>\n",
       "      <td>0</td>\n",
       "      <td>363272</td>\n",
       "      <td>7.0000</td>\n",
       "      <td>NaN</td>\n",
       "      <td>S</td>\n",
       "    </tr>\n",
       "    <tr>\n",
       "      <th>2</th>\n",
       "      <td>894</td>\n",
       "      <td>2</td>\n",
       "      <td>Myles, Mr. Thomas Francis</td>\n",
       "      <td>male</td>\n",
       "      <td>62.0</td>\n",
       "      <td>0</td>\n",
       "      <td>0</td>\n",
       "      <td>240276</td>\n",
       "      <td>9.6875</td>\n",
       "      <td>NaN</td>\n",
       "      <td>Q</td>\n",
       "    </tr>\n",
       "    <tr>\n",
       "      <th>3</th>\n",
       "      <td>895</td>\n",
       "      <td>3</td>\n",
       "      <td>Wirz, Mr. Albert</td>\n",
       "      <td>male</td>\n",
       "      <td>27.0</td>\n",
       "      <td>0</td>\n",
       "      <td>0</td>\n",
       "      <td>315154</td>\n",
       "      <td>8.6625</td>\n",
       "      <td>NaN</td>\n",
       "      <td>S</td>\n",
       "    </tr>\n",
       "    <tr>\n",
       "      <th>4</th>\n",
       "      <td>896</td>\n",
       "      <td>3</td>\n",
       "      <td>Hirvonen, Mrs. Alexander (Helga E Lindqvist)</td>\n",
       "      <td>female</td>\n",
       "      <td>22.0</td>\n",
       "      <td>1</td>\n",
       "      <td>1</td>\n",
       "      <td>3101298</td>\n",
       "      <td>12.2875</td>\n",
       "      <td>NaN</td>\n",
       "      <td>S</td>\n",
       "    </tr>\n",
       "  </tbody>\n",
       "</table>\n",
       "</div>"
      ],
      "text/plain": [
       "   PassengerId  Pclass                                          Name     Sex  \\\n",
       "0          892       3                              Kelly, Mr. James    male   \n",
       "1          893       3              Wilkes, Mrs. James (Ellen Needs)  female   \n",
       "2          894       2                     Myles, Mr. Thomas Francis    male   \n",
       "3          895       3                              Wirz, Mr. Albert    male   \n",
       "4          896       3  Hirvonen, Mrs. Alexander (Helga E Lindqvist)  female   \n",
       "\n",
       "    Age  SibSp  Parch   Ticket     Fare Cabin Embarked  \n",
       "0  34.5      0      0   330911   7.8292   NaN        Q  \n",
       "1  47.0      1      0   363272   7.0000   NaN        S  \n",
       "2  62.0      0      0   240276   9.6875   NaN        Q  \n",
       "3  27.0      0      0   315154   8.6625   NaN        S  \n",
       "4  22.0      1      1  3101298  12.2875   NaN        S  "
      ]
     },
     "execution_count": 5,
     "metadata": {},
     "output_type": "execute_result"
    }
   ],
   "source": [
    "test.head()"
   ]
  },
  {
   "cell_type": "code",
   "execution_count": 6,
   "id": "3151a9dc-0812-49c0-9547-e237dc12a0fa",
   "metadata": {},
   "outputs": [
    {
     "data": {
      "text/html": [
       "<div>\n",
       "<style scoped>\n",
       "    .dataframe tbody tr th:only-of-type {\n",
       "        vertical-align: middle;\n",
       "    }\n",
       "\n",
       "    .dataframe tbody tr th {\n",
       "        vertical-align: top;\n",
       "    }\n",
       "\n",
       "    .dataframe thead th {\n",
       "        text-align: right;\n",
       "    }\n",
       "</style>\n",
       "<table border=\"1\" class=\"dataframe\">\n",
       "  <thead>\n",
       "    <tr style=\"text-align: right;\">\n",
       "      <th></th>\n",
       "      <th>PassengerId</th>\n",
       "      <th>Survived</th>\n",
       "    </tr>\n",
       "  </thead>\n",
       "  <tbody>\n",
       "    <tr>\n",
       "      <th>0</th>\n",
       "      <td>892</td>\n",
       "      <td>0</td>\n",
       "    </tr>\n",
       "    <tr>\n",
       "      <th>1</th>\n",
       "      <td>893</td>\n",
       "      <td>1</td>\n",
       "    </tr>\n",
       "    <tr>\n",
       "      <th>2</th>\n",
       "      <td>894</td>\n",
       "      <td>0</td>\n",
       "    </tr>\n",
       "    <tr>\n",
       "      <th>3</th>\n",
       "      <td>895</td>\n",
       "      <td>0</td>\n",
       "    </tr>\n",
       "    <tr>\n",
       "      <th>4</th>\n",
       "      <td>896</td>\n",
       "      <td>1</td>\n",
       "    </tr>\n",
       "  </tbody>\n",
       "</table>\n",
       "</div>"
      ],
      "text/plain": [
       "   PassengerId  Survived\n",
       "0          892         0\n",
       "1          893         1\n",
       "2          894         0\n",
       "3          895         0\n",
       "4          896         1"
      ]
     },
     "execution_count": 6,
     "metadata": {},
     "output_type": "execute_result"
    }
   ],
   "source": [
    "gender_submission.head()"
   ]
  },
  {
   "cell_type": "markdown",
   "id": "3ce18ce9-5328-4f97-a62c-df4d2046ab94",
   "metadata": {},
   "source": [
    "statistical description of the train dataset"
   ]
  },
  {
   "cell_type": "code",
   "execution_count": 7,
   "id": "adb98386",
   "metadata": {},
   "outputs": [
    {
     "data": {
      "text/html": [
       "<div>\n",
       "<style scoped>\n",
       "    .dataframe tbody tr th:only-of-type {\n",
       "        vertical-align: middle;\n",
       "    }\n",
       "\n",
       "    .dataframe tbody tr th {\n",
       "        vertical-align: top;\n",
       "    }\n",
       "\n",
       "    .dataframe thead th {\n",
       "        text-align: right;\n",
       "    }\n",
       "</style>\n",
       "<table border=\"1\" class=\"dataframe\">\n",
       "  <thead>\n",
       "    <tr style=\"text-align: right;\">\n",
       "      <th></th>\n",
       "      <th>PassengerId</th>\n",
       "      <th>Survived</th>\n",
       "      <th>Pclass</th>\n",
       "      <th>Name</th>\n",
       "      <th>Sex</th>\n",
       "      <th>Age</th>\n",
       "      <th>SibSp</th>\n",
       "      <th>Parch</th>\n",
       "      <th>Ticket</th>\n",
       "      <th>Fare</th>\n",
       "      <th>Cabin</th>\n",
       "      <th>Embarked</th>\n",
       "    </tr>\n",
       "  </thead>\n",
       "  <tbody>\n",
       "    <tr>\n",
       "      <th>count</th>\n",
       "      <td>891.000000</td>\n",
       "      <td>891.000000</td>\n",
       "      <td>891.000000</td>\n",
       "      <td>891</td>\n",
       "      <td>891</td>\n",
       "      <td>714.000000</td>\n",
       "      <td>891.000000</td>\n",
       "      <td>891.000000</td>\n",
       "      <td>891</td>\n",
       "      <td>891.000000</td>\n",
       "      <td>204</td>\n",
       "      <td>889</td>\n",
       "    </tr>\n",
       "    <tr>\n",
       "      <th>unique</th>\n",
       "      <td>NaN</td>\n",
       "      <td>NaN</td>\n",
       "      <td>NaN</td>\n",
       "      <td>891</td>\n",
       "      <td>2</td>\n",
       "      <td>NaN</td>\n",
       "      <td>NaN</td>\n",
       "      <td>NaN</td>\n",
       "      <td>681</td>\n",
       "      <td>NaN</td>\n",
       "      <td>147</td>\n",
       "      <td>3</td>\n",
       "    </tr>\n",
       "    <tr>\n",
       "      <th>top</th>\n",
       "      <td>NaN</td>\n",
       "      <td>NaN</td>\n",
       "      <td>NaN</td>\n",
       "      <td>Braund, Mr. Owen Harris</td>\n",
       "      <td>male</td>\n",
       "      <td>NaN</td>\n",
       "      <td>NaN</td>\n",
       "      <td>NaN</td>\n",
       "      <td>347082</td>\n",
       "      <td>NaN</td>\n",
       "      <td>B96 B98</td>\n",
       "      <td>S</td>\n",
       "    </tr>\n",
       "    <tr>\n",
       "      <th>freq</th>\n",
       "      <td>NaN</td>\n",
       "      <td>NaN</td>\n",
       "      <td>NaN</td>\n",
       "      <td>1</td>\n",
       "      <td>577</td>\n",
       "      <td>NaN</td>\n",
       "      <td>NaN</td>\n",
       "      <td>NaN</td>\n",
       "      <td>7</td>\n",
       "      <td>NaN</td>\n",
       "      <td>4</td>\n",
       "      <td>644</td>\n",
       "    </tr>\n",
       "    <tr>\n",
       "      <th>mean</th>\n",
       "      <td>446.000000</td>\n",
       "      <td>0.383838</td>\n",
       "      <td>2.308642</td>\n",
       "      <td>NaN</td>\n",
       "      <td>NaN</td>\n",
       "      <td>29.699118</td>\n",
       "      <td>0.523008</td>\n",
       "      <td>0.381594</td>\n",
       "      <td>NaN</td>\n",
       "      <td>32.204208</td>\n",
       "      <td>NaN</td>\n",
       "      <td>NaN</td>\n",
       "    </tr>\n",
       "    <tr>\n",
       "      <th>std</th>\n",
       "      <td>257.353842</td>\n",
       "      <td>0.486592</td>\n",
       "      <td>0.836071</td>\n",
       "      <td>NaN</td>\n",
       "      <td>NaN</td>\n",
       "      <td>14.526497</td>\n",
       "      <td>1.102743</td>\n",
       "      <td>0.806057</td>\n",
       "      <td>NaN</td>\n",
       "      <td>49.693429</td>\n",
       "      <td>NaN</td>\n",
       "      <td>NaN</td>\n",
       "    </tr>\n",
       "    <tr>\n",
       "      <th>min</th>\n",
       "      <td>1.000000</td>\n",
       "      <td>0.000000</td>\n",
       "      <td>1.000000</td>\n",
       "      <td>NaN</td>\n",
       "      <td>NaN</td>\n",
       "      <td>0.420000</td>\n",
       "      <td>0.000000</td>\n",
       "      <td>0.000000</td>\n",
       "      <td>NaN</td>\n",
       "      <td>0.000000</td>\n",
       "      <td>NaN</td>\n",
       "      <td>NaN</td>\n",
       "    </tr>\n",
       "    <tr>\n",
       "      <th>25%</th>\n",
       "      <td>223.500000</td>\n",
       "      <td>0.000000</td>\n",
       "      <td>2.000000</td>\n",
       "      <td>NaN</td>\n",
       "      <td>NaN</td>\n",
       "      <td>20.125000</td>\n",
       "      <td>0.000000</td>\n",
       "      <td>0.000000</td>\n",
       "      <td>NaN</td>\n",
       "      <td>7.910400</td>\n",
       "      <td>NaN</td>\n",
       "      <td>NaN</td>\n",
       "    </tr>\n",
       "    <tr>\n",
       "      <th>50%</th>\n",
       "      <td>446.000000</td>\n",
       "      <td>0.000000</td>\n",
       "      <td>3.000000</td>\n",
       "      <td>NaN</td>\n",
       "      <td>NaN</td>\n",
       "      <td>28.000000</td>\n",
       "      <td>0.000000</td>\n",
       "      <td>0.000000</td>\n",
       "      <td>NaN</td>\n",
       "      <td>14.454200</td>\n",
       "      <td>NaN</td>\n",
       "      <td>NaN</td>\n",
       "    </tr>\n",
       "    <tr>\n",
       "      <th>75%</th>\n",
       "      <td>668.500000</td>\n",
       "      <td>1.000000</td>\n",
       "      <td>3.000000</td>\n",
       "      <td>NaN</td>\n",
       "      <td>NaN</td>\n",
       "      <td>38.000000</td>\n",
       "      <td>1.000000</td>\n",
       "      <td>0.000000</td>\n",
       "      <td>NaN</td>\n",
       "      <td>31.000000</td>\n",
       "      <td>NaN</td>\n",
       "      <td>NaN</td>\n",
       "    </tr>\n",
       "    <tr>\n",
       "      <th>max</th>\n",
       "      <td>891.000000</td>\n",
       "      <td>1.000000</td>\n",
       "      <td>3.000000</td>\n",
       "      <td>NaN</td>\n",
       "      <td>NaN</td>\n",
       "      <td>80.000000</td>\n",
       "      <td>8.000000</td>\n",
       "      <td>6.000000</td>\n",
       "      <td>NaN</td>\n",
       "      <td>512.329200</td>\n",
       "      <td>NaN</td>\n",
       "      <td>NaN</td>\n",
       "    </tr>\n",
       "  </tbody>\n",
       "</table>\n",
       "</div>"
      ],
      "text/plain": [
       "        PassengerId    Survived      Pclass                     Name   Sex  \\\n",
       "count    891.000000  891.000000  891.000000                      891   891   \n",
       "unique          NaN         NaN         NaN                      891     2   \n",
       "top             NaN         NaN         NaN  Braund, Mr. Owen Harris  male   \n",
       "freq            NaN         NaN         NaN                        1   577   \n",
       "mean     446.000000    0.383838    2.308642                      NaN   NaN   \n",
       "std      257.353842    0.486592    0.836071                      NaN   NaN   \n",
       "min        1.000000    0.000000    1.000000                      NaN   NaN   \n",
       "25%      223.500000    0.000000    2.000000                      NaN   NaN   \n",
       "50%      446.000000    0.000000    3.000000                      NaN   NaN   \n",
       "75%      668.500000    1.000000    3.000000                      NaN   NaN   \n",
       "max      891.000000    1.000000    3.000000                      NaN   NaN   \n",
       "\n",
       "               Age       SibSp       Parch  Ticket        Fare    Cabin  \\\n",
       "count   714.000000  891.000000  891.000000     891  891.000000      204   \n",
       "unique         NaN         NaN         NaN     681         NaN      147   \n",
       "top            NaN         NaN         NaN  347082         NaN  B96 B98   \n",
       "freq           NaN         NaN         NaN       7         NaN        4   \n",
       "mean     29.699118    0.523008    0.381594     NaN   32.204208      NaN   \n",
       "std      14.526497    1.102743    0.806057     NaN   49.693429      NaN   \n",
       "min       0.420000    0.000000    0.000000     NaN    0.000000      NaN   \n",
       "25%      20.125000    0.000000    0.000000     NaN    7.910400      NaN   \n",
       "50%      28.000000    0.000000    0.000000     NaN   14.454200      NaN   \n",
       "75%      38.000000    1.000000    0.000000     NaN   31.000000      NaN   \n",
       "max      80.000000    8.000000    6.000000     NaN  512.329200      NaN   \n",
       "\n",
       "       Embarked  \n",
       "count       889  \n",
       "unique        3  \n",
       "top           S  \n",
       "freq        644  \n",
       "mean        NaN  \n",
       "std         NaN  \n",
       "min         NaN  \n",
       "25%         NaN  \n",
       "50%         NaN  \n",
       "75%         NaN  \n",
       "max         NaN  "
      ]
     },
     "execution_count": 7,
     "metadata": {},
     "output_type": "execute_result"
    }
   ],
   "source": [
    "train.describe(include='all')"
   ]
  },
  {
   "cell_type": "markdown",
   "id": "e3645fb0-1b9d-4ce0-b5ce-af1098d38903",
   "metadata": {},
   "source": [
    "view the number of columns and rows of the datasets"
   ]
  },
  {
   "cell_type": "code",
   "execution_count": 8,
   "id": "349451b7",
   "metadata": {},
   "outputs": [
    {
     "name": "stdout",
     "output_type": "stream",
     "text": [
      "test shape (418, 11)\n",
      "train shape (891, 12)\n"
     ]
    }
   ],
   "source": [
    "print(\"test shape\",test.shape)\n",
    "print(\"train shape\",train.shape)"
   ]
  },
  {
   "cell_type": "markdown",
   "id": "5694cdde",
   "metadata": {},
   "source": [
    "let's create a bar chart showing the distribution of the target variable - survived"
   ]
  },
  {
   "cell_type": "markdown",
   "id": "cbbcec45-0f1d-4753-b6af-67f591be216c",
   "metadata": {},
   "source": []
  },
  {
   "cell_type": "code",
   "execution_count": 9,
   "id": "9d7465b4-1e79-419f-8872-8712621727f0",
   "metadata": {},
   "outputs": [
    {
     "data": {
      "image/png": "[encoded data removed]",
      "text/plain": [
       "<Figure size 640x480 with 1 Axes>"
      ]
     },
     "metadata": {},
     "output_type": "display_data"
    }
   ],
   "source": [
    "#train\n",
    "S_lab = []\n",
    "\n",
    "for n in train.Survived:\n",
    "    if n==1:\n",
    "        S_lab.append('Yes')\n",
    "    else:\n",
    "        S_lab.append('No')\n",
    "\n",
    "train['Survived_Label'] = S_lab\n",
    "train['Survived_Label'].head()\n",
    "\n",
    "\n",
    "\n",
    "plt.hist(train['Survived_Label'])\n",
    "plt.ylabel(\"Frequency\")\n",
    "plt.title('Histogram: Frequency of Survived Label')\n",
    "plt.text('No', 560, train['Survived_Label'].value_counts()[0],\n",
    "family='monospace', fontsize=10,horizontalalignment='left')\n",
    "plt.text('Yes', 350, train['Survived_Label'].value_counts()[1],\n",
    "family='monospace', fontsize=10,horizontalalignment='right');"
   ]
  },
  {
   "cell_type": "code",
   "execution_count": 10,
   "id": "98379429-d573-46d8-9d4f-0db6cfa6d5d4",
   "metadata": {},
   "outputs": [
    {
     "data": {
      "text/plain": [
       "<AxesSubplot:ylabel='Density'>"
      ]
     },
     "execution_count": 10,
     "metadata": {},
     "output_type": "execute_result"
    },
    {
     "data": {
      "image/png": "[encoded data removed]",
      "text/plain": [
       "<Figure size 640x480 with 1 Axes>"
      ]
     },
     "metadata": {},
     "output_type": "display_data"
    }
   ],
   "source": [
    "train.Survived.plot.density()"
   ]
  },
  {
   "cell_type": "markdown",
   "id": "8b473282-e036-439a-adc0-4483bf214f2c",
   "metadata": {},
   "source": [
    "bell-shaped distribution "
   ]
  },
  {
   "cell_type": "code",
   "execution_count": 11,
   "id": "c70d113e-b773-409f-89a2-3d4c4e5d94ce",
   "metadata": {},
   "outputs": [
    {
     "data": {
      "text/plain": [
       "No     549\n",
       "Yes    342\n",
       "Name: Survived_Label, dtype: int64"
      ]
     },
     "execution_count": 11,
     "metadata": {},
     "output_type": "execute_result"
    }
   ],
   "source": [
    "train['Survived_Label'].value_counts()"
   ]
  },
  {
   "cell_type": "markdown",
   "id": "0be12b7e-12c5-4ced-9273-0de55d6629d5",
   "metadata": {},
   "source": [
    "In the train dataset, 549 people did not survive"
   ]
  },
  {
   "cell_type": "code",
   "execution_count": 12,
   "id": "d333cc0c-c6ff-4559-a43e-0b9f70e4c8a7",
   "metadata": {},
   "outputs": [
    {
     "data": {
      "image/png": "[encoded data removed]",
      "text/plain": [
       "<Figure size 1000x500 with 5 Axes>"
      ]
     },
     "metadata": {},
     "output_type": "display_data"
    }
   ],
   "source": [
    "fig = plt.figure(figsize=(10,5))\n",
    "#fig, axes = plt.subplots(2, 3, sharex=True, sharey=True)\n",
    "ax= fig.add_subplot(2, 3, 1)\n",
    "sns.boxplot(y=train['Age'],x=train['Survived_Label'])\n",
    "ax.set_title('Age Variable')\n",
    "ax1 = fig.add_subplot(2, 3, 2)\n",
    "sns.boxplot(y=train['Pclass'],x=train['Survived_Label'])\n",
    "ax1.set_title('Passenger Class Variable')\n",
    "ax2 = fig.add_subplot(2, 3, 3)\n",
    "sns.boxplot(y=train['Fare'],x=train['Survived_Label'])\n",
    "ax2.set_title('Fare')\n",
    "ax3 = fig.add_subplot(2, 3, 4)\n",
    "sns.boxplot(y=train['Parch'],x=train['Survived_Label'])\n",
    "ax3.set_title('Parch')\n",
    "ax4 = fig.add_subplot(2, 3, 5)\n",
    "sns.boxplot(y=train['SibSp'],x=train['Survived_Label'])\n",
    "ax4.set_title('SibSp')\n",
    "plt.subplots_adjust(wspace=0.5, hspace=0.4);"
   ]
  },
  {
   "cell_type": "markdown",
   "id": "75726fa0-9525-49c8-8e51-1994ef9b4827",
   "metadata": {},
   "source": [
    "We can also summarize the variables and group by the survived label"
   ]
  },
  {
   "cell_type": "markdown",
   "id": "c2d1b587-b8a5-4ef4-9293-bb1da7cb6656",
   "metadata": {},
   "source": [
    "**MEAN**"
   ]
  },
  {
   "cell_type": "code",
   "execution_count": 13,
   "id": "9a5d6abe-e641-4b80-9831-c3e7cc5f5d30",
   "metadata": {},
   "outputs": [
    {
     "data": {
      "text/html": [
       "<div>\n",
       "<style scoped>\n",
       "    .dataframe tbody tr th:only-of-type {\n",
       "        vertical-align: middle;\n",
       "    }\n",
       "\n",
       "    .dataframe tbody tr th {\n",
       "        vertical-align: top;\n",
       "    }\n",
       "\n",
       "    .dataframe thead th {\n",
       "        text-align: right;\n",
       "    }\n",
       "</style>\n",
       "<table border=\"1\" class=\"dataframe\">\n",
       "  <thead>\n",
       "    <tr style=\"text-align: right;\">\n",
       "      <th></th>\n",
       "      <th>Age</th>\n",
       "      <th>Pclass</th>\n",
       "      <th>Fare</th>\n",
       "      <th>Parch</th>\n",
       "      <th>SibSp</th>\n",
       "    </tr>\n",
       "    <tr>\n",
       "      <th>Survived_Label</th>\n",
       "      <th></th>\n",
       "      <th></th>\n",
       "      <th></th>\n",
       "      <th></th>\n",
       "      <th></th>\n",
       "    </tr>\n",
       "  </thead>\n",
       "  <tbody>\n",
       "    <tr>\n",
       "      <th>No</th>\n",
       "      <td>30.626179</td>\n",
       "      <td>2.531876</td>\n",
       "      <td>22.117887</td>\n",
       "      <td>0.329690</td>\n",
       "      <td>0.553734</td>\n",
       "    </tr>\n",
       "    <tr>\n",
       "      <th>Yes</th>\n",
       "      <td>28.343690</td>\n",
       "      <td>1.950292</td>\n",
       "      <td>48.395408</td>\n",
       "      <td>0.464912</td>\n",
       "      <td>0.473684</td>\n",
       "    </tr>\n",
       "  </tbody>\n",
       "</table>\n",
       "</div>"
      ],
      "text/plain": [
       "                      Age    Pclass       Fare     Parch     SibSp\n",
       "Survived_Label                                                    \n",
       "No              30.626179  2.531876  22.117887  0.329690  0.553734\n",
       "Yes             28.343690  1.950292  48.395408  0.464912  0.473684"
      ]
     },
     "execution_count": 13,
     "metadata": {},
     "output_type": "execute_result"
    }
   ],
   "source": [
    "train[['Age','Pclass','Fare','Parch','SibSp']].groupby(train['Survived_Label']).mean()"
   ]
  },
  {
   "cell_type": "markdown",
   "id": "872d20ef-bd7b-43e4-aeaf-505130715032",
   "metadata": {},
   "source": [
    "**STANDARD DEVIATION**"
   ]
  },
  {
   "cell_type": "code",
   "execution_count": 14,
   "id": "b49cf29c-712f-457e-9973-2193fac3026e",
   "metadata": {},
   "outputs": [
    {
     "data": {
      "text/html": [
       "<div>\n",
       "<style scoped>\n",
       "    .dataframe tbody tr th:only-of-type {\n",
       "        vertical-align: middle;\n",
       "    }\n",
       "\n",
       "    .dataframe tbody tr th {\n",
       "        vertical-align: top;\n",
       "    }\n",
       "\n",
       "    .dataframe thead th {\n",
       "        text-align: right;\n",
       "    }\n",
       "</style>\n",
       "<table border=\"1\" class=\"dataframe\">\n",
       "  <thead>\n",
       "    <tr style=\"text-align: right;\">\n",
       "      <th></th>\n",
       "      <th>Age</th>\n",
       "      <th>Pclass</th>\n",
       "      <th>Fare</th>\n",
       "      <th>Parch</th>\n",
       "      <th>SibSp</th>\n",
       "    </tr>\n",
       "    <tr>\n",
       "      <th>Survived_Label</th>\n",
       "      <th></th>\n",
       "      <th></th>\n",
       "      <th></th>\n",
       "      <th></th>\n",
       "      <th></th>\n",
       "    </tr>\n",
       "  </thead>\n",
       "  <tbody>\n",
       "    <tr>\n",
       "      <th>No</th>\n",
       "      <td>14.172110</td>\n",
       "      <td>0.735805</td>\n",
       "      <td>31.388207</td>\n",
       "      <td>0.823166</td>\n",
       "      <td>1.288399</td>\n",
       "    </tr>\n",
       "    <tr>\n",
       "      <th>Yes</th>\n",
       "      <td>14.950952</td>\n",
       "      <td>0.863321</td>\n",
       "      <td>66.596998</td>\n",
       "      <td>0.771712</td>\n",
       "      <td>0.708688</td>\n",
       "    </tr>\n",
       "  </tbody>\n",
       "</table>\n",
       "</div>"
      ],
      "text/plain": [
       "                      Age    Pclass       Fare     Parch     SibSp\n",
       "Survived_Label                                                    \n",
       "No              14.172110  0.735805  31.388207  0.823166  1.288399\n",
       "Yes             14.950952  0.863321  66.596998  0.771712  0.708688"
      ]
     },
     "execution_count": 14,
     "metadata": {},
     "output_type": "execute_result"
    }
   ],
   "source": [
    "train[['Age','Pclass','Fare','Parch','SibSp']].groupby(train['Survived_Label']).std()"
   ]
  },
  {
   "cell_type": "markdown",
   "id": "41da5f3b-d5c8-4035-8f6c-5b5dabdc2199",
   "metadata": {},
   "source": [
    "inference from the boxplots and mean summary\n",
    "\n",
    "**Age:** The mean age of the people that died is similar to mean of those that survived. The oldest person survived\n",
    "\n",
    "**Pclass:** The median class of the people that died is lower than median of those that survived. it is possible that the higher the class number, the lower the quality. So more people from upper classes survived.\n",
    "\n",
    "**Fare:** The mean fare of the people that died is lower than the mean of those that survived. It is likely that staff do not pay fare and people that paid lower fare are in lower classes. Generally, the lower the fare, the higher the chance that the passenger did not survive"
   ]
  },
  {
   "cell_type": "code",
   "execution_count": 15,
   "id": "04d6de34-4a0e-4bfe-835c-7b60cfa10efe",
   "metadata": {},
   "outputs": [
    {
     "data": {
      "text/plain": [
       "True     643\n",
       "False    248\n",
       "Name: Fare, dtype: int64"
      ]
     },
     "execution_count": 15,
     "metadata": {},
     "output_type": "execute_result"
    }
   ],
   "source": [
    "train.Fare.duplicated().value_counts()"
   ]
  },
  {
   "cell_type": "markdown",
   "id": "697b830b-103c-41a0-9cae-2c6ea8d0cefa",
   "metadata": {},
   "source": [
    "There are 643 duplicated fare in the train dataset. It is possible that fare for family package is repeated "
   ]
  },
  {
   "cell_type": "code",
   "execution_count": 16,
   "id": "e7a469fb-e830-4e80-ad30-615f956e2c3e",
   "metadata": {},
   "outputs": [
    {
     "data": {
      "text/plain": [
       "True     567\n",
       "False    324\n",
       "dtype: int64"
      ]
     },
     "execution_count": 16,
     "metadata": {},
     "output_type": "execute_result"
    }
   ],
   "source": [
    "train[['Fare','SibSp']].duplicated().value_counts()"
   ]
  },
  {
   "cell_type": "markdown",
   "id": "289ea34c-7f4d-4f8c-b5ab-e12b86d07e1d",
   "metadata": {},
   "source": [
    "This confirms that there are family pakage fares that are repeated"
   ]
  },
  {
   "cell_type": "markdown",
   "id": "49786c90-2440-466e-ac12-cbeba7327d29",
   "metadata": {},
   "source": [
    "We can also review the categorical variables using barplot"
   ]
  },
  {
   "cell_type": "code",
   "execution_count": 17,
   "id": "0217ee1b-d430-451d-9d81-bfcc337f614e",
   "metadata": {},
   "outputs": [
    {
     "data": {
      "image/png": "[encoded data removed]",
      "text/plain": [
       "<Figure size 640x480 with 1 Axes>"
      ]
     },
     "metadata": {},
     "output_type": "display_data"
    }
   ],
   "source": [
    "sex= pd.crosstab(train['Sex'], train['Survived_Label'])\n",
    "sex.plot.bar(title='Distribution of survival by sex',stacked=True);"
   ]
  },
  {
   "cell_type": "markdown",
   "id": "403e06c0-562e-4958-a204-0dfc202f5e22",
   "metadata": {},
   "source": [
    "Number of female survival is higher than number of male survival\n",
    "Significantly more male in the train dataset"
   ]
  },
  {
   "cell_type": "code",
   "execution_count": 18,
   "id": "54ce5c10",
   "metadata": {},
   "outputs": [
    {
     "data": {
      "text/plain": [
       "S    644\n",
       "C    168\n",
       "Q     77\n",
       "Name: Embarked, dtype: int64"
      ]
     },
     "execution_count": 18,
     "metadata": {},
     "output_type": "execute_result"
    }
   ],
   "source": [
    "train['Embarked'].value_counts()"
   ]
  },
  {
   "cell_type": "code",
   "execution_count": 19,
   "id": "81d4c1c8-3b3e-41ab-9961-cc1ff60f2dff",
   "metadata": {},
   "outputs": [
    {
     "data": {
      "image/png": "[encoded data removed]",
      "text/plain": [
       "<Figure size 640x480 with 1 Axes>"
      ]
     },
     "metadata": {},
     "output_type": "display_data"
    }
   ],
   "source": [
    "emb= pd.crosstab(train['Embarked'], train['Survived_Label'])\n",
    "emb.plot.bar(title='Distribution of survival by Embarked',stacked=True);"
   ]
  },
  {
   "cell_type": "markdown",
   "id": "19cc893e-0e30-4907-8599-030d41ea61ea",
   "metadata": {},
   "source": [
    "The tickets and Cabin variables have too many non-unique values that do not provide any insight. Let's figure out how to optimize these variables for machine learning"
   ]
  },
  {
   "cell_type": "markdown",
   "id": "eafbe273-44fa-44b2-8b4a-96f045f6d2b8",
   "metadata": {},
   "source": [
    "Deck variable from Cabin"
   ]
  },
  {
   "cell_type": "code",
   "execution_count": 20,
   "id": "5264eb14",
   "metadata": {
    "tags": []
   },
   "outputs": [],
   "source": [
    "train['Cabin']=train['Cabin'].str.split('', expand=True)[1]+train['Cabin'].str.split('', expand=True)[2]\n",
    "test['Cabin']=test['Cabin'].str.split('', expand=True)[1]+test['Cabin'].str.split('', expand=True)[2]\n",
    "\n",
    "train['Deck']=train['Cabin'].str.split('', expand=True)[1]\n",
    "test['Deck']=test['Cabin'].str.split('', expand=True)[1]\n",
    "#print(train['Cabin'].value_counts())\n",
    "#print(test['Cabin'].value_counts())\n"
   ]
  },
  {
   "cell_type": "code",
   "execution_count": 21,
   "id": "2a71231b",
   "metadata": {
    "tags": []
   },
   "outputs": [
    {
     "name": "stdout",
     "output_type": "stream",
     "text": [
      "[None 'C' 'E' 'G' 'D' 'A' 'B' 'F' nan]\n",
      "C    59\n",
      "B    47\n",
      "D    33\n",
      "E    32\n",
      "A    15\n",
      "F    13\n",
      "G     4\n",
      "Name: Deck, dtype: int64\n",
      "C    35\n",
      "B    18\n",
      "D    13\n",
      "E     9\n",
      "F     8\n",
      "A     7\n",
      "G     1\n",
      "Name: Deck, dtype: int64\n"
     ]
    }
   ],
   "source": [
    "train.Deck = train.Deck.replace('T',np.nan)\n",
    "print(train['Deck'].unique())\n",
    "print(train['Deck'].value_counts())\n",
    "print(test['Deck'].value_counts())"
   ]
  },
  {
   "cell_type": "code",
   "execution_count": 22,
   "id": "33e91507-35d4-4e11-a064-66bc66a26b4f",
   "metadata": {},
   "outputs": [
    {
     "data": {
      "image/png": "[encoded data removed]",
      "text/plain": [
       "<Figure size 640x480 with 1 Axes>"
      ]
     },
     "metadata": {},
     "output_type": "display_data"
    }
   ],
   "source": [
    "#fig = plt.figure(figsize=(14,8))\n",
    "#fig, axes = plt.subplots(1, 2, sharey=True)\n",
    "deck= pd.crosstab(train['Deck'], train['Survived_Label'])\n",
    "#ax1=fig.add_subplot(1, 2, 1)\n",
    "deck.plot.bar(title='Distribution of survival by Deck in train dataset',stacked=True);\n",
    "#deck1= pd.crosstab(test['Deck'])\n",
    "#ax1=fig.add_subplot(1, 2, 2)"
   ]
  },
  {
   "cell_type": "markdown",
   "id": "100f214f",
   "metadata": {},
   "source": [
    "let's replace nulls values in the age feature with mean values and replace the Cabin null values with unknown"
   ]
  },
  {
   "cell_type": "code",
   "execution_count": 23,
   "id": "11b7c0e9",
   "metadata": {},
   "outputs": [],
   "source": [
    "train.Cabin = train.Cabin.fillna('Unknown')\n",
    "test.Cabin = test.Cabin.fillna('Unknown')\n",
    "train.Deck = train.Deck.fillna('C')\n",
    "test.Deck = test.Deck.fillna('C') \n",
    "\n",
    "train['Age'].replace(np.nan,train['Age'].median(), inplace=True)\n",
    "\n",
    "test['Age'].replace(np.nan,test['Age'].median(), inplace=True)\n",
    "\n",
    "train['Fare'].replace(np.nan,train['Fare'].mean(), inplace=True)\n",
    "\n",
    "test['Fare'].replace(np.nan,test['Fare'].mean(), inplace=True)\n",
    "train['Embarked'].replace(np.nan,'S', inplace=True)"
   ]
  },
  {
   "cell_type": "code",
   "execution_count": 24,
   "id": "3048e8f2-e09e-4072-8e37-9cf3b092203d",
   "metadata": {},
   "outputs": [
    {
     "data": {
      "image/png": "[encoded data removed]",
      "text/plain": [
       "<Figure size 640x480 with 1 Axes>"
      ]
     },
     "metadata": {},
     "output_type": "display_data"
    }
   ],
   "source": [
    "plt.hist(test['Deck'])\n",
    "plt.ylabel('Deck')\n",
    "plt.title('Distribution Deck variable in test dataset');"
   ]
  },
  {
   "cell_type": "markdown",
   "id": "893073d4-fa77-42e9-9bf1-c4e7486a6d07",
   "metadata": {},
   "source": [
    "We can separate out the title from the name variable"
   ]
  },
  {
   "cell_type": "code",
   "execution_count": 25,
   "id": "086918dc-1471-4ff3-bb22-8aa48fc4c7ce",
   "metadata": {},
   "outputs": [],
   "source": [
    "\n",
    "\n",
    "train['Title']=train['Name'].str.split(' ', expand=True)[1]\n",
    "test['Title']=test['Name'].str.split(' ', expand=True)[1]\n",
    "def replace_titles(x):\n",
    "    if x['Title'] in ['Miss.','Mlle.', 'Ms.']:\n",
    "        return 'Miss'\n",
    "    if x['Title']=='Master.':\n",
    "        return 'Master'\n",
    "    if x['Sex']=='male':\n",
    "        return 'Mr'\n",
    "    else:\n",
    "        return 'Mrs'\n",
    "train['Title']=train.apply(replace_titles, axis=1)\n",
    "test['Title']=test.apply(replace_titles, axis=1)"
   ]
  },
  {
   "cell_type": "code",
   "execution_count": 26,
   "id": "315b54aa-60ba-4795-bfe9-8c8dea074929",
   "metadata": {},
   "outputs": [
    {
     "data": {
      "image/png": "[encoded data removed]",
      "text/plain": [
       "<Figure size 1400x500 with 2 Axes>"
      ]
     },
     "metadata": {},
     "output_type": "display_data"
    }
   ],
   "source": [
    "fig = plt.figure(figsize=(14,5))\n",
    "ax= fig.add_subplot(1, 2, 1)\n",
    "plt.hist(train['Title'])\n",
    "ax.set_title('Distribution of Title in train dataset')\n",
    "ax1 = fig.add_subplot(1, 2, 2)\n",
    "plt.hist(test['Title'])\n",
    "ax1.set_title('Distribution of Title in test dataset');"
   ]
  },
  {
   "cell_type": "markdown",
   "id": "e09320b0-d359-47bc-869b-90ea76389962",
   "metadata": {},
   "source": [
    "Let's create a variable that show common last names in the train and test dataset"
   ]
  },
  {
   "cell_type": "code",
   "execution_count": 27,
   "id": "21f49ba5-e30c-487e-aa08-0b95319144c8",
   "metadata": {},
   "outputs": [],
   "source": [
    "train['Name']=train['Name'].str.split(' ', expand=True)[0]\n",
    "test['Name']=test['Name'].str.split(' ', expand=True)[0]"
   ]
  },
  {
   "cell_type": "code",
   "execution_count": 28,
   "id": "b079eaed-9063-4cc4-8206-68a7cb9f8e79",
   "metadata": {},
   "outputs": [
    {
     "name": "stdout",
     "output_type": "stream",
     "text": [
      "['Abbott,' 'Aks,' 'Allison,' 'Andersson,' 'Andrew,' 'Angle,' 'Asplund,'\n",
      " 'Astor,' 'Becker,' 'Betros,' 'Bonnell,' 'Boulos,' 'Bowen,' 'Bradley,'\n",
      " 'Brown,' 'Bryhl,' 'Burns,' 'Cacic,' 'Caldwell,' 'Canavan,' 'Caram,'\n",
      " 'Cardeza,' 'Carlsson,' 'Carr,' 'Carrau,' 'Cavendish,' 'Chaffee,'\n",
      " 'Chapman,' 'Christy,' 'Chronopoulos,' 'Clarke,' 'Compton,' 'Connolly,'\n",
      " 'Cook,' 'Cor,' 'Coutts,' 'Cribb,' 'Crosby,' 'Cumings,' 'Daly,' 'Danbom,'\n",
      " 'Davidson,' 'Davies,' 'Davison,' 'Dean,' 'Dennis,' 'Dodge,' 'Douglas,'\n",
      " 'Drew,' 'Duran' 'Elias,' 'Faunthorpe,' 'Fleming,' 'Ford,' 'Fortune,'\n",
      " 'Fox,' 'Frauenthal,' 'Frolicher-Stehli,' 'Gale,' 'Giles,' 'Goldsmith,'\n",
      " 'Goodwin,' 'Greenfield,' 'Hansen,' 'Harder,' 'Hays,' 'Herman,'\n",
      " 'Hirvonen,' 'Hocking,' 'Hold,' 'Ilmakangas,' 'Johansson,' 'Johnston,'\n",
      " 'Jonsson,' 'Karlsson,' 'Karun,' 'Keane,' 'Kelly,' 'Kenyon,' 'Kiernan,'\n",
      " 'Kimball,' 'Kink,' 'Kink-Heilmann,' 'Klasen,' 'Lahtinen,' 'Laroche,'\n",
      " 'Lefebre,' 'Lennon,' 'Lindell,' 'Lines,' 'Louch,' 'Mallet,' 'Marvin,'\n",
      " 'McCarthy,' 'McCoy,' 'McGowan,' 'McNamee,' 'Minahan,' 'Moore,'\n",
      " 'Moubarek,' 'Murphy,' 'Nakid,' 'Nilsson,' \"O'Connor,\" 'Olsen,' 'Olsson,'\n",
      " 'Oreskovic,' 'Ostby,' 'Palsson,' 'Peter,' 'Phillips,' 'Quick,' 'Rice,'\n",
      " 'Risien,' 'Robins,' 'Rogers,' 'Rosblom,' 'Rothschild,' 'Ryan,' 'Ryerson,'\n",
      " 'Sage,' 'Samaan,' 'Sandstrom,' 'Smith,' 'Spedden,' 'Spencer,' 'Svensson,'\n",
      " 'Thomas,' 'Touma,' 'Unknown' 'Vander' 'Warren,' 'Watt,' 'Weisz,' 'Wells,'\n",
      " 'West,' 'White,' 'Wick,' 'Widener,' 'Wiklund,' 'Williams,' 'Wright,' 'de'\n",
      " 'del' 'van']\n",
      "['Abbott,' 'Aks,' 'Allison,' 'Andersson,' 'Andrew,' 'Angle,' 'Asplund,'\n",
      " 'Astor,' 'Becker,' 'Betros,' 'Bonnell,' 'Boulos,' 'Bowen,' 'Bradley,'\n",
      " 'Brown,' 'Bryhl,' 'Burns,' 'Cacic,' 'Caldwell,' 'Canavan,' 'Caram,'\n",
      " 'Cardeza,' 'Carlsson,' 'Carr,' 'Carrau,' 'Cavendish,' 'Chaffee,'\n",
      " 'Chapman,' 'Christy,' 'Chronopoulos,' 'Clarke,' 'Compton,' 'Connolly,'\n",
      " 'Cook,' 'Cor,' 'Coutts,' 'Cribb,' 'Crosby,' 'Cumings,' 'Daly,' 'Danbom,'\n",
      " 'Davidson,' 'Davies,' 'Davison,' 'Dean,' 'Dennis,' 'Dodge,' 'Douglas,'\n",
      " 'Drew,' 'Duran' 'Elias,' 'Faunthorpe,' 'Fleming,' 'Ford,' 'Fortune,'\n",
      " 'Fox,' 'Frauenthal,' 'Frolicher-Stehli,' 'Gale,' 'Giles,' 'Goldsmith,'\n",
      " 'Goodwin,' 'Greenfield,' 'Hansen,' 'Harder,' 'Hays,' 'Herman,'\n",
      " 'Hirvonen,' 'Hocking,' 'Hold,' 'Ilmakangas,' 'Johansson,' 'Johnston,'\n",
      " 'Jonsson,' 'Karlsson,' 'Karun,' 'Keane,' 'Kelly,' 'Kenyon,' 'Kiernan,'\n",
      " 'Kimball,' 'Kink,' 'Kink-Heilmann,' 'Klasen,' 'Lahtinen,' 'Laroche,'\n",
      " 'Lefebre,' 'Lennon,' 'Lindell,' 'Lines,' 'Louch,' 'Mallet,' 'Marvin,'\n",
      " 'McCarthy,' 'McCoy,' 'McGowan,' 'McNamee,' 'Minahan,' 'Moore,'\n",
      " 'Moubarek,' 'Murphy,' 'Nakid,' 'Nilsson,' \"O'Connor,\" 'Olsen,' 'Olsson,'\n",
      " 'Oreskovic,' 'Ostby,' 'Palsson,' 'Peter,' 'Phillips,' 'Quick,' 'Rice,'\n",
      " 'Risien,' 'Robins,' 'Rogers,' 'Rosblom,' 'Rothschild,' 'Ryan,' 'Ryerson,'\n",
      " 'Sage,' 'Samaan,' 'Sandstrom,' 'Smith,' 'Spedden,' 'Spencer,' 'Svensson,'\n",
      " 'Thomas,' 'Touma,' 'Unknown' 'Vander' 'Warren,' 'Watt,' 'Weisz,' 'Wells,'\n",
      " 'West,' 'White,' 'Wick,' 'Widener,' 'Wiklund,' 'Williams,' 'Wright,' 'de'\n",
      " 'del' 'van']\n"
     ]
    }
   ],
   "source": [
    "train.Name.astype('str')\n",
    "test.Name.astype('str')\n",
    "cb = []\n",
    "for i in train['Name']:\n",
    "    if i in np.sort(test['Name']):\n",
    "        cb.append(i)\n",
    "    else:\n",
    "        i='Unknown'\n",
    "        cb.append(i)\n",
    "train['Name'] = cb\n",
    "\n",
    "cb1 = []\n",
    "for i in test['Name']:\n",
    "    if i in np.sort(train['Name']):\n",
    "        cb1.append(i)\n",
    "    else:\n",
    "        i='Unknown'\n",
    "        cb1.append(i)\n",
    "test['Name'] = cb1\n",
    "\n",
    "print(np.sort(train['Name'].unique()))\n",
    "print(np.sort(test['Name'].unique()))"
   ]
  },
  {
   "cell_type": "markdown",
   "id": "81dd7122-6e82-4c82-9c7d-64d76049f8f4",
   "metadata": {},
   "source": [
    "In addition to the newly created Deck variable, we can capture common cabins (first two characters) in train and test datasets "
   ]
  },
  {
   "cell_type": "code",
   "execution_count": 29,
   "id": "f23b1ea3-6a33-4bae-8d9e-a0dc3cf1c1cb",
   "metadata": {},
   "outputs": [
    {
     "name": "stdout",
     "output_type": "stream",
     "text": [
      "['A1' 'A2' 'A3' 'B1' 'B2' 'B3' 'B4' 'B5' 'B6' 'B7' 'C1' 'C2' 'C3' 'C4'\n",
      " 'C5' 'C6' 'C7' 'C8' 'C9' 'D' 'D1' 'D2' 'D3' 'D4' 'E3' 'E4' 'E5' 'E6' 'F '\n",
      " 'F2' 'F3' 'F4' 'G6' 'Unknown']\n",
      "['A1' 'A2' 'A3' 'B1' 'B2' 'B3' 'B4' 'B5' 'B6' 'B7' 'C1' 'C2' 'C3' 'C4'\n",
      " 'C5' 'C6' 'C7' 'C8' 'C9' 'D' 'D1' 'D2' 'D3' 'D4' 'E3' 'E4' 'E5' 'E6' 'F '\n",
      " 'F2' 'F3' 'F4' 'G6' 'Unknown']\n"
     ]
    }
   ],
   "source": [
    "train.Cabin.astype('str')\n",
    "test.Cabin.astype('str')\n",
    "cb = []\n",
    "for i in train['Cabin']:\n",
    "    if i in np.sort(test['Cabin']):\n",
    "        cb.append(i)\n",
    "    else:\n",
    "        i='Unknown'\n",
    "        cb.append(i)\n",
    "train['Cabin'] = cb\n",
    "\n",
    "cb1 = []\n",
    "for i in test['Cabin']:\n",
    "    if i in np.sort(train['Cabin']):\n",
    "        cb1.append(i)\n",
    "    else:\n",
    "        i='Unknown'\n",
    "        cb1.append(i)\n",
    "test['Cabin'] = cb1\n",
    "\n",
    "print(np.sort(train['Cabin'].unique()))\n",
    "print(np.sort(test['Cabin'].unique()))"
   ]
  },
  {
   "cell_type": "markdown",
   "id": "b9eda878-5b9a-4ada-bced-f0667e8f4006",
   "metadata": {},
   "source": [
    "repeat above step for ticket variable"
   ]
  },
  {
   "cell_type": "code",
   "execution_count": 30,
   "id": "0fdd74e9-8ddf-4736-a0f4-827960ec0be0",
   "metadata": {},
   "outputs": [
    {
     "name": "stdout",
     "output_type": "stream",
     "text": [
      "['110813' '112058' '113059' '113503' '113509' '113773' '113781' '113796'\n",
      " '11753' '11765' '11767' '11769' '11813' '12749' '13567' '1601' '16966'\n",
      " '17463' '17464' '19877' '19928' '19950' '2003' '220845' '226875' '228414'\n",
      " '230136' '236853' '237789' '24160' '244358' '248738' '250651' '2625'\n",
      " '26360' '2650' '2653' '2661' '2662' '2668' '26707' '2678' '2680' '2689'\n",
      " '28220' '28664' '29103' '29105' '2926' '29750' '3101295' '3101298'\n",
      " '315153' '33638' '345572' '345763' '347077' '347080' '349256' '349909'\n",
      " '349910' '350026' '364498' '36568' '367226' '36928' '370129' '370371'\n",
      " '371362' '376566' '382652' '386525' '392091' '4133' 'A/4 48871'\n",
      " 'A/5. 3337' 'A/5. 851' 'C 4001' 'C.A. 2315' 'C.A. 2673' 'C.A. 33112'\n",
      " 'C.A. 33595' 'C.A. 34651' 'C.A. 37671' 'C.A. 6212' 'CA 2144' 'CA. 2343'\n",
      " 'F.C. 12750' 'F.C.C. 13528' 'PC 17483' 'PC 17558' 'PC 17569' 'PC 17585'\n",
      " 'PC 17592' 'PC 17597' 'PC 17599' 'PC 17603' 'PC 17608' 'PC 17755'\n",
      " 'PC 17756' 'PC 17757' 'PC 17758' 'PC 17759' 'PC 17760' 'PC 17761'\n",
      " 'PP 9549' 'S.C./PARIS 2079' 'S.O.C. 14879' 'SC/AH 29037' 'SC/AH 3085'\n",
      " 'SC/PARIS 2167' 'SC/Paris 2123' 'Unknown' 'W./C. 6607' 'W./C. 6608'\n",
      " 'W.E.P. 5734']\n",
      "['110813' '112058' '113059' '113503' '113509' '113773' '113781' '113796'\n",
      " '11753' '11765' '11767' '11769' '11813' '12749' '13567' '1601' '16966'\n",
      " '17463' '17464' '19877' '19928' '19950' '2003' '220845' '226875' '228414'\n",
      " '230136' '236853' '237789' '24160' '244358' '248738' '250651' '2625'\n",
      " '26360' '2650' '2653' '2661' '2662' '2668' '26707' '2678' '2680' '2689'\n",
      " '28220' '28664' '29103' '29105' '2926' '29750' '3101295' '3101298'\n",
      " '315153' '33638' '345572' '345763' '347077' '347080' '349256' '349909'\n",
      " '349910' '350026' '364498' '36568' '367226' '36928' '370129' '370371'\n",
      " '371362' '376566' '382652' '386525' '392091' '4133' 'A/4 48871'\n",
      " 'A/5. 3337' 'A/5. 851' 'C 4001' 'C.A. 2315' 'C.A. 2673' 'C.A. 33112'\n",
      " 'C.A. 33595' 'C.A. 34651' 'C.A. 37671' 'C.A. 6212' 'CA 2144' 'CA. 2343'\n",
      " 'F.C. 12750' 'F.C.C. 13528' 'PC 17483' 'PC 17558' 'PC 17569' 'PC 17585'\n",
      " 'PC 17592' 'PC 17597' 'PC 17599' 'PC 17603' 'PC 17608' 'PC 17755'\n",
      " 'PC 17756' 'PC 17757' 'PC 17758' 'PC 17759' 'PC 17760' 'PC 17761'\n",
      " 'PP 9549' 'S.C./PARIS 2079' 'S.O.C. 14879' 'SC/AH 29037' 'SC/AH 3085'\n",
      " 'SC/PARIS 2167' 'SC/Paris 2123' 'Unknown' 'W./C. 6607' 'W./C. 6608'\n",
      " 'W.E.P. 5734']\n"
     ]
    }
   ],
   "source": [
    "train.Ticket.astype('str')\n",
    "test.Ticket.astype('str')\n",
    "cb = []\n",
    "for i in train['Ticket']:\n",
    "    if i in np.sort(test['Ticket']):\n",
    "        cb.append(i)\n",
    "    else:\n",
    "        i='Unknown'\n",
    "        cb.append(i)\n",
    "train['Ticket'] = cb\n",
    "\n",
    "cb1 = []\n",
    "for i in test['Ticket']:\n",
    "    if i in np.sort(train['Ticket']):\n",
    "        cb1.append(i)\n",
    "    else:\n",
    "        i='Unknown'\n",
    "        cb1.append(i)\n",
    "test['Ticket'] = cb1\n",
    "\n",
    "print(np.sort(train['Ticket'].unique()))\n",
    "print(np.sort(test['Ticket'].unique()))"
   ]
  },
  {
   "cell_type": "markdown",
   "id": "de25f77e-ddd1-4b60-a2cd-0c128324824c",
   "metadata": {},
   "source": [
    "Create an Age Group variable to see if survival depends on the age group of the passenger"
   ]
  },
  {
   "cell_type": "code",
   "execution_count": 31,
   "id": "260c5808-31d9-458c-8d85-2daaebdfb159",
   "metadata": {
    "tags": []
   },
   "outputs": [],
   "source": [
    "def Age_Group(x):\n",
    "    if x['Age'] <= 20:\n",
    "        return 1\n",
    "    if x['Age'] <= 40 and x['Age']> 20:\n",
    "        return 2\n",
    "    else:\n",
    "        return 3\n",
    "\n",
    "train['Age_Group']=train.apply(Age_Group, axis=1)*train['Pclass']\n",
    "test['Age_Group']=test.apply(Age_Group, axis=1)*test['Pclass']\n",
    "\n",
    "def Sex_number(x):\n",
    "    if x['Sex'] == 'Male':\n",
    "        return 1\n",
    "    else:\n",
    "        return 2\n",
    "\n",
    "train['Sex_number']=train.apply(Sex_number, axis=1)*train['Pclass']\n",
    "test['Sex_number']=test.apply(Sex_number, axis=1)*test['Pclass']\n",
    "\n",
    "train['Age_Group']=train['Age_Group']*train['Pclass']\n",
    "test['Age_Group']=test['Age_Group']*test['Pclass']\n",
    "\n",
    "train['Age_Sex'] = train['Age_Group']*train['Sex_number']\n",
    "test['Age_Sex'] = test['Age_Group']*test['Sex_number']"
   ]
  },
  {
   "cell_type": "markdown",
   "id": "d40456a0-e8e0-49bc-b06c-288a7bc07429",
   "metadata": {},
   "source": [
    "Further iteration to improve model's performance"
   ]
  },
  {
   "cell_type": "code",
   "execution_count": 32,
   "id": "890be6f3-01a2-4245-a4c3-c6dfd7305d3f",
   "metadata": {},
   "outputs": [],
   "source": [
    "train['Title']=train['Title']+train['Deck']+train['Sex']\n",
    "test['Title']=test['Title']+test['Deck']+test['Sex']\n",
    "#print(train['Title'].unique())\n",
    "#print(test['Title'].unique())"
   ]
  },
  {
   "cell_type": "code",
   "execution_count": 33,
   "id": "6cc5b9d4-8e18-4a6c-890d-e196d2b68f21",
   "metadata": {},
   "outputs": [],
   "source": [
    "train['Age2']=np.log(train['Age'])\n",
    "test['Age2']=np.log(test['Age'])\n",
    "\n",
    "#train['Fare2']=train['Fare']**2 * train['Age']**2\n",
    "#test['Fare2']= test['Fare']**2 * test['Age']**2"
   ]
  },
  {
   "cell_type": "code",
   "execution_count": 34,
   "id": "91ad7883-f3c2-4adb-b7e1-3e76508fbbe3",
   "metadata": {},
   "outputs": [],
   "source": [
    "train['Age3']=train['Age']**2\n",
    "test['Age3']=test['Age']**2\n",
    "\n",
    "train['Fare3']=train['Fare']**2\n",
    "test['Fare3']=test['Fare']**2"
   ]
  },
  {
   "cell_type": "code",
   "execution_count": 35,
   "id": "d89a56c6",
   "metadata": {},
   "outputs": [
    {
     "name": "stdout",
     "output_type": "stream",
     "text": [
      "['S' 'C' 'Q']\n",
      "['Q' 'S' 'C']\n"
     ]
    }
   ],
   "source": [
    "print(train.Embarked.unique())\n",
    "print(test.Embarked.unique())"
   ]
  },
  {
   "cell_type": "markdown",
   "id": "65d3d0b3-d0ff-4a5b-924e-38db34471631",
   "metadata": {},
   "source": [
    "Final check to ensure that the null values have been replaced "
   ]
  },
  {
   "cell_type": "code",
   "execution_count": 36,
   "id": "76111cf4",
   "metadata": {
    "scrolled": true
   },
   "outputs": [
    {
     "name": "stdout",
     "output_type": "stream",
     "text": [
      "train PassengerId       0\n",
      "Survived          0\n",
      "Pclass            0\n",
      "Name              0\n",
      "Sex               0\n",
      "Age               0\n",
      "SibSp             0\n",
      "Parch             0\n",
      "Ticket            0\n",
      "Fare              0\n",
      "Cabin             0\n",
      "Embarked          0\n",
      "Survived_Label    0\n",
      "Deck              0\n",
      "Title             0\n",
      "Age_Group         0\n",
      "Sex_number        0\n",
      "Age_Sex           0\n",
      "Age2              0\n",
      "Age3              0\n",
      "Fare3             0\n",
      "dtype: int64\n",
      "test PassengerId    0\n",
      "Pclass         0\n",
      "Name           0\n",
      "Sex            0\n",
      "Age            0\n",
      "SibSp          0\n",
      "Parch          0\n",
      "Ticket         0\n",
      "Fare           0\n",
      "Cabin          0\n",
      "Embarked       0\n",
      "Deck           0\n",
      "Title          0\n",
      "Age_Group      0\n",
      "Sex_number     0\n",
      "Age_Sex        0\n",
      "Age2           0\n",
      "Age3           0\n",
      "Fare3          0\n",
      "dtype: int64\n"
     ]
    }
   ],
   "source": [
    "print('train',train.isnull().sum())\n",
    "print('test',test.isnull().sum())"
   ]
  },
  {
   "cell_type": "markdown",
   "id": "e8000b9a-586a-4077-bedb-69af5d20de96",
   "metadata": {},
   "source": [
    "Final check of the datatype of the train and test data"
   ]
  },
  {
   "cell_type": "code",
   "execution_count": 37,
   "id": "b6ffd5f0",
   "metadata": {
    "scrolled": true,
    "tags": []
   },
   "outputs": [
    {
     "name": "stdout",
     "output_type": "stream",
     "text": [
      "train datatype PassengerId         int64\n",
      "Survived            int64\n",
      "Pclass              int64\n",
      "Name               object\n",
      "Sex                object\n",
      "Age               float64\n",
      "SibSp               int64\n",
      "Parch               int64\n",
      "Ticket             object\n",
      "Fare              float64\n",
      "Cabin              object\n",
      "Embarked           object\n",
      "Survived_Label     object\n",
      "Deck               object\n",
      "Title              object\n",
      "Age_Group           int64\n",
      "Sex_number          int64\n",
      "Age_Sex             int64\n",
      "Age2              float64\n",
      "Age3              float64\n",
      "Fare3             float64\n",
      "dtype: object\n",
      "test datatype PassengerId      int64\n",
      "Pclass           int64\n",
      "Name            object\n",
      "Sex             object\n",
      "Age            float64\n",
      "SibSp            int64\n",
      "Parch            int64\n",
      "Ticket          object\n",
      "Fare           float64\n",
      "Cabin           object\n",
      "Embarked        object\n",
      "Deck            object\n",
      "Title           object\n",
      "Age_Group        int64\n",
      "Sex_number       int64\n",
      "Age_Sex          int64\n",
      "Age2           float64\n",
      "Age3           float64\n",
      "Fare3          float64\n",
      "dtype: object\n"
     ]
    }
   ],
   "source": [
    "print(\"train datatype\",train.dtypes)\n",
    "print(\"test datatype\",test.dtypes)"
   ]
  },
  {
   "cell_type": "markdown",
   "id": "5cc11f98-e8fa-453a-95d7-3210124d9fee",
   "metadata": {},
   "source": [
    "Further iteration to improve model performance. Create a variable to address family package Fare"
   ]
  },
  {
   "cell_type": "code",
   "execution_count": 38,
   "id": "dc90d718",
   "metadata": {},
   "outputs": [],
   "source": [
    "\n",
    "#    Fare per person\n",
    "for df in [train, test]:\n",
    "    #Creating new family_size column\n",
    "    df['Family_Size']=df['SibSp']+df['Parch']\n",
    "    df['Fare_Per_Person']=df['Fare']/(df['Family_Size']+1)\n",
    "    #return [train,test]\n",
    "    #Age times class\n",
    "for df in [train, test]:\n",
    "    df['Age*Class']=df['Age']*df['Pclass']\n",
    "    #return [train,test]"
   ]
  },
  {
   "cell_type": "code",
   "execution_count": 39,
   "id": "925855e4",
   "metadata": {},
   "outputs": [
    {
     "name": "stdout",
     "output_type": "stream",
     "text": [
      "test shape (418, 22)\n",
      "train shape (891, 24)\n"
     ]
    }
   ],
   "source": [
    "print(\"test shape\",test.shape)\n",
    "print(\"train shape\",train.shape)"
   ]
  },
  {
   "cell_type": "markdown",
   "id": "28e16a03-9328-414a-bd52-25cfae35d90c",
   "metadata": {},
   "source": [
    "sample of the train dataset after all the changes "
   ]
  },
  {
   "cell_type": "code",
   "execution_count": 40,
   "id": "d4a8e6a8",
   "metadata": {},
   "outputs": [
    {
     "data": {
      "text/html": [
       "<div>\n",
       "<style scoped>\n",
       "    .dataframe tbody tr th:only-of-type {\n",
       "        vertical-align: middle;\n",
       "    }\n",
       "\n",
       "    .dataframe tbody tr th {\n",
       "        vertical-align: top;\n",
       "    }\n",
       "\n",
       "    .dataframe thead th {\n",
       "        text-align: right;\n",
       "    }\n",
       "</style>\n",
       "<table border=\"1\" class=\"dataframe\">\n",
       "  <thead>\n",
       "    <tr style=\"text-align: right;\">\n",
       "      <th></th>\n",
       "      <th>PassengerId</th>\n",
       "      <th>Survived</th>\n",
       "      <th>Pclass</th>\n",
       "      <th>Name</th>\n",
       "      <th>Sex</th>\n",
       "      <th>Age</th>\n",
       "      <th>SibSp</th>\n",
       "      <th>Parch</th>\n",
       "      <th>Ticket</th>\n",
       "      <th>Fare</th>\n",
       "      <th>...</th>\n",
       "      <th>Title</th>\n",
       "      <th>Age_Group</th>\n",
       "      <th>Sex_number</th>\n",
       "      <th>Age_Sex</th>\n",
       "      <th>Age2</th>\n",
       "      <th>Age3</th>\n",
       "      <th>Fare3</th>\n",
       "      <th>Family_Size</th>\n",
       "      <th>Fare_Per_Person</th>\n",
       "      <th>Age*Class</th>\n",
       "    </tr>\n",
       "  </thead>\n",
       "  <tbody>\n",
       "    <tr>\n",
       "      <th>0</th>\n",
       "      <td>1</td>\n",
       "      <td>0</td>\n",
       "      <td>3</td>\n",
       "      <td>Unknown</td>\n",
       "      <td>male</td>\n",
       "      <td>22.0</td>\n",
       "      <td>1</td>\n",
       "      <td>0</td>\n",
       "      <td>Unknown</td>\n",
       "      <td>7.2500</td>\n",
       "      <td>...</td>\n",
       "      <td>MrCmale</td>\n",
       "      <td>18</td>\n",
       "      <td>6</td>\n",
       "      <td>108</td>\n",
       "      <td>3.091042</td>\n",
       "      <td>484.0</td>\n",
       "      <td>52.562500</td>\n",
       "      <td>1</td>\n",
       "      <td>3.62500</td>\n",
       "      <td>66.0</td>\n",
       "    </tr>\n",
       "    <tr>\n",
       "      <th>1</th>\n",
       "      <td>2</td>\n",
       "      <td>1</td>\n",
       "      <td>1</td>\n",
       "      <td>Cumings,</td>\n",
       "      <td>female</td>\n",
       "      <td>38.0</td>\n",
       "      <td>1</td>\n",
       "      <td>0</td>\n",
       "      <td>PC 17599</td>\n",
       "      <td>71.2833</td>\n",
       "      <td>...</td>\n",
       "      <td>MrsCfemale</td>\n",
       "      <td>2</td>\n",
       "      <td>2</td>\n",
       "      <td>4</td>\n",
       "      <td>3.637586</td>\n",
       "      <td>1444.0</td>\n",
       "      <td>5081.308859</td>\n",
       "      <td>1</td>\n",
       "      <td>35.64165</td>\n",
       "      <td>38.0</td>\n",
       "    </tr>\n",
       "    <tr>\n",
       "      <th>2</th>\n",
       "      <td>3</td>\n",
       "      <td>1</td>\n",
       "      <td>3</td>\n",
       "      <td>Unknown</td>\n",
       "      <td>female</td>\n",
       "      <td>26.0</td>\n",
       "      <td>0</td>\n",
       "      <td>0</td>\n",
       "      <td>Unknown</td>\n",
       "      <td>7.9250</td>\n",
       "      <td>...</td>\n",
       "      <td>MissCfemale</td>\n",
       "      <td>18</td>\n",
       "      <td>6</td>\n",
       "      <td>108</td>\n",
       "      <td>3.258097</td>\n",
       "      <td>676.0</td>\n",
       "      <td>62.805625</td>\n",
       "      <td>0</td>\n",
       "      <td>7.92500</td>\n",
       "      <td>78.0</td>\n",
       "    </tr>\n",
       "    <tr>\n",
       "      <th>3</th>\n",
       "      <td>4</td>\n",
       "      <td>1</td>\n",
       "      <td>1</td>\n",
       "      <td>Unknown</td>\n",
       "      <td>female</td>\n",
       "      <td>35.0</td>\n",
       "      <td>1</td>\n",
       "      <td>0</td>\n",
       "      <td>Unknown</td>\n",
       "      <td>53.1000</td>\n",
       "      <td>...</td>\n",
       "      <td>MrsCfemale</td>\n",
       "      <td>2</td>\n",
       "      <td>2</td>\n",
       "      <td>4</td>\n",
       "      <td>3.555348</td>\n",
       "      <td>1225.0</td>\n",
       "      <td>2819.610000</td>\n",
       "      <td>1</td>\n",
       "      <td>26.55000</td>\n",
       "      <td>35.0</td>\n",
       "    </tr>\n",
       "    <tr>\n",
       "      <th>4</th>\n",
       "      <td>5</td>\n",
       "      <td>0</td>\n",
       "      <td>3</td>\n",
       "      <td>Unknown</td>\n",
       "      <td>male</td>\n",
       "      <td>35.0</td>\n",
       "      <td>0</td>\n",
       "      <td>0</td>\n",
       "      <td>Unknown</td>\n",
       "      <td>8.0500</td>\n",
       "      <td>...</td>\n",
       "      <td>MrCmale</td>\n",
       "      <td>18</td>\n",
       "      <td>6</td>\n",
       "      <td>108</td>\n",
       "      <td>3.555348</td>\n",
       "      <td>1225.0</td>\n",
       "      <td>64.802500</td>\n",
       "      <td>0</td>\n",
       "      <td>8.05000</td>\n",
       "      <td>105.0</td>\n",
       "    </tr>\n",
       "  </tbody>\n",
       "</table>\n",
       "<p>5 rows × 24 columns</p>\n",
       "</div>"
      ],
      "text/plain": [
       "   PassengerId  Survived  Pclass      Name     Sex   Age  SibSp  Parch  \\\n",
       "0            1         0       3   Unknown    male  22.0      1      0   \n",
       "1            2         1       1  Cumings,  female  38.0      1      0   \n",
       "2            3         1       3   Unknown  female  26.0      0      0   \n",
       "3            4         1       1   Unknown  female  35.0      1      0   \n",
       "4            5         0       3   Unknown    male  35.0      0      0   \n",
       "\n",
       "     Ticket     Fare  ...        Title Age_Group Sex_number Age_Sex      Age2  \\\n",
       "0   Unknown   7.2500  ...      MrCmale        18          6     108  3.091042   \n",
       "1  PC 17599  71.2833  ...   MrsCfemale         2          2       4  3.637586   \n",
       "2   Unknown   7.9250  ...  MissCfemale        18          6     108  3.258097   \n",
       "3   Unknown  53.1000  ...   MrsCfemale         2          2       4  3.555348   \n",
       "4   Unknown   8.0500  ...      MrCmale        18          6     108  3.555348   \n",
       "\n",
       "     Age3        Fare3  Family_Size  Fare_Per_Person  Age*Class  \n",
       "0   484.0    52.562500            1          3.62500       66.0  \n",
       "1  1444.0  5081.308859            1         35.64165       38.0  \n",
       "2   676.0    62.805625            0          7.92500       78.0  \n",
       "3  1225.0  2819.610000            1         26.55000       35.0  \n",
       "4  1225.0    64.802500            0          8.05000      105.0  \n",
       "\n",
       "[5 rows x 24 columns]"
      ]
     },
     "execution_count": 40,
     "metadata": {},
     "output_type": "execute_result"
    }
   ],
   "source": [
    "train.head()"
   ]
  },
  {
   "cell_type": "markdown",
   "id": "f9c198f3-620c-457a-90d2-cafc993a1961",
   "metadata": {},
   "source": [
    "Further iteration: Scale the numerical variables. Try different scaler option"
   ]
  },
  {
   "cell_type": "code",
   "execution_count": 41,
   "id": "7f63291e",
   "metadata": {},
   "outputs": [],
   "source": [
    "#train.corr()\n",
    "train['Age']=(train['Age']-train['Age'].mean())/train['Age'].std()\n",
    "train['Age2']=(train['Age2']-train['Age2'].mean())/train['Age2'].std()\n",
    "train['Fare']=(train['Fare']-train['Fare'].mean())/train['Fare'].std()\n",
    "#train['Fare2']=(train['Fare2']-train['Fare2'].mean())/train['Fare2'].std()\n",
    "train['Fare_Per_Person']=(train['Fare_Per_Person']-train['Fare_Per_Person'].mean())/train['Fare_Per_Person'].std()\n",
    "train['Age*Class']=(train['Age*Class']-train['Age*Class'].mean())/train['Age*Class'].std()\n",
    "\n",
    "train['Age3']=(train['Age3']-train['Age3'].mean())/train['Age3'].std()\n",
    "train['Fare3']=(train['Fare3']-train['Fare3'].mean())/train['Fare3'].std()"
   ]
  },
  {
   "cell_type": "code",
   "execution_count": 42,
   "id": "bb65dd8f",
   "metadata": {},
   "outputs": [],
   "source": [
    "test['Age']=(test['Age']-test['Age'].mean())/test['Age'].std()\n",
    "test['Age2']=(test['Age2']-test['Age2'].mean())/test['Age2'].std()\n",
    "test['Fare']=(test['Fare']-test['Fare'].mean())/test['Fare'].std()\n",
    "\n",
    "#test['Fare2']=(test['Fare2']-test['Fare2'].mean())/test['Fare2'].std()\n",
    "test['Age3']=(test['Age3']-test['Age3'].mean())/test['Age3'].std()\n",
    "test['Fare3']=(test['Fare3']-test['Fare3'].mean())/test['Fare3'].std()\n",
    "\n",
    "test['Fare_Per_Person']=(test['Fare_Per_Person']-test['Fare_Per_Person'].mean())/test['Fare_Per_Person'].std()\n",
    "test['Age*Class']=(test['Age*Class']-test['Age*Class'].mean())/test['Age*Class'].std()"
   ]
  },
  {
   "cell_type": "markdown",
   "id": "e172b494-5ce5-4f30-a0e2-19b7fad7ac2e",
   "metadata": {},
   "source": [
    "Use label encoder to transform the categorical data"
   ]
  },
  {
   "cell_type": "code",
   "execution_count": 43,
   "id": "4172438a",
   "metadata": {},
   "outputs": [],
   "source": [
    "train['Name']=preprocessing.LabelEncoder().fit_transform(train['Name'])\n",
    "train['Ticket']=preprocessing.LabelEncoder().fit_transform(train['Ticket'])\n",
    "train['Cabin']=preprocessing.LabelEncoder().fit_transform(train['Cabin'])\n",
    "#train['Age2']=preprocessing.LabelEncoder().fit_transform(train['Age2'])\n",
    "train['Age_Sex']=preprocessing.LabelEncoder().fit_transform(train['Age_Sex'])\n",
    "train['Age_Group']=preprocessing.LabelEncoder().fit_transform(train['Age_Group'])\n",
    "train['Sex']=preprocessing.LabelEncoder().fit_transform(train['Sex'])\n",
    "train['Embarked']=preprocessing.LabelEncoder().fit_transform(train['Embarked'])\n",
    "train['Deck']=preprocessing.LabelEncoder().fit_transform(train['Deck'])\n",
    "train['Title']=preprocessing.LabelEncoder().fit_transform(train['Title'])"
   ]
  },
  {
   "cell_type": "code",
   "execution_count": 44,
   "id": "330e1303-59b1-4b8d-8711-028a711cb916",
   "metadata": {},
   "outputs": [],
   "source": [
    "#train['Ticket']=(train['Ticket']-train['Ticket'].mean())/train['Ticket'].std()\n",
    "#train['Name']=(train['Name']-train['Name'].mean())/train['Name'].std()"
   ]
  },
  {
   "cell_type": "markdown",
   "id": "9ec418a9-8f14-415c-9778-060b1eeb48bb",
   "metadata": {},
   "source": [
    "Final correlation to understand the importance of each variable "
   ]
  },
  {
   "cell_type": "code",
   "execution_count": 45,
   "id": "7cd12a60-9877-4301-872f-baa68d0ed3cc",
   "metadata": {},
   "outputs": [
    {
     "name": "stderr",
     "output_type": "stream",
     "text": [
      "/var/folders/m3/zdnmwkys4t39w0shnmxnj0340000gn/T/ipykernel_5289/1366878709.py:1: FutureWarning: The default value of numeric_only in DataFrame.corr is deprecated. In a future version, it will default to False. Select only valid columns or specify the value of numeric_only to silence this warning.\n",
      "  df= pd.DataFrame(np.abs(train[train.columns[1:]].corr()['Survived'][1:]))\n"
     ]
    },
    {
     "data": {
      "text/html": [
       "<div>\n",
       "<style scoped>\n",
       "    .dataframe tbody tr th:only-of-type {\n",
       "        vertical-align: middle;\n",
       "    }\n",
       "\n",
       "    .dataframe tbody tr th {\n",
       "        vertical-align: top;\n",
       "    }\n",
       "\n",
       "    .dataframe thead th {\n",
       "        text-align: right;\n",
       "    }\n",
       "</style>\n",
       "<table border=\"1\" class=\"dataframe\">\n",
       "  <thead>\n",
       "    <tr style=\"text-align: right;\">\n",
       "      <th></th>\n",
       "      <th>Survived</th>\n",
       "    </tr>\n",
       "  </thead>\n",
       "  <tbody>\n",
       "    <tr>\n",
       "      <th>Sex</th>\n",
       "      <td>0.543351</td>\n",
       "    </tr>\n",
       "    <tr>\n",
       "      <th>Age_Sex</th>\n",
       "      <td>0.368062</td>\n",
       "    </tr>\n",
       "    <tr>\n",
       "      <th>Age_Group</th>\n",
       "      <td>0.364385</td>\n",
       "    </tr>\n",
       "    <tr>\n",
       "      <th>Pclass</th>\n",
       "      <td>0.338481</td>\n",
       "    </tr>\n",
       "    <tr>\n",
       "      <th>Sex_number</th>\n",
       "      <td>0.338481</td>\n",
       "    </tr>\n",
       "    <tr>\n",
       "      <th>Age*Class</th>\n",
       "      <td>0.324559</td>\n",
       "    </tr>\n",
       "    <tr>\n",
       "      <th>Fare</th>\n",
       "      <td>0.257307</td>\n",
       "    </tr>\n",
       "    <tr>\n",
       "      <th>Cabin</th>\n",
       "      <td>0.242488</td>\n",
       "    </tr>\n",
       "    <tr>\n",
       "      <th>Fare_Per_Person</th>\n",
       "      <td>0.221600</td>\n",
       "    </tr>\n",
       "    <tr>\n",
       "      <th>Embarked</th>\n",
       "      <td>0.167675</td>\n",
       "    </tr>\n",
       "    <tr>\n",
       "      <th>Ticket</th>\n",
       "      <td>0.154189</td>\n",
       "    </tr>\n",
       "    <tr>\n",
       "      <th>Fare3</th>\n",
       "      <td>0.148614</td>\n",
       "    </tr>\n",
       "    <tr>\n",
       "      <th>Age2</th>\n",
       "      <td>0.122370</td>\n",
       "    </tr>\n",
       "    <tr>\n",
       "      <th>Deck</th>\n",
       "      <td>0.089095</td>\n",
       "    </tr>\n",
       "    <tr>\n",
       "      <th>Parch</th>\n",
       "      <td>0.081629</td>\n",
       "    </tr>\n",
       "    <tr>\n",
       "      <th>Title</th>\n",
       "      <td>0.078819</td>\n",
       "    </tr>\n",
       "    <tr>\n",
       "      <th>Age</th>\n",
       "      <td>0.064910</td>\n",
       "    </tr>\n",
       "    <tr>\n",
       "      <th>Name</th>\n",
       "      <td>0.055816</td>\n",
       "    </tr>\n",
       "    <tr>\n",
       "      <th>Age3</th>\n",
       "      <td>0.037135</td>\n",
       "    </tr>\n",
       "    <tr>\n",
       "      <th>SibSp</th>\n",
       "      <td>0.035322</td>\n",
       "    </tr>\n",
       "    <tr>\n",
       "      <th>Family_Size</th>\n",
       "      <td>0.016639</td>\n",
       "    </tr>\n",
       "  </tbody>\n",
       "</table>\n",
       "</div>"
      ],
      "text/plain": [
       "                 Survived\n",
       "Sex              0.543351\n",
       "Age_Sex          0.368062\n",
       "Age_Group        0.364385\n",
       "Pclass           0.338481\n",
       "Sex_number       0.338481\n",
       "Age*Class        0.324559\n",
       "Fare             0.257307\n",
       "Cabin            0.242488\n",
       "Fare_Per_Person  0.221600\n",
       "Embarked         0.167675\n",
       "Ticket           0.154189\n",
       "Fare3            0.148614\n",
       "Age2             0.122370\n",
       "Deck             0.089095\n",
       "Parch            0.081629\n",
       "Title            0.078819\n",
       "Age              0.064910\n",
       "Name             0.055816\n",
       "Age3             0.037135\n",
       "SibSp            0.035322\n",
       "Family_Size      0.016639"
      ]
     },
     "execution_count": 45,
     "metadata": {},
     "output_type": "execute_result"
    }
   ],
   "source": [
    "\n",
    "df= pd.DataFrame(np.abs(train[train.columns[1:]].corr()['Survived'][1:]))\n",
    "df.sort_values('Survived',ascending=False,inplace=True)\n",
    "df"
   ]
  },
  {
   "cell_type": "code",
   "execution_count": 46,
   "id": "6017b358-7bdf-49aa-a8a2-1cff666acaa0",
   "metadata": {
    "tags": []
   },
   "outputs": [],
   "source": [
    "#sns.pairplot(train[train.columns[1:]])"
   ]
  },
  {
   "cell_type": "code",
   "execution_count": 47,
   "id": "95cf0d22",
   "metadata": {
    "tags": []
   },
   "outputs": [],
   "source": [
    "#from sklearn.neighbors import LocalOutlierFactor\n",
    "\n",
    "#clf = LocalOutlierFactor(contamination = 0.02)\n",
    "# identify outliers:\n",
    "#outliers = clf.fit_predict(train)\n",
    "# Remove outliers where 1 represent inliers and -1 represent outliers:\n",
    "#train = train[np.where(outliers == 1, True, False)]\n",
    "#train.shape"
   ]
  },
  {
   "cell_type": "markdown",
   "id": "268dfafb-a5fd-45b2-9b20-c8749a18807c",
   "metadata": {},
   "source": [
    "Iteration: using integer dtype for the target variable"
   ]
  },
  {
   "cell_type": "code",
   "execution_count": 48,
   "id": "b8e07c10",
   "metadata": {},
   "outputs": [
    {
     "name": "stdout",
     "output_type": "stream",
     "text": [
      "(891,)\n",
      "float64\n"
     ]
    }
   ],
   "source": [
    "train_Y = train['Survived'].astype('float')\n",
    "print(train_Y.shape)\n",
    "print(train_Y.dtype)\n",
    "train_Y2 = to_categorical(train_Y, num_classes=2,dtype='float64')\n",
    "train_Y2.shape\n",
    "train_Y2=train_Y2.astype('int')\n",
    "train_Y = train['Survived'].to_numpy()\n",
    "train_Y=train_Y.astype('int')"
   ]
  },
  {
   "cell_type": "markdown",
   "id": "d24c88dc-065b-44c3-9feb-4ad3154f3996",
   "metadata": {},
   "source": [
    "Machine Learning models split"
   ]
  },
  {
   "cell_type": "code",
   "execution_count": 49,
   "id": "8a705296-b3f1-4315-bd21-d16f295b6023",
   "metadata": {},
   "outputs": [],
   "source": [
    "#train_x, x_val,train_Y, y_val = train_test_split(train_x,train_Y,test_size=0.1)"
   ]
  },
  {
   "cell_type": "code",
   "execution_count": 50,
   "id": "a5b16a5a-3578-4751-98a1-9757f6d0ffe1",
   "metadata": {},
   "outputs": [],
   "source": [
    "\n",
    "#train_Y = to_categorical(train_Y,-1)\n",
    "#train_Y.shape"
   ]
  },
  {
   "cell_type": "code",
   "execution_count": 51,
   "id": "4f3e2bc8",
   "metadata": {},
   "outputs": [],
   "source": [
    "test['Name']=preprocessing.LabelEncoder().fit_transform(test['Name'])\n",
    "test['Ticket']=preprocessing.LabelEncoder().fit_transform(test['Ticket'])\n",
    "test['Cabin']=preprocessing.LabelEncoder().fit_transform(test['Cabin'])\n",
    "#test['Age2']=preprocessing.LabelEncoder().fit_transform(test['Age2'])\n",
    "test['Age_Sex']=preprocessing.LabelEncoder().fit_transform(test['Age_Sex'])\n",
    "test['Age_Group']=preprocessing.LabelEncoder().fit_transform(test['Age_Group'])\n",
    "test['Sex']=preprocessing.LabelEncoder().fit_transform(test['Sex'])\n",
    "test['Embarked']=preprocessing.LabelEncoder().fit_transform(test['Embarked'])\n",
    "test['Deck']=preprocessing.LabelEncoder().fit_transform(test['Deck'])\n",
    "test['Title']=preprocessing.LabelEncoder().fit_transform(test['Title'])"
   ]
  },
  {
   "cell_type": "code",
   "execution_count": 52,
   "id": "78a0cf78",
   "metadata": {},
   "outputs": [],
   "source": [
    "train_x = train[df.index[0:12]]\n",
    "test_x = test[df.index[0:12]]\n"
   ]
  },
  {
   "cell_type": "code",
   "execution_count": 53,
   "id": "e6bfa5b5-0a51-4877-9dd1-4f52c8963522",
   "metadata": {},
   "outputs": [],
   "source": [
    "#test['Ticket']=(test['Ticket']-test['Ticket'].mean())/test['Ticket'].std()\n",
    "#test['Name']=(test['Name']-test['Name'].mean())/test['Name'].std()"
   ]
  },
  {
   "cell_type": "code",
   "execution_count": 54,
   "id": "adb684d5",
   "metadata": {},
   "outputs": [
    {
     "data": {
      "text/plain": [
       "(891, 12)"
      ]
     },
     "execution_count": 54,
     "metadata": {},
     "output_type": "execute_result"
    }
   ],
   "source": [
    "train_x.shape"
   ]
  },
  {
   "cell_type": "code",
   "execution_count": 55,
   "id": "bcf15b8c",
   "metadata": {},
   "outputs": [
    {
     "data": {
      "text/plain": [
       "(418, 12)"
      ]
     },
     "execution_count": 55,
     "metadata": {},
     "output_type": "execute_result"
    }
   ],
   "source": [
    "test_x.shape"
   ]
  },
  {
   "cell_type": "code",
   "execution_count": 56,
   "id": "09e7643e",
   "metadata": {},
   "outputs": [
    {
     "name": "stdout",
     "output_type": "stream",
     "text": [
      "12\n",
      "   Sex  Age_Sex  Age_Group  Pclass  Sex_number  Age*Class      Fare  Cabin  \\\n",
      "0    1        7          7       3           6   0.058791 -0.502163     33   \n",
      "1    0        1          1       1           2  -0.802891  0.786404     17   \n",
      "2    0        7          7       3           6   0.428084 -0.488580     33   \n",
      "3    0        1          1       1           2  -0.895215  0.420494     10   \n",
      "4    1        7          7       3           6   1.258992 -0.486064     33   \n",
      "\n",
      "   Fare_Per_Person  Embarked  Ticket     Fare3  \n",
      "0        -0.454543         2     112 -0.199193  \n",
      "1         0.438748         0      95  0.091050  \n",
      "2        -0.334569         2     112 -0.198602  \n",
      "3         0.185083         2     112 -0.039488  \n",
      "4        -0.331081         2     112 -0.198486  \n"
     ]
    }
   ],
   "source": [
    "train_x1=transform = preprocessing.StandardScaler().fit(train_x).transform(train_x)\n",
    "n=train_x.shape[1]\n",
    "print(n)\n",
    "print(train_x.head())"
   ]
  },
  {
   "cell_type": "code",
   "execution_count": 57,
   "id": "ee8ec4c7-5022-4325-8301-897f5f0a9d70",
   "metadata": {},
   "outputs": [
    {
     "ename": "SyntaxError",
     "evalue": "invalid syntax (160980049.py, line 1)",
     "output_type": "error",
     "traceback": [
      "\u001b[0;36m  Cell \u001b[0;32mIn [57], line 1\u001b[0;36m\u001b[0m\n\u001b[0;31m    Kera model data split\u001b[0m\n\u001b[0m         ^\u001b[0m\n\u001b[0;31mSyntaxError\u001b[0m\u001b[0;31m:\u001b[0m invalid syntax\n"
     ]
    }
   ],
   "source": [
    "Kera model data split"
   ]
  },
  {
   "cell_type": "code",
   "execution_count": null,
   "id": "52c01475-ed0d-432c-a7c4-c98c83fb6f54",
   "metadata": {},
   "outputs": [],
   "source": [
    "train_x1, x_val1,train_Y2, y_val1 = train_test_split(train_x1,train_Y2,test_size=0.1)"
   ]
  },
  {
   "cell_type": "code",
   "execution_count": null,
   "id": "832a7885",
   "metadata": {},
   "outputs": [],
   "source": [
    "test_x1=transform = preprocessing.StandardScaler().fit(test_x).transform(test_x)\n",
    "print(test_x.head())"
   ]
  },
  {
   "cell_type": "code",
   "execution_count": null,
   "id": "0d3b57f6-865c-4d9a-b144-466291433164",
   "metadata": {},
   "outputs": [],
   "source": [
    "import tensorflow as tf\n",
    "# define classification model\n",
    "def classification_model():\n",
    "    # create model\n",
    "    model = Sequential()\n",
    "    model.add(Dense(n, activation='relu', input_shape=(n,)))\n",
    "    model.add(Dense(100, activation='relu'))\n",
    "    model.add(Dense(100, activation='relu'))\n",
    "    model.add(Dense(100, activation='relu'))\n",
    "    model.add(Dense(2, activation='softmax'))\n",
    "    \n",
    "    \n",
    "    # compile model\n",
    "    model.compile(optimizer=tf.keras.optimizers.Adam(),\n",
    "              loss=tf.keras.losses.BinaryCrossentropy(),\n",
    "              metrics=[['accuracy', 'mse']])\n",
    "    return model\n",
    "\n",
    "# build the model\n",
    "model = classification_model()\n",
    "\n",
    "\n",
    "# fit the model\n",
    "model.fit(train_x1, train_Y2,epochs=1000,validation_split=0.10)\n",
    "\n",
    "# evaluate the model\n",
    "#print(accuracy_score(train_Y, model.predict(x_val)))\n",
    "\n",
    "# predict test data\n",
    "test_y=model.predict(test_x1)\n",
    "yhat = model.predict(x_val1)\n",
    "yhat_2 = []\n",
    "for i,j in yhat:\n",
    "        yhat_2.append(j)\n",
    "# do matrix for train\n",
    "plot_confusion_matrix(y_val1,np.round(yhat_2,0))"
   ]
  },
  {
   "cell_type": "code",
   "execution_count": null,
   "id": "101e189f-8f09-4c90-8cfb-4f5e853fbb96",
   "metadata": {},
   "outputs": [],
   "source": [
    "test_y2 = []\n",
    "for i,j in test_y:\n",
    "        test_y2.append(j)\n",
    "print(np.round(test_y2,0).astype('int'))\n",
    "kera = test['PassengerId'].to_numpy()\n",
    "result = {'PassengerId':kera,'Survived':np.round(test_y2,0).astype('int')}\n",
    "print(pd.DataFrame(result).shape)\n",
    "pd.DataFrame(result).set_index('PassengerId').to_csv(\"titanicv3_kera.csv\")"
   ]
  },
  {
   "cell_type": "code",
   "execution_count": null,
   "id": "63e288af",
   "metadata": {},
   "outputs": [],
   "source": [
    "#use gridsearch\n",
    "parameters ={\"C\":[0.01,0.1,1],'penalty':['l2'], 'solver':['lbfgs']}# l1 lasso l2 ridge\n",
    "lr=LogisticRegression()\n",
    "logreg_cv=GridSearchCV(lr, parameters,cv=10)\n",
    "logreg_cv.fit(train_x,train_Y)\n",
    "\n",
    "#print accuracy of best model\n",
    "print(\"tuned hpyerparameters :(best parameters) \",logreg_cv.best_params_)\n",
    "print(\"accuracy :\",logreg_cv.best_score_)\n",
    "\n",
    "\n",
    "# predict test data\n",
    "test_y=logreg_cv.predict(test_x)\n",
    "\n",
    "# do matrix for train\n",
    "plot_confusion_matrix(y_val,logreg_cv.predict(x_val))\n"
   ]
  },
  {
   "cell_type": "code",
   "execution_count": null,
   "id": "fd2b8977",
   "metadata": {},
   "outputs": [],
   "source": []
  },
  {
   "cell_type": "code",
   "execution_count": null,
   "id": "b9acae82",
   "metadata": {},
   "outputs": [],
   "source": [
    "psg = test['PassengerId'].to_numpy()\n",
    "result = {'PassengerId':psg,'Survived':np.round(test_y,0)}\n",
    "print(pd.DataFrame(result).shape)\n",
    "pd.DataFrame(result).set_index('PassengerId').to_csv(\"titanicv2_log.csv\")"
   ]
  },
  {
   "cell_type": "code",
   "execution_count": null,
   "id": "5944839c",
   "metadata": {},
   "outputs": [],
   "source": [
    "#use gridsearch\n",
    "parameters = {'criterion': ['gini', 'entropy'],\n",
    "     'splitter': ['best', 'random'],\n",
    "     'max_depth': [2*n for n in range(1,10)],\n",
    "     'max_features': ['auto', 'sqrt'],\n",
    "     'min_samples_leaf': [1, 2, 4],\n",
    "     'min_samples_split': [2, 5, 10]}\n",
    "\n",
    "tree = DecisionTreeClassifier()\n",
    "tree_cv=GridSearchCV(tree, parameters,cv=10)\n",
    "tree_cv.fit(train_x,train_Y)\n",
    "\n",
    "#print accuracy of best model\n",
    "print(\"tuned hpyerparameters :(best parameters) \",tree_cv.best_params_)\n",
    "print(\"accuracy :\",tree_cv.best_score_)\n",
    "\n",
    "\n",
    "# predict test data\n",
    "test_y=tree_cv.predict(test_x)\n",
    "\n",
    "# do matrix for train\n",
    "plot_confusion_matrix(y_val,tree_cv.predict(x_val))"
   ]
  },
  {
   "cell_type": "code",
   "execution_count": null,
   "id": "a740728f",
   "metadata": {},
   "outputs": [],
   "source": [
    "psg = test['PassengerId'].to_numpy()\n",
    "result = {'PassengerId':psg,'Survived':np.round(test_y,0)}\n",
    "print(pd.DataFrame(result).shape)\n",
    "pd.DataFrame(result).set_index('PassengerId').to_csv(\"titanicv2_tree.csv\")"
   ]
  },
  {
   "cell_type": "code",
   "execution_count": null,
   "id": "7b2356a9",
   "metadata": {},
   "outputs": [],
   "source": [
    "#use gridsearch\n",
    "parameters = {'n_neighbors': [1, 2, 3, 4, 5, 6, 7, 8, 9, 10],\n",
    "              'algorithm': ['auto', 'ball_tree', 'kd_tree', 'brute'],\n",
    "              'p': [1,2]}\n",
    "\n",
    "KNN = KNeighborsClassifier()\n",
    "KNN_cv=GridSearchCV(KNN, parameters,cv=10)\n",
    "KNN_cv.fit(train_x,train_Y)\n",
    "\n",
    "#print accuracy of best model\n",
    "print(\"tuned hpyerparameters :(best parameters) \",KNN_cv.best_params_)\n",
    "print(\"accuracy :\",KNN_cv.best_score_)\n",
    "\n",
    "\n",
    "# predict test data\n",
    "test_y=KNN_cv.predict(test_x)\n",
    "\n",
    "# do matrix for train\n",
    "plot_confusion_matrix(y_val,KNN_cv.predict(x_val))"
   ]
  },
  {
   "cell_type": "code",
   "execution_count": null,
   "id": "d246652e",
   "metadata": {},
   "outputs": [],
   "source": [
    "psg = test['PassengerId'].to_numpy()\n",
    "result = {'PassengerId':psg,'Survived':np.round(test_y,0)}\n",
    "print(pd.DataFrame(result).shape)\n",
    "pd.DataFrame(result).set_index('PassengerId').to_csv(\"titanicv2_knn.csv\")"
   ]
  },
  {
   "cell_type": "code",
   "execution_count": null,
   "id": "3cfe093d",
   "metadata": {},
   "outputs": [],
   "source": [
    "#use gridsearch\n",
    "parameters = { \n",
    "            \"n_estimators\"      : [10,50,100],\n",
    "            \"max_features\"      : [\"auto\", \"sqrt\", \"log2\"],\n",
    "            \"min_samples_split\" : [2,4,8],\n",
    "            \"bootstrap\": [True, False],\n",
    "            }\n",
    "\n",
    "from sklearn.ensemble import RandomForestClassifier\n",
    "from xgboost import XGBClassifier\n",
    "\n",
    "\n",
    "xgb=XGBClassifier()\n",
    "rdf = RandomForestClassifier()\n",
    "\n",
    "\n",
    "\n",
    "rdf_cv=GridSearchCV(rdf, parameters,cv=10)\n",
    "rdf_cv.fit(train_x,train_Y)\n",
    "\n",
    "#print accuracy of best model\n",
    "print(\"tuned hpyerparameters :(best parameters) \",rdf_cv.best_params_)\n",
    "print(\"accuracy :\",rdf_cv.best_score_)\n",
    "\n",
    "\n",
    "# predict test data\n",
    "test_y=rdf_cv.predict(test_x)\n",
    "\n",
    "# do matrix for train\n",
    "plot_confusion_matrix(y_val,rdf_cv.predict(x_val))\n",
    "\n",
    "psg = test['PassengerId'].to_numpy()\n",
    "result = {'PassengerId':psg,'Survived':np.round(test_y,0)}\n",
    "print(pd.DataFrame(result).shape)\n",
    "pd.DataFrame(result).set_index('PassengerId').to_csv(\"titanicv2_rdf.csv\")"
   ]
  },
  {
   "cell_type": "code",
   "execution_count": null,
   "id": "a3548c44",
   "metadata": {},
   "outputs": [],
   "source": [
    "#use gridsearch\n",
    "parameters = { \n",
    "            \"n_estimators\"      : [10,20,30],\n",
    "            \"max_features\"      : [\"auto\", \"sqrt\", \"log2\"],\n",
    "            \"min_samples_split\" : [2,4,8],\n",
    "            \"bootstrap\": [True, False],\n",
    "            }\n",
    "\n",
    "from sklearn.ensemble import RandomForestClassifier\n",
    "from xgboost import XGBClassifier\n",
    "\n",
    "\n",
    "xgb=XGBClassifier()\n",
    "\n",
    "\n",
    "\n",
    "\n",
    "xgb_cv=GridSearchCV(xgb, parameters,cv=10)\n",
    "xgb_cv.fit(train_x,train_Y)\n",
    "\n",
    "#print accuracy of best model\n",
    "print(\"tuned hpyerparameters :(best parameters) \",xgb_cv.best_params_)\n",
    "print(\"accuracy :\",xgb_cv.best_score_)\n",
    "\n",
    "\n",
    "# predict test data\n",
    "test_y=xgb_cv.predict(test_x)\n",
    "\n",
    "# do matrix for train\n",
    "plot_confusion_matrix(y_val,xgb_cv.predict(x_val))\n",
    "\n",
    "psg = test['PassengerId'].to_numpy()\n",
    "result = {'PassengerId':psg,'Survived':np.round(test_y,0)}\n",
    "print(pd.DataFrame(result).shape)\n",
    "pd.DataFrame(result).set_index('PassengerId').to_csv(\"titanicv2_xgb.csv\")"
   ]
  },
  {
   "cell_type": "code",
   "execution_count": null,
   "id": "f6fac194",
   "metadata": {},
   "outputs": [],
   "source": [
    "from sklearn.ensemble import RandomForestClassifier\n",
    "from xgboost import XGBClassifier\n",
    "from sklearn.ensemble import VotingClassifier\n",
    "\n",
    "xgb=XGBClassifier()\n",
    "rdf = RandomForestClassifier()\n",
    "svm = SVC()\n",
    "#('knn', KNN), ('tree', tree), \n",
    "final_model = VotingClassifier(\n",
    "    estimators=[('xgb', xgb),('rdf', rdf)], \n",
    "    voting='hard',n_jobs=-1,flatten_transform=True)\n",
    " \n",
    "# training all the model on the train dataset\n",
    "final_model.fit(train_x,train_Y)\n",
    "\n",
    "# predict test data\n",
    "test_y=final_model.predict(test_x)\n",
    "\n",
    "# do matrix for train\n",
    "plot_confusion_matrix(y_val,final_model.predict(x_val))\n",
    "\n",
    "psg = test['PassengerId'].to_numpy()\n",
    "result = {'PassengerId':psg,'Survived':np.round(test_y,0)}\n",
    "print(pd.DataFrame(result).shape)\n",
    "pd.DataFrame(result).set_index('PassengerId').to_csv(\"titanicv2_ens.csv\")"
   ]
  },
  {
   "cell_type": "code",
   "execution_count": null,
   "id": "0f1a27a9",
   "metadata": {},
   "outputs": [],
   "source": [
    "from sklearn.ensemble import BaggingClassifier\n",
    "bag = BaggingClassifier()\n",
    "#train bag model on 80% of sample data\n",
    "#bag = BaggingClassifier(tree, n_estimators=100,\n",
    "#                        max_samples=0.7,random_state=1)\n",
    "\n",
    "parameters = {'base_estimator': [tree],\n",
    "              'n_estimators': [10, 20, 40, 100],\n",
    "              #'max_samples': [0, 1],\n",
    "              #'max_features': [0, 1],\n",
    "              'bootstrap': ['True','False'],\n",
    "              'bootstrap_features': ['True','False'],\n",
    "              'warm_start': ['True','False']                                  \n",
    "             }\n",
    "\n",
    "bag_cv=GridSearchCV(bag, parameters,cv=10)\n",
    "bag_cv.fit(train_x,train_Y)\n",
    "\n",
    "#print accuracy of best model\n",
    "print(\"tuned hpyerparameters :(best parameters) \",bag_cv.best_params_)\n",
    "print(\"accuracy :\",bag_cv.best_score_)\n",
    "\n",
    "# predict test data\n",
    "test_y=bag_cv.predict(test_x)\n",
    "\n",
    "# do matrix for train\n",
    "plot_confusion_matrix(y_val,bag_cv.predict(x_val))\n",
    "\n"
   ]
  },
  {
   "cell_type": "code",
   "execution_count": null,
   "id": "4e39e2f4",
   "metadata": {},
   "outputs": [],
   "source": [
    "psg = test['PassengerId'].to_numpy()\n",
    "result = {'PassengerId':psg,'Survived':np.round(test_y,0)}\n",
    "print(pd.DataFrame(result).shape)\n",
    "pd.DataFrame(result).set_index('PassengerId').to_csv(\"titanicv2_bag.csv\")"
   ]
  },
  {
   "cell_type": "code",
   "execution_count": null,
   "id": "5cd91029",
   "metadata": {},
   "outputs": [],
   "source": [
    "#use gridsearch\n",
    "parameters = {'kernel':('linear', 'rbf','poly','rbf', 'sigmoid'),\n",
    "              'gamma': ['scale', 'auto'],\n",
    "              'C':np.linspace(0.1,10,5),\n",
    "              #'coef0':np.linspace(-1,1,5),\n",
    "              'max_iter' : [-1]\n",
    "             }\n",
    "svm = SVC()\n",
    "svm_cv=GridSearchCV(svm, parameters,cv=10)\n",
    "svm_cv.fit(train_x1,train_Y)\n",
    "\n",
    "#print accuracy of best model\n",
    "print(\"tuned hpyerparameters :(best parameters) \",svm_cv.best_params_)\n",
    "print(\"accuracy :\",svm_cv.best_score_)\n",
    "\n",
    "\n",
    "# predict test data\n",
    "test_y=svm_cv.predict(test_x1)\n",
    "\n",
    "# do matrix for train\n",
    "plot_confusion_matrix(y_val,svm_cv.predict(train_x1))\n",
    "\n",
    "psg = test['PassengerId'].to_numpy()\n",
    "result = {'PassengerId':psg,'Survived':np.round(test_y,0)}\n",
    "print(pd.DataFrame(result).shape)\n",
    "pd.DataFrame(result).set_index('PassengerId').to_csv(\"titanicv2_svm.csv\")"
   ]
  },
  {
   "cell_type": "code",
   "execution_count": null,
   "id": "c00795e9",
   "metadata": {},
   "outputs": [],
   "source": [
    "from sklearn.ensemble import RandomForestClassifier\n",
    "from xgboost import XGBClassifier\n",
    "from sklearn.ensemble import VotingClassifier\n",
    "\n",
    "xgb=XGBClassifier()\n",
    "rdf = RandomForestClassifier()\n",
    "svm = SVC()\n",
    "#('knn', KNN), ('tree', tree), \n",
    "final_model = VotingClassifier(\n",
    "    estimators=[('xgb', xgb_cv),('rdf', rdf_cv)], \n",
    "    voting='hard',n_jobs=-1,flatten_transform=True)\n",
    " \n",
    "# training all the model on the train dataset\n",
    "final_model.fit(train_x,train_Y)\n",
    "\n",
    "# predict test data\n",
    "test_y=final_model.predict(test_x)\n",
    "\n",
    "# do matrix for train\n",
    "plot_confusion_matrix(y_val,final_model.predict(x_val))\n",
    "\n",
    "psg = test['PassengerId'].to_numpy()\n",
    "result = {'PassengerId':psg,'Survived':np.round(test_y,0)}\n",
    "print(pd.DataFrame(result).shape)\n",
    "pd.DataFrame(result).set_index('PassengerId').to_csv(\"titanicv2_ens3.csv\")"
   ]
  },
  {
   "cell_type": "code",
   "execution_count": null,
   "id": "0a7b405f",
   "metadata": {},
   "outputs": [],
   "source": [
    "from sklearn.ensemble import RandomForestClassifier\n",
    "from xgboost import XGBClassifier\n",
    "from sklearn.ensemble import VotingClassifier\n",
    "\n",
    "xgb=XGBClassifier()\n",
    "rdf = RandomForestClassifier()\n",
    "svm = SVC()\n",
    "#('knn', KNN), ('tree', tree), \n",
    "final_model = VotingClassifier(\n",
    "    estimators=[('xgb', xgb),('rdf', rdf),('bag', bag)], \n",
    "    voting='hard',n_jobs=-1,flatten_transform=True)\n",
    " \n",
    "# training all the model on the train dataset\n",
    "final_model.fit(train_x,train_Y)\n",
    "\n",
    "# predict test data\n",
    "test_y=final_model.predict(test_x)\n",
    "\n",
    "# do matrix for train\n",
    "plot_confusion_matrix(y_val,final_model.predict(x_val))\n",
    "\n",
    "psg = test['PassengerId'].to_numpy()\n",
    "result = {'PassengerId':psg,'Survived':np.round(test_y,0)}\n",
    "print(pd.DataFrame(result).shape)\n",
    "pd.DataFrame(result).set_index('PassengerId').to_csv(\"titanicv2_ens4.csv\")"
   ]
  },
  {
   "cell_type": "code",
   "execution_count": null,
   "id": "b1f9736f",
   "metadata": {},
   "outputs": [],
   "source": [
    "from sklearn.ensemble import RandomForestClassifier\n",
    "from xgboost import XGBClassifier\n",
    "from sklearn.ensemble import VotingClassifier\n",
    "\n",
    "xgb=XGBClassifier()\n",
    "rdf = RandomForestClassifier()\n",
    "svm = SVC()\n",
    "#('knn', KNN), ('tree', tree), \n",
    "final_model = VotingClassifier(\n",
    "    estimators=[('xgb', xgb_cv),('rdf', rdf_cv),('bag', bag_cv)], \n",
    "    voting='hard',n_jobs=-1,flatten_transform=True)\n",
    " \n",
    "# training all the model on the train dataset\n",
    "final_model.fit(train_x,train_Y)\n",
    "\n",
    "# predict test data\n",
    "test_y=final_model.predict(test_x)\n",
    "\n",
    "# do matrix for train\n",
    "plot_confusion_matrix(y_val,final_model.predict(x_val))\n",
    "\n",
    "psg = test['PassengerId'].to_numpy()\n",
    "result = {'PassengerId':psg,'Survived':np.round(test_y,0)}\n",
    "print(pd.DataFrame(result).shape)\n",
    "pd.DataFrame(result).set_index('PassengerId').to_csv(\"titanicv2_ens5.csv\")"
   ]
  }
 ],
 "metadata": {
  "kernelspec": {
   "display_name": "Python 3 (ipykernel)",
   "language": "python",
   "name": "python3"
  },
  "language_info": {
   "codemirror_mode": {
    "name": "ipython",
    "version": 3
   },
   "file_extension": ".py",
   "mimetype": "text/x-python",
   "name": "python",
   "nbconvert_exporter": "python",
   "pygments_lexer": "ipython3",
   "version": "3.9.12"
  }
 },
 "nbformat": 4,
 "nbformat_minor": 5
}
