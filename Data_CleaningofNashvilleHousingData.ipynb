{
    "metadata": {
        "kernelspec": {
            "name": "SQL",
            "display_name": "SQL",
            "language": "sql"
        },
        "language_info": {
            "name": "sql",
            "version": ""
        }
    },
    "nbformat_minor": 2,
    "nbformat": 4,
    "cells": [
        {
            "cell_type": "markdown",
            "source": [
                "Data cleaning and EDA of the Nashville Housing data using SQL for learning purpose\n",
                "\n",
                "1\\. Covert date format"
            ],
            "metadata": {
                "azdata_cell_guid": "d6ac903d-032c-4ae7-85d0-e1ae072a18f7"
            },
            "attachments": {}
        },
        {
            "cell_type": "code",
            "source": [
                "Update Nashville\n",
                "set SaleDate = convert(date,SaleDate)\n",
                "\n",
                "Update Nashville\n",
                "set ParcelID = convert(NVARCHAR(255),ParcelID)\n",
                "\n",
                "Update Nashville\n",
                "set SoldAsVacant = convert(varbinary,SoldAsVacant)\n",
                "\n",
                "Update Nashville\n",
                "set SalePrice = convert(money,SalePrice)\n",
                "\n",
                "select top(5) *\n",
                "from Nashville\n",
                "\n",
                "\n",
                ""
            ],
            "metadata": {
                "azdata_cell_guid": "8a44b849-2a0e-459f-8546-f52c45da13e0",
                "language": "sql"
            },
            "outputs": [
                {
                    "output_type": "display_data",
                    "data": {
                        "text/html": "(56477 rows affected)"
                    },
                    "metadata": {}
                },
                {
                    "output_type": "display_data",
                    "data": {
                        "text/html": "(56477 rows affected)"
                    },
                    "metadata": {}
                },
                {
                    "output_type": "display_data",
                    "data": {
                        "text/html": "(56477 rows affected)"
                    },
                    "metadata": {}
                },
                {
                    "output_type": "display_data",
                    "data": {
                        "text/html": "(56477 rows affected)"
                    },
                    "metadata": {}
                },
                {
                    "output_type": "display_data",
                    "data": {
                        "text/html": "(5 rows affected)"
                    },
                    "metadata": {}
                },
                {
                    "output_type": "display_data",
                    "data": {
                        "text/html": "Total execution time: 00:00:01.979"
                    },
                    "metadata": {}
                },
                {
                    "output_type": "execute_result",
                    "metadata": {},
                    "execution_count": 46,
                    "data": {
                        "application/vnd.dataresource+json": {
                            "schema": {
                                "fields": [
                                    {
                                        "name": "UniqueID"
                                    },
                                    {
                                        "name": "ParcelID"
                                    },
                                    {
                                        "name": "LandUse"
                                    },
                                    {
                                        "name": "PropertyAddress"
                                    },
                                    {
                                        "name": "SaleDate"
                                    },
                                    {
                                        "name": "SalePrice"
                                    },
                                    {
                                        "name": "LegalReference"
                                    },
                                    {
                                        "name": "SoldAsVacant"
                                    },
                                    {
                                        "name": "OwnerName"
                                    },
                                    {
                                        "name": "OwnerAddress"
                                    },
                                    {
                                        "name": "Acreage"
                                    },
                                    {
                                        "name": "TaxDistrict"
                                    },
                                    {
                                        "name": "LandValue"
                                    },
                                    {
                                        "name": "BuildingValue"
                                    },
                                    {
                                        "name": "TotalValue"
                                    },
                                    {
                                        "name": "YearBuilt"
                                    },
                                    {
                                        "name": "Bedrooms"
                                    },
                                    {
                                        "name": "FullBath"
                                    },
                                    {
                                        "name": "HalfBath"
                                    }
                                ]
                            },
                            "data": [
                                {
                                    "0": "2045",
                                    "1": "007 00 0 125.00",
                                    "2": "SINGLE FAMILY",
                                    "3": "1808  FOX CHASE DR, GOODLETTSVILLE",
                                    "4": "2013-04-09",
                                    "5": "240000.00",
                                    "6": "20130412-0036474",
                                    "7": "No",
                                    "8": "FRAZIER, CYRENTHA LYNETTE",
                                    "9": "1808  FOX CHASE DR, GOODLETTSVILLE, TN",
                                    "10": "2.3",
                                    "11": "GENERAL SERVICES DISTRICT",
                                    "12": "50000",
                                    "13": "168200",
                                    "14": "235700",
                                    "15": "1986",
                                    "16": "3",
                                    "17": "3",
                                    "18": "0"
                                },
                                {
                                    "0": "16918",
                                    "1": "007 00 0 130.00",
                                    "2": "SINGLE FAMILY",
                                    "3": "1832  FOX CHASE DR, GOODLETTSVILLE",
                                    "4": "2014-06-10",
                                    "5": "366000.00",
                                    "6": "20140619-0053768",
                                    "7": "No",
                                    "8": "BONER, CHARLES & LESLIE",
                                    "9": "1832  FOX CHASE DR, GOODLETTSVILLE, TN",
                                    "10": "3.5",
                                    "11": "GENERAL SERVICES DISTRICT",
                                    "12": "50000",
                                    "13": "264100",
                                    "14": "319000",
                                    "15": "1998",
                                    "16": "3",
                                    "17": "3",
                                    "18": "2"
                                },
                                {
                                    "0": "54582",
                                    "1": "007 00 0 138.00",
                                    "2": "SINGLE FAMILY",
                                    "3": "1864 FOX CHASE  DR, GOODLETTSVILLE",
                                    "4": "2016-09-26",
                                    "5": "435000.00",
                                    "6": "20160927-0101718",
                                    "7": "No",
                                    "8": "WILSON, JAMES E. & JOANNE",
                                    "9": "1864  FOX CHASE DR, GOODLETTSVILLE, TN",
                                    "10": "2.9",
                                    "11": "GENERAL SERVICES DISTRICT",
                                    "12": "50000",
                                    "13": "216200",
                                    "14": "298000",
                                    "15": "1987",
                                    "16": "4",
                                    "17": "3",
                                    "18": "0"
                                },
                                {
                                    "0": "43070",
                                    "1": "007 00 0 143.00",
                                    "2": "SINGLE FAMILY",
                                    "3": "1853  FOX CHASE DR, GOODLETTSVILLE",
                                    "4": "2016-01-29",
                                    "5": "255000.00",
                                    "6": "20160129-0008913",
                                    "7": "No",
                                    "8": "BAKER, JAY K. & SUSAN E.",
                                    "9": "1853  FOX CHASE DR, GOODLETTSVILLE, TN",
                                    "10": "2.6",
                                    "11": "GENERAL SERVICES DISTRICT",
                                    "12": "50000",
                                    "13": "147300",
                                    "14": "197300",
                                    "15": "1985",
                                    "16": "3",
                                    "17": "3",
                                    "18": "0"
                                },
                                {
                                    "0": "22714",
                                    "1": "007 00 0 149.00",
                                    "2": "SINGLE FAMILY",
                                    "3": "1829  FOX CHASE DR, GOODLETTSVILLE",
                                    "4": "2014-10-10",
                                    "5": "278000.00",
                                    "6": "20141015-0095255",
                                    "7": "No",
                                    "8": "POST, CHRISTOPHER M. & SAMANTHA C.",
                                    "9": "1829  FOX CHASE DR, GOODLETTSVILLE, TN",
                                    "10": "2",
                                    "11": "GENERAL SERVICES DISTRICT",
                                    "12": "50000",
                                    "13": "152300",
                                    "14": "202300",
                                    "15": "1984",
                                    "16": "4",
                                    "17": "3",
                                    "18": "0"
                                }
                            ]
                        },
                        "text/html": [
                            "<table>",
                            "<tr><th>UniqueID</th><th>ParcelID</th><th>LandUse</th><th>PropertyAddress</th><th>SaleDate</th><th>SalePrice</th><th>LegalReference</th><th>SoldAsVacant</th><th>OwnerName</th><th>OwnerAddress</th><th>Acreage</th><th>TaxDistrict</th><th>LandValue</th><th>BuildingValue</th><th>TotalValue</th><th>YearBuilt</th><th>Bedrooms</th><th>FullBath</th><th>HalfBath</th></tr>",
                            "<tr><td>2045</td><td>007 00 0 125.00</td><td>SINGLE FAMILY</td><td>1808  FOX CHASE DR, GOODLETTSVILLE</td><td>2013-04-09</td><td>240000.00</td><td>20130412-0036474</td><td>No</td><td>FRAZIER, CYRENTHA LYNETTE</td><td>1808  FOX CHASE DR, GOODLETTSVILLE, TN</td><td>2.3</td><td>GENERAL SERVICES DISTRICT</td><td>50000</td><td>168200</td><td>235700</td><td>1986</td><td>3</td><td>3</td><td>0</td></tr>",
                            "<tr><td>16918</td><td>007 00 0 130.00</td><td>SINGLE FAMILY</td><td>1832  FOX CHASE DR, GOODLETTSVILLE</td><td>2014-06-10</td><td>366000.00</td><td>20140619-0053768</td><td>No</td><td>BONER, CHARLES &amp; LESLIE</td><td>1832  FOX CHASE DR, GOODLETTSVILLE, TN</td><td>3.5</td><td>GENERAL SERVICES DISTRICT</td><td>50000</td><td>264100</td><td>319000</td><td>1998</td><td>3</td><td>3</td><td>2</td></tr>",
                            "<tr><td>54582</td><td>007 00 0 138.00</td><td>SINGLE FAMILY</td><td>1864 FOX CHASE  DR, GOODLETTSVILLE</td><td>2016-09-26</td><td>435000.00</td><td>20160927-0101718</td><td>No</td><td>WILSON, JAMES E. &amp; JOANNE</td><td>1864  FOX CHASE DR, GOODLETTSVILLE, TN</td><td>2.9</td><td>GENERAL SERVICES DISTRICT</td><td>50000</td><td>216200</td><td>298000</td><td>1987</td><td>4</td><td>3</td><td>0</td></tr>",
                            "<tr><td>43070</td><td>007 00 0 143.00</td><td>SINGLE FAMILY</td><td>1853  FOX CHASE DR, GOODLETTSVILLE</td><td>2016-01-29</td><td>255000.00</td><td>20160129-0008913</td><td>No</td><td>BAKER, JAY K. &amp; SUSAN E.</td><td>1853  FOX CHASE DR, GOODLETTSVILLE, TN</td><td>2.6</td><td>GENERAL SERVICES DISTRICT</td><td>50000</td><td>147300</td><td>197300</td><td>1985</td><td>3</td><td>3</td><td>0</td></tr>",
                            "<tr><td>22714</td><td>007 00 0 149.00</td><td>SINGLE FAMILY</td><td>1829  FOX CHASE DR, GOODLETTSVILLE</td><td>2014-10-10</td><td>278000.00</td><td>20141015-0095255</td><td>No</td><td>POST, CHRISTOPHER M. &amp; SAMANTHA C.</td><td>1829  FOX CHASE DR, GOODLETTSVILLE, TN</td><td>2</td><td>GENERAL SERVICES DISTRICT</td><td>50000</td><td>152300</td><td>202300</td><td>1984</td><td>4</td><td>3</td><td>0</td></tr>",
                            "</table>"
                        ]
                    }
                }
            ],
            "execution_count": 46
        },
        {
            "cell_type": "markdown",
            "source": [
                "2\\. populate propertyAddress with null values"
            ],
            "metadata": {
                "azdata_cell_guid": "c519b812-65b6-4db9-a064-bde4ef013b10"
            },
            "attachments": {}
        },
        {
            "cell_type": "code",
            "source": [
                "select TableA.UniqueID,TableB.uniqueID,TableA.ParcelID,TableA.PropertyAddress,TableB.PropertyAddress\n",
                "from Nashville TableA\n",
                "join NaShville TableB\n",
                "on TableA.UniqueID <> TableB.UniqueID\n",
                "AND TableA.ParcelID = TableB.ParcelID\n",
                "WHERE TableA.PropertyAddress IS NULL\n",
                "\n",
                "\n",
                "UPDATE TABLEA\n",
                "SET propertyAddress = isnull(TABLEA.propertyAddress,TABLEB.propertyAddress)\n",
                "from Nashville TableA\n",
                "join NaShville TableB\n",
                "on TableA.UniqueID <> TableB.UniqueID\n",
                "AND TableA.ParcelID = TableB.ParcelID\n",
                "where TableA.PropertyAddress is null\n",
                "\n",
                "\n",
                ""
            ],
            "metadata": {
                "azdata_cell_guid": "6df7b1f6-cdfb-403a-a688-b4200714a3b3",
                "language": "sql",
                "tags": []
            },
            "outputs": [
                {
                    "output_type": "display_data",
                    "data": {
                        "text/html": "(0 rows affected)"
                    },
                    "metadata": {}
                },
                {
                    "output_type": "display_data",
                    "data": {
                        "text/html": "(0 rows affected)"
                    },
                    "metadata": {}
                },
                {
                    "output_type": "display_data",
                    "data": {
                        "text/html": "Total execution time: 00:00:00.555"
                    },
                    "metadata": {}
                },
                {
                    "output_type": "execute_result",
                    "metadata": {},
                    "execution_count": 42,
                    "data": {
                        "application/vnd.dataresource+json": {
                            "schema": {
                                "fields": [
                                    {
                                        "name": "UniqueID"
                                    },
                                    {
                                        "name": "uniqueID"
                                    },
                                    {
                                        "name": "ParcelID"
                                    },
                                    {
                                        "name": "PropertyAddress"
                                    },
                                    {
                                        "name": "PropertyAddress"
                                    }
                                ]
                            },
                            "data": []
                        },
                        "text/html": [
                            "<table>",
                            "<tr><th>UniqueID</th><th>uniqueID</th><th>ParcelID</th><th>PropertyAddress</th><th>PropertyAddress</th></tr>",
                            "</table>"
                        ]
                    }
                }
            ],
            "execution_count": 42
        },
        {
            "cell_type": "markdown",
            "source": [
                "2b. populate OwnerAddress with null values if applicable"
            ],
            "metadata": {
                "language": "sql",
                "azdata_cell_guid": "646ca686-b6bc-4f96-aeaa-90e9949b0430"
            },
            "attachments": {}
        },
        {
            "cell_type": "code",
            "source": [
                "select TableA.UniqueID,TableB.uniqueID,TableA.ParcelID,TableA.OwnerAddress,TableB.OwnerAddress\n",
                "from Nashville TableA\n",
                "join NaShville TableB\n",
                "on TableA.UniqueID <> TableB.UniqueID\n",
                "AND TableA.ParcelID = TableB.ParcelID\n",
                "WHERE TableA.OwnerAddress IS NULL AND TableB.OwnerAddress is not null\n",
                "\n",
                "UPDATE TABLEA\n",
                "SET OwnerAddress = isnull(TABLEA.OwnerAddress,TABLEB.OwnerAddress)\n",
                "from Nashville TableA\n",
                "join NaShville TableB\n",
                "on TableA.UniqueID <> TableB.UniqueID\n",
                "AND TableA.ParcelID = TableB.ParcelID\n",
                "where TableA.OwnerAddress is null\n",
                ""
            ],
            "metadata": {
                "language": "sql",
                "azdata_cell_guid": "390f2c4b-1ac0-4bc1-a929-fa5f74d70b6b"
            },
            "outputs": [
                {
                    "output_type": "display_data",
                    "data": {
                        "text/html": "(0 rows affected)"
                    },
                    "metadata": {}
                },
                {
                    "output_type": "display_data",
                    "data": {
                        "text/html": "(8343 rows affected)"
                    },
                    "metadata": {}
                },
                {
                    "output_type": "display_data",
                    "data": {
                        "text/html": "Total execution time: 00:00:00.603"
                    },
                    "metadata": {}
                },
                {
                    "output_type": "execute_result",
                    "metadata": {},
                    "execution_count": 105,
                    "data": {
                        "application/vnd.dataresource+json": {
                            "schema": {
                                "fields": [
                                    {
                                        "name": "UniqueID"
                                    },
                                    {
                                        "name": "uniqueID"
                                    },
                                    {
                                        "name": "ParcelID"
                                    },
                                    {
                                        "name": "OwnerAddress"
                                    },
                                    {
                                        "name": "OwnerAddress"
                                    }
                                ]
                            },
                            "data": []
                        },
                        "text/html": [
                            "<table>",
                            "<tr><th>UniqueID</th><th>uniqueID</th><th>ParcelID</th><th>OwnerAddress</th><th>OwnerAddress</th></tr>",
                            "</table>"
                        ]
                    }
                }
            ],
            "execution_count": 105
        },
        {
            "cell_type": "markdown",
            "source": [
                "3\\. substring the propertyAddress column"
            ],
            "metadata": {
                "azdata_cell_guid": "60620ce4-351b-42ee-95e5-7417e6d9ef9b"
            },
            "attachments": {}
        },
        {
            "cell_type": "code",
            "source": [
                "ALTER TABLE Nashville\n",
                "Add PropertyCityAddress NVARCHAR(255);\n",
                ""
            ],
            "metadata": {
                "azdata_cell_guid": "08c460f1-9dbe-47ec-b474-25af049908f3",
                "language": "sql",
                "tags": []
            },
            "outputs": [
                {
                    "output_type": "error",
                    "evalue": "Msg 2705, Level 16, State 4, Line 1\nColumn names in each table must be unique. Column name 'PropertyCityAddress' in table 'Nashville' is specified more than once.",
                    "ename": "",
                    "traceback": []
                },
                {
                    "output_type": "display_data",
                    "data": {
                        "text/html": "Total execution time: 00:00:00.065"
                    },
                    "metadata": {}
                }
            ],
            "execution_count": 56
        },
        {
            "cell_type": "code",
            "source": [
                "ALTER TABLE Nashville\n",
                "Add NewPropertyAddress NVARCHAR(255);"
            ],
            "metadata": {
                "language": "sql",
                "azdata_cell_guid": "0ec4920a-31cc-497f-90ca-6c2cf8ee71fe"
            },
            "outputs": [
                {
                    "output_type": "display_data",
                    "data": {
                        "text/html": "Commands completed successfully."
                    },
                    "metadata": {}
                },
                {
                    "output_type": "display_data",
                    "data": {
                        "text/html": "Total execution time: 00:00:00.146"
                    },
                    "metadata": {}
                }
            ],
            "execution_count": 61
        },
        {
            "cell_type": "code",
            "source": [
                "UPDATE Nashville\n",
                "set PropertyCityAddress = SUBSTRING(PropertyAddress,CHARINDEX(',',PropertyAddress)+2,LEN(PropertyAddress))\n",
                "\n",
                "UPDATE Nashville\n",
                "set NewPropertyAddress = SUBSTRING(PropertyAddress,1,CHARINDEX(',',PropertyAddress)-1)\n",
                "\n",
                "select top (5) propertycityaddress, NewPropertyAddress\n",
                "from Nashville"
            ],
            "metadata": {
                "language": "sql",
                "azdata_cell_guid": "cc933672-5ca3-4f7c-9db0-abf5acf8d98c"
            },
            "outputs": [
                {
                    "output_type": "display_data",
                    "data": {
                        "text/html": "(56477 rows affected)"
                    },
                    "metadata": {}
                },
                {
                    "output_type": "display_data",
                    "data": {
                        "text/html": "(56477 rows affected)"
                    },
                    "metadata": {}
                },
                {
                    "output_type": "display_data",
                    "data": {
                        "text/html": "(5 rows affected)"
                    },
                    "metadata": {}
                },
                {
                    "output_type": "display_data",
                    "data": {
                        "text/html": "Total execution time: 00:00:01.301"
                    },
                    "metadata": {}
                },
                {
                    "output_type": "execute_result",
                    "metadata": {},
                    "execution_count": 66,
                    "data": {
                        "application/vnd.dataresource+json": {
                            "schema": {
                                "fields": [
                                    {
                                        "name": "propertycityaddress"
                                    },
                                    {
                                        "name": "NewPropertyAddress"
                                    }
                                ]
                            },
                            "data": [
                                {
                                    "0": "GOODLETTSVILLE",
                                    "1": "1808  FOX CHASE DR"
                                },
                                {
                                    "0": "GOODLETTSVILLE",
                                    "1": "1832  FOX CHASE DR"
                                },
                                {
                                    "0": "GOODLETTSVILLE",
                                    "1": "1864 FOX CHASE  DR"
                                },
                                {
                                    "0": "GOODLETTSVILLE",
                                    "1": "1853  FOX CHASE DR"
                                },
                                {
                                    "0": "GOODLETTSVILLE",
                                    "1": "1829  FOX CHASE DR"
                                }
                            ]
                        },
                        "text/html": [
                            "<table>",
                            "<tr><th>propertycityaddress</th><th>NewPropertyAddress</th></tr>",
                            "<tr><td>GOODLETTSVILLE</td><td>1808  FOX CHASE DR</td></tr>",
                            "<tr><td>GOODLETTSVILLE</td><td>1832  FOX CHASE DR</td></tr>",
                            "<tr><td>GOODLETTSVILLE</td><td>1864 FOX CHASE  DR</td></tr>",
                            "<tr><td>GOODLETTSVILLE</td><td>1853  FOX CHASE DR</td></tr>",
                            "<tr><td>GOODLETTSVILLE</td><td>1829  FOX CHASE DR</td></tr>",
                            "</table>"
                        ]
                    }
                }
            ],
            "execution_count": 66
        },
        {
            "cell_type": "markdown",
            "source": [
                "4\\. Substring the owner address"
            ],
            "metadata": {
                "language": "sql",
                "azdata_cell_guid": "831f538f-a718-4d87-848e-12370976c518"
            },
            "attachments": {}
        },
        {
            "cell_type": "code",
            "source": [
                "ALTER TABLE Nashville\n",
                "Add OwnerCityAddress NVARCHAR(255), NewOwnerAddress NVARCHAR(255); OwnerStateAddress NVARCHAR(255)\n",
                ""
            ],
            "metadata": {
                "language": "sql",
                "azdata_cell_guid": "6af574c3-adbc-437b-a2cd-9a3923f1e9bb",
                "tags": []
            },
            "outputs": [
                {
                    "output_type": "display_data",
                    "data": {
                        "text/html": "Commands completed successfully."
                    },
                    "metadata": {}
                },
                {
                    "output_type": "display_data",
                    "data": {
                        "text/html": "Total execution time: 00:00:00.051"
                    },
                    "metadata": {}
                }
            ],
            "execution_count": 70
        },
        {
            "cell_type": "code",
            "source": [
                "UPDATE Nashville\n",
                "set OwnerStateAddress = RIGHT(OwnerAddress,2)\n",
                "\n",
                "UPDATE Nashville\n",
                "set NewOwnerAddress = SUBSTRING(OwnerAddress,1,CHARINDEX(',',OwnerAddress)-1)\n",
                "\n",
                "-- you can use parsename for all of them, but note that it is in reverse order\n",
                "UPDATE Nashville\n",
                "set OwnerCityAddress = PARSENAME(REPLACE(OwnerAddress, ',', '.') , 2)\n",
                "\n",
                "\n",
                ""
            ],
            "metadata": {
                "language": "sql",
                "azdata_cell_guid": "b51b724f-f4c9-44d8-9aed-957b8aa2c46b"
            },
            "outputs": [
                {
                    "output_type": "display_data",
                    "data": {
                        "text/html": "(56477 rows affected)"
                    },
                    "metadata": {}
                },
                {
                    "output_type": "display_data",
                    "data": {
                        "text/html": "(56477 rows affected)"
                    },
                    "metadata": {}
                },
                {
                    "output_type": "display_data",
                    "data": {
                        "text/html": "(56477 rows affected)"
                    },
                    "metadata": {}
                },
                {
                    "output_type": "display_data",
                    "data": {
                        "text/html": "Total execution time: 00:00:02.604"
                    },
                    "metadata": {}
                }
            ],
            "execution_count": 106
        },
        {
            "cell_type": "markdown",
            "source": [
                "4\\. Update the data in soldasVacant for consistent"
            ],
            "metadata": {
                "azdata_cell_guid": "6430d00c-3372-4476-9fc3-edb25b57c139"
            },
            "attachments": {}
        },
        {
            "cell_type": "code",
            "source": [
                "select soldasvacant, count(SoldAsVacant)\n",
                "FROM Nashville\n",
                "GROUP by SoldAsVacant\n",
                "order by SoldAsVacant\n",
                "\n",
                "UPDATE Nashville\n",
                "set SoldAsVacant =  CASE WHEN SoldAsVacant = 'N' Then   'No'\n",
                "                WHEN SoldAsVacant = 'Y' Then   'Yes'\n",
                "            Else SoldAsVacant\n",
                "            END\n",
                ""
            ],
            "metadata": {
                "language": "sql",
                "azdata_cell_guid": "13e0e3d6-0b0b-4643-8b86-fe3ff6b182c4",
                "tags": []
            },
            "outputs": [
                {
                    "output_type": "display_data",
                    "data": {
                        "text/html": "(2 rows affected)"
                    },
                    "metadata": {}
                },
                {
                    "output_type": "display_data",
                    "data": {
                        "text/html": "(56477 rows affected)"
                    },
                    "metadata": {}
                },
                {
                    "output_type": "display_data",
                    "data": {
                        "text/html": "Total execution time: 00:00:02.006"
                    },
                    "metadata": {}
                },
                {
                    "output_type": "execute_result",
                    "metadata": {},
                    "execution_count": 117,
                    "data": {
                        "application/vnd.dataresource+json": {
                            "schema": {
                                "fields": [
                                    {
                                        "name": "soldasvacant"
                                    },
                                    {
                                        "name": "(No column name)"
                                    }
                                ]
                            },
                            "data": [
                                {
                                    "0": "No",
                                    "1": "51802"
                                },
                                {
                                    "0": "Yes",
                                    "1": "4675"
                                }
                            ]
                        },
                        "text/html": [
                            "<table>",
                            "<tr><th>soldasvacant</th><th>(No column name)</th></tr>",
                            "<tr><td>No</td><td>51802</td></tr>",
                            "<tr><td>Yes</td><td>4675</td></tr>",
                            "</table>"
                        ]
                    }
                },
                {
                    "output_type": "error",
                    "evalue": "Msg 245, Level 16, State 1, Line 12\nConversion failed when converting the nvarchar value 'No' to data type bit.",
                    "ename": "",
                    "traceback": []
                }
            ],
            "execution_count": 117
        },
        {
            "cell_type": "code",
            "source": [
                "-- check that no salesprice with null value\n",
                "select SalePrice\n",
                "from Nashville\n",
                "where SalePrice is null"
            ],
            "metadata": {
                "azdata_cell_guid": "ea1c2bf4-4d8d-42c2-bdc7-11cf26fbcab8",
                "language": "sql"
            },
            "outputs": [
                {
                    "output_type": "display_data",
                    "data": {
                        "text/html": "(0 rows affected)"
                    },
                    "metadata": {}
                },
                {
                    "output_type": "display_data",
                    "data": {
                        "text/html": "Total execution time: 00:00:00.373"
                    },
                    "metadata": {}
                },
                {
                    "output_type": "execute_result",
                    "metadata": {},
                    "execution_count": 118,
                    "data": {
                        "application/vnd.dataresource+json": {
                            "schema": {
                                "fields": [
                                    {
                                        "name": "SalePrice"
                                    }
                                ]
                            },
                            "data": []
                        },
                        "text/html": [
                            "<table>",
                            "<tr><th>SalePrice</th></tr>",
                            "</table>"
                        ]
                    }
                }
            ],
            "execution_count": 118
        },
        {
            "cell_type": "markdown",
            "source": [
                "9\\. Remove all duplicates"
            ],
            "metadata": {
                "azdata_cell_guid": "5aaee3b4-ca43-42ab-a167-05ec6d3a3aee"
            },
            "attachments": {}
        },
        {
            "cell_type": "code",
            "source": [
                "With RowCTE AS(\n",
                "select *, ROW_NUMBER() OVER (PARTITION by parcelID,saleprice order by uniqueID) rownum\n",
                "from Nashville\n",
                ")\n",
                "\n",
                "DELETE\n",
                "from RowCTE\n",
                "WHERE rownum>1\n",
                "\n",
                "\n",
                "\n",
                ""
            ],
            "metadata": {
                "azdata_cell_guid": "b0281123-5689-4b69-99ba-c80fd3a79575",
                "language": "sql",
                "tags": []
            },
            "outputs": [
                {
                    "output_type": "error",
                    "evalue": "Msg 102, Level 15, State 1, Line 11\nIncorrect syntax near ','.",
                    "ename": "",
                    "traceback": []
                },
                {
                    "output_type": "display_data",
                    "data": {
                        "text/html": "Total execution time: 00:00:00.095"
                    },
                    "metadata": {}
                }
            ],
            "execution_count": 138
        },
        {
            "cell_type": "markdown",
            "source": [
                "10\\. Remove redundant columns"
            ],
            "metadata": {
                "language": "sql",
                "azdata_cell_guid": "0ada7446-9a48-47a3-ad3a-981096bc34ac"
            },
            "attachments": {}
        },
        {
            "cell_type": "markdown",
            "source": [
                ""
            ],
            "metadata": {
                "language": "sql",
                "azdata_cell_guid": "d4713091-0193-495d-85e0-4f49bdde7419"
            },
            "attachments": {}
        },
        {
            "cell_type": "code",
            "source": [
                "alter TABLE nashville\n",
                "drop column owneraddress"
            ],
            "metadata": {
                "language": "sql",
                "azdata_cell_guid": "a92a8e74-6536-47ac-bbc4-dd003991cb5e",
                "tags": []
            },
            "outputs": [
                {
                    "output_type": "display_data",
                    "data": {
                        "text/html": "Commands completed successfully."
                    },
                    "metadata": {}
                },
                {
                    "output_type": "display_data",
                    "data": {
                        "text/html": "Total execution time: 00:00:00.340"
                    },
                    "metadata": {}
                }
            ],
            "execution_count": 142
        },
        {
            "cell_type": "code",
            "source": [
                "alter TABLE nashville\n",
                "drop column propertyaddress"
            ],
            "metadata": {
                "language": "sql",
                "azdata_cell_guid": "51dcddd4-b867-4d82-b3d2-1188b631b278"
            },
            "outputs": [
                {
                    "output_type": "error",
                    "evalue": "Msg 4924, Level 16, State 1, Line 1\nALTER TABLE DROP COLUMN failed because column 'propertyaddress' does not exist in table 'Nashville'.",
                    "ename": "",
                    "traceback": []
                },
                {
                    "output_type": "display_data",
                    "data": {
                        "text/html": "Total execution time: 00:00:00.080"
                    },
                    "metadata": {}
                }
            ],
            "execution_count": 146
        },
        {
            "cell_type": "code",
            "source": [
                "select Top(5) *\n",
                "From Nashville\n",
                "\n",
                ""
            ],
            "metadata": {
                "language": "sql",
                "azdata_cell_guid": "cb37882a-0db6-4851-9004-f8b8a6d8ef49",
                "tags": []
            },
            "outputs": [
                {
                    "output_type": "display_data",
                    "data": {
                        "text/html": "(5 rows affected)"
                    },
                    "metadata": {}
                },
                {
                    "output_type": "display_data",
                    "data": {
                        "text/html": "Total execution time: 00:00:00.782"
                    },
                    "metadata": {}
                },
                {
                    "output_type": "execute_result",
                    "metadata": {},
                    "execution_count": 163,
                    "data": {
                        "application/vnd.dataresource+json": {
                            "schema": {
                                "fields": [
                                    {
                                        "name": "UniqueID"
                                    },
                                    {
                                        "name": "ParcelID"
                                    },
                                    {
                                        "name": "LandUse"
                                    },
                                    {
                                        "name": "SaleDate"
                                    },
                                    {
                                        "name": "SalePrice"
                                    },
                                    {
                                        "name": "LegalReference"
                                    },
                                    {
                                        "name": "SoldAsVacant"
                                    },
                                    {
                                        "name": "OwnerName"
                                    },
                                    {
                                        "name": "Acreage"
                                    },
                                    {
                                        "name": "TaxDistrict"
                                    },
                                    {
                                        "name": "LandValue"
                                    },
                                    {
                                        "name": "BuildingValue"
                                    },
                                    {
                                        "name": "TotalValue"
                                    },
                                    {
                                        "name": "YearBuilt"
                                    },
                                    {
                                        "name": "Bedrooms"
                                    },
                                    {
                                        "name": "FullBath"
                                    },
                                    {
                                        "name": "HalfBath"
                                    },
                                    {
                                        "name": "PropertyCityAddress"
                                    },
                                    {
                                        "name": "NewPropertyAddress"
                                    },
                                    {
                                        "name": "OwnerCityAddress"
                                    },
                                    {
                                        "name": "NewOwnerAddress"
                                    },
                                    {
                                        "name": "OwnerStateAddress"
                                    }
                                ]
                            },
                            "data": [
                                {
                                    "0": "2045",
                                    "1": "007 00 0 125.00",
                                    "2": "SINGLE FAMILY",
                                    "3": "2013-04-09",
                                    "4": "240000.00",
                                    "5": "20130412-0036474",
                                    "6": "No",
                                    "7": "FRAZIER, CYRENTHA LYNETTE",
                                    "8": "2.3",
                                    "9": "GENERAL SERVICES DISTRICT",
                                    "10": "50000",
                                    "11": "168200",
                                    "12": "235700",
                                    "13": "1986",
                                    "14": "3",
                                    "15": "3",
                                    "16": "0",
                                    "17": "GOODLETTSVILLE",
                                    "18": "1808  FOX CHASE DR",
                                    "19": " GOODLETTSVILLE",
                                    "20": "1808  FOX CHASE DR",
                                    "21": "TN"
                                },
                                {
                                    "0": "16918",
                                    "1": "007 00 0 130.00",
                                    "2": "SINGLE FAMILY",
                                    "3": "2014-06-10",
                                    "4": "366000.00",
                                    "5": "20140619-0053768",
                                    "6": "No",
                                    "7": "BONER, CHARLES & LESLIE",
                                    "8": "3.5",
                                    "9": "GENERAL SERVICES DISTRICT",
                                    "10": "50000",
                                    "11": "264100",
                                    "12": "319000",
                                    "13": "1998",
                                    "14": "3",
                                    "15": "3",
                                    "16": "2",
                                    "17": "GOODLETTSVILLE",
                                    "18": "1832  FOX CHASE DR",
                                    "19": " GOODLETTSVILLE",
                                    "20": "1832  FOX CHASE DR",
                                    "21": "TN"
                                },
                                {
                                    "0": "54582",
                                    "1": "007 00 0 138.00",
                                    "2": "SINGLE FAMILY",
                                    "3": "2016-09-26",
                                    "4": "435000.00",
                                    "5": "20160927-0101718",
                                    "6": "No",
                                    "7": "WILSON, JAMES E. & JOANNE",
                                    "8": "2.9",
                                    "9": "GENERAL SERVICES DISTRICT",
                                    "10": "50000",
                                    "11": "216200",
                                    "12": "298000",
                                    "13": "1987",
                                    "14": "4",
                                    "15": "3",
                                    "16": "0",
                                    "17": "GOODLETTSVILLE",
                                    "18": "1864 FOX CHASE  DR",
                                    "19": " GOODLETTSVILLE",
                                    "20": "1864  FOX CHASE DR",
                                    "21": "TN"
                                },
                                {
                                    "0": "43070",
                                    "1": "007 00 0 143.00",
                                    "2": "SINGLE FAMILY",
                                    "3": "2016-01-29",
                                    "4": "255000.00",
                                    "5": "20160129-0008913",
                                    "6": "No",
                                    "7": "BAKER, JAY K. & SUSAN E.",
                                    "8": "2.6",
                                    "9": "GENERAL SERVICES DISTRICT",
                                    "10": "50000",
                                    "11": "147300",
                                    "12": "197300",
                                    "13": "1985",
                                    "14": "3",
                                    "15": "3",
                                    "16": "0",
                                    "17": "GOODLETTSVILLE",
                                    "18": "1853  FOX CHASE DR",
                                    "19": " GOODLETTSVILLE",
                                    "20": "1853  FOX CHASE DR",
                                    "21": "TN"
                                },
                                {
                                    "0": "22714",
                                    "1": "007 00 0 149.00",
                                    "2": "SINGLE FAMILY",
                                    "3": "2014-10-10",
                                    "4": "278000.00",
                                    "5": "20141015-0095255",
                                    "6": "No",
                                    "7": "POST, CHRISTOPHER M. & SAMANTHA C.",
                                    "8": "2",
                                    "9": "GENERAL SERVICES DISTRICT",
                                    "10": "50000",
                                    "11": "152300",
                                    "12": "202300",
                                    "13": "1984",
                                    "14": "4",
                                    "15": "3",
                                    "16": "0",
                                    "17": "GOODLETTSVILLE",
                                    "18": "1829  FOX CHASE DR",
                                    "19": " GOODLETTSVILLE",
                                    "20": "1829  FOX CHASE DR",
                                    "21": "TN"
                                }
                            ]
                        },
                        "text/html": [
                            "<table>",
                            "<tr><th>UniqueID</th><th>ParcelID</th><th>LandUse</th><th>SaleDate</th><th>SalePrice</th><th>LegalReference</th><th>SoldAsVacant</th><th>OwnerName</th><th>Acreage</th><th>TaxDistrict</th><th>LandValue</th><th>BuildingValue</th><th>TotalValue</th><th>YearBuilt</th><th>Bedrooms</th><th>FullBath</th><th>HalfBath</th><th>PropertyCityAddress</th><th>NewPropertyAddress</th><th>OwnerCityAddress</th><th>NewOwnerAddress</th><th>OwnerStateAddress</th></tr>",
                            "<tr><td>2045</td><td>007 00 0 125.00</td><td>SINGLE FAMILY</td><td>2013-04-09</td><td>240000.00</td><td>20130412-0036474</td><td>No</td><td>FRAZIER, CYRENTHA LYNETTE</td><td>2.3</td><td>GENERAL SERVICES DISTRICT</td><td>50000</td><td>168200</td><td>235700</td><td>1986</td><td>3</td><td>3</td><td>0</td><td>GOODLETTSVILLE</td><td>1808  FOX CHASE DR</td><td> GOODLETTSVILLE</td><td>1808  FOX CHASE DR</td><td>TN</td></tr>",
                            "<tr><td>16918</td><td>007 00 0 130.00</td><td>SINGLE FAMILY</td><td>2014-06-10</td><td>366000.00</td><td>20140619-0053768</td><td>No</td><td>BONER, CHARLES &amp; LESLIE</td><td>3.5</td><td>GENERAL SERVICES DISTRICT</td><td>50000</td><td>264100</td><td>319000</td><td>1998</td><td>3</td><td>3</td><td>2</td><td>GOODLETTSVILLE</td><td>1832  FOX CHASE DR</td><td> GOODLETTSVILLE</td><td>1832  FOX CHASE DR</td><td>TN</td></tr>",
                            "<tr><td>54582</td><td>007 00 0 138.00</td><td>SINGLE FAMILY</td><td>2016-09-26</td><td>435000.00</td><td>20160927-0101718</td><td>No</td><td>WILSON, JAMES E. &amp; JOANNE</td><td>2.9</td><td>GENERAL SERVICES DISTRICT</td><td>50000</td><td>216200</td><td>298000</td><td>1987</td><td>4</td><td>3</td><td>0</td><td>GOODLETTSVILLE</td><td>1864 FOX CHASE  DR</td><td> GOODLETTSVILLE</td><td>1864  FOX CHASE DR</td><td>TN</td></tr>",
                            "<tr><td>43070</td><td>007 00 0 143.00</td><td>SINGLE FAMILY</td><td>2016-01-29</td><td>255000.00</td><td>20160129-0008913</td><td>No</td><td>BAKER, JAY K. &amp; SUSAN E.</td><td>2.6</td><td>GENERAL SERVICES DISTRICT</td><td>50000</td><td>147300</td><td>197300</td><td>1985</td><td>3</td><td>3</td><td>0</td><td>GOODLETTSVILLE</td><td>1853  FOX CHASE DR</td><td> GOODLETTSVILLE</td><td>1853  FOX CHASE DR</td><td>TN</td></tr>",
                            "<tr><td>22714</td><td>007 00 0 149.00</td><td>SINGLE FAMILY</td><td>2014-10-10</td><td>278000.00</td><td>20141015-0095255</td><td>No</td><td>POST, CHRISTOPHER M. &amp; SAMANTHA C.</td><td>2</td><td>GENERAL SERVICES DISTRICT</td><td>50000</td><td>152300</td><td>202300</td><td>1984</td><td>4</td><td>3</td><td>0</td><td>GOODLETTSVILLE</td><td>1829  FOX CHASE DR</td><td> GOODLETTSVILLE</td><td>1829  FOX CHASE DR</td><td>TN</td></tr>",
                            "</table>"
                        ]
                    }
                }
            ],
            "execution_count": 163
        }
    ]
}